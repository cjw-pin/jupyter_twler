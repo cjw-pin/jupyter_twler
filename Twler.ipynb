{
 "cells": [
  {
   "cell_type": "code",
   "execution_count": 7,
   "metadata": {},
   "outputs": [],
   "source": [
    "import plotly as py\n",
    "from plotly.offline import iplot, download_plotlyjs, init_notebook_mode, plot\n",
    "import plotly.graph_objects as go\n",
    "import numpy as np\n",
    "import pandas as pd\n",
    "from scipy.stats import poisson\n",
    "from collections import Counter\n",
    "\n",
    "import plotly.express as px"
   ]
  },
  {
   "cell_type": "code",
   "execution_count": 3,
   "metadata": {},
   "outputs": [],
   "source": [
    "df = pd.read_csv('cleaned_formatted_new_bw_2019.csv',header=0)"
   ]
  },
  {
   "cell_type": "code",
   "execution_count": 4,
   "metadata": {},
   "outputs": [],
   "source": [
    "#Selecting data from 2019 Worlds\n",
    "w19 = df.loc[df['event'] == '2019 IWF World Championships']"
   ]
  },
  {
   "cell_type": "code",
   "execution_count": 5,
   "metadata": {},
   "outputs": [
    {
     "data": {
      "application/vnd.plotly.v1+json": {
       "config": {
        "plotlyServerURL": "https://plot.ly"
       },
       "data": [
        {
         "customdata": [
          [
           "ERDOGAN"
          ],
          [
           "MONTERO RAMOS"
          ],
          [
           "SETIAWATI"
          ],
          [
           "VUONG"
          ],
          [
           "KHONG"
          ],
          [
           "QUINTANA MENDOZA"
          ],
          [
           "DIAZ"
          ],
          [
           "RANDAFIARISON"
          ],
          [
           "PANOVA"
          ],
          [
           "DOGAN"
          ],
          [
           "LANDEROS LOPEZ"
          ],
          [
           "PANDOVA"
          ],
          [
           "MAJER"
          ],
          [
           "ASAYONAK"
          ],
          [
           "AKHTER"
          ],
          [
           "NAVARRO MEJIA"
          ],
          [
           "DALABEHERA"
          ],
          [
           "LEE"
          ],
          [
           "ERDOGAN"
          ],
          [
           "MONTERO RAMOS"
          ],
          [
           "SETIAWATI"
          ],
          [
           "VUONG"
          ],
          [
           "KHONG"
          ],
          [
           "QUINTANA MENDOZA"
          ],
          [
           "DIAZ"
          ],
          [
           "RANDAFIARISON"
          ],
          [
           "PANOVA"
          ],
          [
           "DOGAN"
          ],
          [
           "LANDEROS LOPEZ"
          ],
          [
           "PANDOVA"
          ],
          [
           "MAJER"
          ],
          [
           "ASAYONAK"
          ],
          [
           "AKHTER"
          ],
          [
           "NAVARRO MEJIA"
          ],
          [
           "DALABEHERA"
          ],
          [
           "LEE"
          ]
         ],
         "hoverlabel": {
          "namelength": 0
         },
         "hovertemplate": "category=45<br>bweight=%{x}<br>total=%{y}<br>lname=%{customdata[0]}",
         "legendgroup": "category=45",
         "marker": {
          "color": "#636efa",
          "symbol": "circle"
         },
         "mode": "markers",
         "name": "category=45",
         "showlegend": true,
         "type": "scattergl",
         "x": [
          45,
          44.95,
          44.35,
          44.85,
          44.55,
          44.75,
          44.9,
          43.8,
          44.9,
          44.95,
          45,
          44.9,
          44.75,
          44.6,
          44.8,
          44.5,
          44.95,
          44.85,
          45,
          44.95,
          44.35,
          44.85,
          44.55,
          44.75,
          44.9,
          43.8,
          44.9,
          44.95,
          45,
          44.9,
          44.75,
          44.6,
          44.8,
          44.5,
          44.95,
          44.85
         ],
         "xaxis": "x",
         "y": [
          169,
          167,
          165,
          164,
          161,
          157,
          156,
          155,
          153,
          148,
          143,
          142,
          136,
          125,
          124,
          0,
          0,
          0,
          169,
          167,
          165,
          164,
          161,
          157,
          156,
          155,
          153,
          148,
          143,
          142,
          136,
          125,
          124,
          0,
          0,
          0
         ],
         "yaxis": "y"
        },
        {
         "customdata": [
          [
           "JIANG"
          ],
          [
           "HOU"
          ],
          [
           "RI"
          ],
          [
           "MIRABAI"
          ],
          [
           "SEGURA SEGURA"
          ],
          [
           "SOBOL"
          ],
          [
           "PIRON CANDELARIO"
          ],
          [
           "KING"
          ],
          [
           "AISAH"
          ],
          [
           "MICHEL"
          ],
          [
           "TOUA"
          ],
          [
           "ROSA FIGUEIREDO"
          ],
          [
           "RITCHEY"
          ],
          [
           "ECHANDIA ZARATE"
          ],
          [
           "LIN"
          ],
          [
           "LORENTZ"
          ],
          [
           "BRADDOCK"
          ],
          [
           "OLIVEIRA MADEIRA"
          ],
          [
           "CAMPOVERDE ALMEIDA"
          ],
          [
           "RANAIVOSOA"
          ],
          [
           "PEREZ"
          ],
          [
           "ABDULLAEVA"
          ],
          [
           "ANDRIES"
          ],
          [
           "PATSEANG"
          ],
          [
           "CUEVA URIBE"
          ],
          [
           "BURGOS ORTIZ"
          ],
          [
           "BOMIRIYAGE GOMAS"
          ],
          [
           "ROBSON"
          ],
          [
           "GULAM"
          ],
          [
           "TAKAHASHI"
          ],
          [
           "MIYAKE"
          ],
          [
           "RUSSO"
          ],
          [
           "DZHUMABAYEVA"
          ],
          [
           "JIANG"
          ],
          [
           "HOU"
          ],
          [
           "RI"
          ],
          [
           "MIRABAI"
          ],
          [
           "SEGURA SEGURA"
          ],
          [
           "SOBOL"
          ],
          [
           "PIRON CANDELARIO"
          ],
          [
           "KING"
          ],
          [
           "AISAH"
          ],
          [
           "MICHEL"
          ],
          [
           "TOUA"
          ],
          [
           "ROSA FIGUEIREDO"
          ],
          [
           "RITCHEY"
          ],
          [
           "ECHANDIA ZARATE"
          ],
          [
           "LIN"
          ],
          [
           "LORENTZ"
          ],
          [
           "BRADDOCK"
          ],
          [
           "OLIVEIRA MADEIRA"
          ],
          [
           "CAMPOVERDE ALMEIDA"
          ],
          [
           "RANAIVOSOA"
          ],
          [
           "PEREZ"
          ],
          [
           "ABDULLAEVA"
          ],
          [
           "ANDRIES"
          ],
          [
           "PATSEANG"
          ],
          [
           "CUEVA URIBE"
          ],
          [
           "BURGOS ORTIZ"
          ],
          [
           "BOMIRIYAGE GOMAS"
          ],
          [
           "ROBSON"
          ],
          [
           "GULAM"
          ],
          [
           "TAKAHASHI"
          ],
          [
           "MIYAKE"
          ],
          [
           "RUSSO"
          ],
          [
           "DZHUMABAYEVA"
          ]
         ],
         "hoverlabel": {
          "namelength": 0
         },
         "hovertemplate": "category=49<br>bweight=%{x}<br>total=%{y}<br>lname=%{customdata[0]}",
         "legendgroup": "category=49",
         "marker": {
          "color": "#EF553B",
          "symbol": "circle"
         },
         "mode": "markers",
         "name": "category=49",
         "showlegend": true,
         "type": "scattergl",
         "x": [
          48.95,
          48.85,
          48.75,
          49,
          49,
          49,
          48.6,
          48.9,
          48.25,
          48.85,
          49,
          49,
          48.95,
          48.65,
          48.3,
          48.95,
          48.9,
          49,
          48.5,
          49,
          49,
          48.95,
          49,
          48.15,
          49,
          49,
          48.85,
          48.95,
          48.95,
          48.85,
          48.95,
          48.8,
          48.9,
          48.95,
          48.85,
          48.75,
          49,
          49,
          49,
          48.6,
          48.9,
          48.25,
          48.85,
          49,
          49,
          48.95,
          48.65,
          48.3,
          48.95,
          48.9,
          49,
          48.5,
          49,
          49,
          48.95,
          49,
          48.15,
          49,
          49,
          48.85,
          48.95,
          48.95,
          48.85,
          48.95,
          48.8,
          48.9
         ],
         "xaxis": "x",
         "y": [
          212,
          211,
          204,
          201,
          188,
          187,
          187,
          183,
          182,
          180,
          180,
          178,
          178,
          176,
          176,
          175,
          174,
          174,
          172,
          171,
          165,
          165,
          164,
          164,
          163,
          162,
          157,
          156,
          150,
          0,
          0,
          0,
          0,
          212,
          211,
          204,
          201,
          188,
          187,
          187,
          183,
          182,
          180,
          180,
          178,
          178,
          176,
          176,
          175,
          174,
          174,
          172,
          171,
          165,
          165,
          164,
          164,
          163,
          162,
          157,
          156,
          150,
          0,
          0,
          0,
          0
         ],
         "yaxis": "y"
        },
        {
         "customdata": [
          [
           "OM"
          ],
          [
           "LIAO"
          ],
          [
           "SON"
          ],
          [
           "ZHANG"
          ],
          [
           "AL SALEEM"
          ],
          [
           "DIAZ"
          ],
          [
           "NGUYEN"
          ],
          [
           "CHINSHANLO"
          ],
          [
           "CHONTEY"
          ],
          [
           "SINISTERRA TORRES"
          ],
          [
           "CENIZA"
          ],
          [
           "NABIEVA"
          ],
          [
           "GHASHGHAEI"
          ],
          [
           "LOPEZ FERRER"
          ],
          [
           "WIJOYO"
          ],
          [
           "LEBLANCBAZINET"
          ],
          [
           "MASSIDDA"
          ],
          [
           "DELACRUZ"
          ],
          [
           "YODAGE"
          ],
          [
           "ERSHOVA"
          ],
          [
           "LUNGU"
          ],
          [
           "SHERMETOVA"
          ],
          [
           "LOCHOWSKA"
          ],
          [
           "YAGI"
          ],
          [
           "MEGO CONTRERAS"
          ],
          [
           "LOMBARDO"
          ],
          [
           "KONOTOP"
          ],
          [
           "DOS REIS SANTOS"
          ],
          [
           "STERCKX"
          ],
          [
           "SADOYAMA"
          ],
          [
           "MAGISTRIS"
          ],
          [
           "CHIANG"
          ],
          [
           "LAURINDO MORAES"
          ],
          [
           "OVSTHUS"
          ],
          [
           "AZIMOVA"
          ],
          [
           "KENTLI"
          ],
          [
           "JOHNSON"
          ],
          [
           "BRUHN"
          ],
          [
           "HERNANDEZ MARTIN"
          ],
          [
           "JACOBSEN"
          ],
          [
           "SOREN"
          ],
          [
           "WILLIAMS"
          ],
          [
           "LANDOULSI"
          ],
          [
           "WARNAKULASURIYA"
          ],
          [
           "ZALATAROVA"
          ],
          [
           "JENSEN"
          ],
          [
           "LIFU"
          ],
          [
           "BASAMI"
          ],
          [
           "CHULUUNBAATAR"
          ],
          [
           "MARKOVIC"
          ],
          [
           "LAI"
          ],
          [
           "IVANOVA"
          ],
          [
           "RODRIGUEZ GOMEZ"
          ],
          [
           "OM"
          ],
          [
           "LIAO"
          ],
          [
           "SON"
          ],
          [
           "ZHANG"
          ],
          [
           "AL SALEEM"
          ],
          [
           "DIAZ"
          ],
          [
           "NGUYEN"
          ],
          [
           "CHINSHANLO"
          ],
          [
           "CHONTEY"
          ],
          [
           "SINISTERRA TORRES"
          ],
          [
           "CENIZA"
          ],
          [
           "NABIEVA"
          ],
          [
           "GHASHGHAEI"
          ],
          [
           "LOPEZ FERRER"
          ],
          [
           "WIJOYO"
          ],
          [
           "LEBLANCBAZINET"
          ],
          [
           "MASSIDDA"
          ],
          [
           "DELACRUZ"
          ],
          [
           "YODAGE"
          ],
          [
           "ERSHOVA"
          ],
          [
           "LUNGU"
          ],
          [
           "SHERMETOVA"
          ],
          [
           "LOCHOWSKA"
          ],
          [
           "YAGI"
          ],
          [
           "MEGO CONTRERAS"
          ],
          [
           "LOMBARDO"
          ],
          [
           "KONOTOP"
          ],
          [
           "DOS REIS SANTOS"
          ],
          [
           "STERCKX"
          ],
          [
           "SADOYAMA"
          ],
          [
           "MAGISTRIS"
          ],
          [
           "CHIANG"
          ],
          [
           "LAURINDO MORAES"
          ],
          [
           "OVSTHUS"
          ],
          [
           "AZIMOVA"
          ],
          [
           "KENTLI"
          ],
          [
           "JOHNSON"
          ],
          [
           "BRUHN"
          ],
          [
           "HERNANDEZ MARTIN"
          ],
          [
           "JACOBSEN"
          ],
          [
           "SOREN"
          ],
          [
           "WILLIAMS"
          ],
          [
           "LANDOULSI"
          ],
          [
           "WARNAKULASURIYA"
          ],
          [
           "ZALATAROVA"
          ],
          [
           "JENSEN"
          ],
          [
           "LIFU"
          ],
          [
           "BASAMI"
          ],
          [
           "CHULUUNBAATAR"
          ],
          [
           "MARKOVIC"
          ],
          [
           "LAI"
          ],
          [
           "IVANOVA"
          ],
          [
           "RODRIGUEZ GOMEZ"
          ]
         ],
         "hoverlabel": {
          "namelength": 0
         },
         "hovertemplate": "category=55<br>bweight=%{x}<br>total=%{y}<br>lname=%{customdata[0]}",
         "legendgroup": "category=55",
         "marker": {
          "color": "#00cc96",
          "symbol": "circle"
         },
         "mode": "markers",
         "name": "category=55",
         "showlegend": true,
         "type": "scattergl",
         "x": [
          54.95,
          54.8,
          55,
          54.8,
          55,
          54.9,
          54.8,
          54.95,
          54.95,
          55,
          54.95,
          54.9,
          55,
          55,
          55,
          54.85,
          55,
          53.65,
          54.95,
          54.85,
          55,
          55,
          55,
          54.75,
          54.85,
          53.85,
          54.45,
          54.7,
          53.55,
          53.55,
          54.75,
          55,
          54.25,
          54.55,
          54.95,
          54.95,
          55,
          55,
          54.8,
          54.9,
          52.85,
          54.8,
          54.5,
          54.85,
          55,
          54.8,
          54.95,
          54.6,
          53.9,
          54.2,
          54.9,
          54.9,
          54.9,
          54.95,
          54.8,
          55,
          54.8,
          55,
          54.9,
          54.8,
          54.95,
          54.95,
          55,
          54.95,
          54.9,
          55,
          55,
          55,
          54.85,
          55,
          53.65,
          54.95,
          54.85,
          55,
          55,
          55,
          54.75,
          54.85,
          53.85,
          54.45,
          54.7,
          53.55,
          53.55,
          54.75,
          55,
          54.25,
          54.55,
          54.95,
          54.95,
          55,
          55,
          54.8,
          54.9,
          52.85,
          54.8,
          54.5,
          54.85,
          55,
          54.8,
          54.95,
          54.6,
          53.9,
          54.2,
          54.9,
          54.9,
          54.9
         ],
         "xaxis": "x",
         "y": [
          294,
          227,
          266,
          222,
          265,
          214,
          263,
          213,
          263,
          210,
          262,
          209,
          260,
          202,
          250,
          201,
          244,
          200,
          242,
          200,
          235,
          196,
          195,
          195,
          194,
          193,
          192,
          191,
          187,
          186,
          185,
          185,
          184,
          182,
          181,
          180,
          178,
          178,
          178,
          176,
          173,
          173,
          171,
          168,
          167,
          165,
          162,
          158,
          148,
          145,
          0,
          0,
          0,
          294,
          227,
          266,
          222,
          265,
          214,
          263,
          213,
          263,
          210,
          262,
          209,
          260,
          202,
          250,
          201,
          244,
          200,
          242,
          200,
          235,
          196,
          195,
          195,
          194,
          193,
          192,
          191,
          187,
          186,
          185,
          185,
          184,
          182,
          181,
          180,
          178,
          178,
          178,
          176,
          173,
          173,
          171,
          168,
          167,
          165,
          162,
          158,
          148,
          145,
          0,
          0,
          0
         ],
         "yaxis": "y"
        },
        {
         "customdata": [
          [
           "KUO"
          ],
          [
           "CHOE"
          ],
          [
           "CHEN"
          ],
          [
           "SILGADO ATENCIO"
          ],
          [
           "ANDOH"
          ],
          [
           "SMITH"
          ],
          [
           "FIGUEROA ROLDAN"
          ],
          [
           "KOHA"
          ],
          [
           "HOANG"
          ],
          [
           "GOMEZ VALDIVIA"
          ],
          [
           "GUICHO RECIO"
          ],
          [
           "TCHAKOUNTE"
          ],
          [
           "ESCOBAR GUERRERO"
          ],
          [
           "YAYLYAN"
          ],
          [
           "KIM"
          ],
          [
           "ELAM"
          ],
          [
           "ALEMANNO"
          ],
          [
           "DARSIGNY"
          ],
          [
           "ANDERSSON"
          ],
          [
           "LUCERO"
          ],
          [
           "WAALER"
          ],
          [
           "LESKINEN"
          ],
          [
           "YAMASAKI"
          ],
          [
           "TALJAARD"
          ],
          [
           "HELGADOTTIR"
          ],
          [
           "BLATCH"
          ],
          [
           "AARSTEN"
          ],
          [
           "WINI"
          ],
          [
           "COLONIA"
          ],
          [
           "MARCEETA"
          ],
          [
           "MEISTER"
          ],
          [
           "GORISEK"
          ],
          [
           "CALMA"
          ],
          [
           "MOYENGWA"
          ],
          [
           "KOSTOVA"
          ],
          [
           "LOBON VIAFARA"
          ],
          [
           "KUO"
          ],
          [
           "CHOE"
          ],
          [
           "CHEN"
          ],
          [
           "SILGADO ATENCIO"
          ],
          [
           "ANDOH"
          ],
          [
           "SMITH"
          ],
          [
           "FIGUEROA ROLDAN"
          ],
          [
           "KOHA"
          ],
          [
           "HOANG"
          ],
          [
           "GOMEZ VALDIVIA"
          ],
          [
           "GUICHO RECIO"
          ],
          [
           "TCHAKOUNTE"
          ],
          [
           "ESCOBAR GUERRERO"
          ],
          [
           "YAYLYAN"
          ],
          [
           "KIM"
          ],
          [
           "ELAM"
          ],
          [
           "ALEMANNO"
          ],
          [
           "DARSIGNY"
          ],
          [
           "ANDERSSON"
          ],
          [
           "LUCERO"
          ],
          [
           "WAALER"
          ],
          [
           "LESKINEN"
          ],
          [
           "YAMASAKI"
          ],
          [
           "TALJAARD"
          ],
          [
           "HELGADOTTIR"
          ],
          [
           "BLATCH"
          ],
          [
           "AARSTEN"
          ],
          [
           "WINI"
          ],
          [
           "COLONIA"
          ],
          [
           "MARCEETA"
          ],
          [
           "MEISTER"
          ],
          [
           "GORISEK"
          ],
          [
           "CALMA"
          ],
          [
           "MOYENGWA"
          ],
          [
           "KOSTOVA"
          ],
          [
           "LOBON VIAFARA"
          ]
         ],
         "hoverlabel": {
          "namelength": 0
         },
         "hovertemplate": "category=59<br>bweight=%{x}<br>total=%{y}<br>lname=%{customdata[0]}",
         "legendgroup": "category=59",
         "marker": {
          "color": "#ab63fa",
          "symbol": "circle"
         },
         "mode": "markers",
         "name": "category=59",
         "showlegend": true,
         "type": "scattergl",
         "x": [
          58.55,
          58.95,
          58.85,
          59,
          58.8,
          58.9,
          58.65,
          58.75,
          58.95,
          58.5,
          58.75,
          58.95,
          58.9,
          58.7,
          58.75,
          59,
          58.85,
          59,
          58.6,
          59,
          58.85,
          58.95,
          58.7,
          58.85,
          58.9,
          58.65,
          58.3,
          58.55,
          58.95,
          57.85,
          58.6,
          58.4,
          58.8,
          57.4,
          58.8,
          59,
          58.55,
          58.95,
          58.85,
          59,
          58.8,
          58.9,
          58.65,
          58.75,
          58.95,
          58.5,
          58.75,
          58.95,
          58.9,
          58.7,
          58.75,
          59,
          58.85,
          59,
          58.6,
          59,
          58.85,
          58.95,
          58.7,
          58.85,
          58.9,
          58.65,
          58.3,
          58.55,
          58.95,
          57.85,
          58.6,
          58.4,
          58.8,
          57.4,
          58.8,
          59
         ],
         "xaxis": "x",
         "y": [
          246,
          245,
          233,
          222,
          222,
          216,
          215,
          215,
          214,
          213,
          209,
          206,
          205,
          202,
          201,
          200,
          198,
          197,
          193,
          191,
          187,
          187,
          186,
          185,
          183,
          183,
          182,
          180,
          180,
          173,
          161,
          155,
          151,
          147,
          0,
          0,
          246,
          245,
          233,
          222,
          222,
          216,
          215,
          215,
          214,
          213,
          209,
          206,
          205,
          202,
          201,
          200,
          198,
          197,
          193,
          191,
          187,
          187,
          186,
          185,
          183,
          183,
          182,
          180,
          180,
          173,
          161,
          155,
          151,
          147,
          0,
          0
         ],
         "yaxis": "y"
        },
        {
         "customdata": [
          [
           "LI"
          ],
          [
           "IRAWAN"
          ],
          [
           "MOSQUERA VALENCIA"
          ],
          [
           "THACH"
          ],
          [
           "SERNA MENDOZA"
          ],
          [
           "ITOKAZU"
          ],
          [
           "MISHVELIDZE"
          ],
          [
           "MUHAMAD"
          ],
          [
           "KAO"
          ],
          [
           "MAU"
          ],
          [
           "HARDAL"
          ],
          [
           "BERDELIDZE"
          ],
          [
           "SCARANTINO"
          ],
          [
           "ALSALEEM"
          ],
          [
           "GARCIA BRITO"
          ],
          [
           "BARU"
          ],
          [
           "ZURITA VALLEJO"
          ],
          [
           "HIRAI"
          ],
          [
           "MIRZAYEV"
          ],
          [
           "TAN"
          ],
          [
           "JAYASOORIYA ARACHCHILAGE"
          ],
          [
           "CALDERON LICOURT"
          ],
          [
           "MONTES GONGORA"
          ],
          [
           "BRECHTEFELD"
          ],
          [
           "ANDRIANTSITOHAINA"
          ],
          [
           "ATAK"
          ],
          [
           "QIN"
          ],
          [
           "PALANGASINGHE"
          ],
          [
           "ROJAS CONCHA"
          ],
          [
           "BRACHI GARCIA"
          ],
          [
           "LI"
          ],
          [
           "IRAWAN"
          ],
          [
           "MOSQUERA VALENCIA"
          ],
          [
           "THACH"
          ],
          [
           "SERNA MENDOZA"
          ],
          [
           "ITOKAZU"
          ],
          [
           "MISHVELIDZE"
          ],
          [
           "MUHAMAD"
          ],
          [
           "KAO"
          ],
          [
           "MAU"
          ],
          [
           "HARDAL"
          ],
          [
           "BERDELIDZE"
          ],
          [
           "SCARANTINO"
          ],
          [
           "ALSALEEM"
          ],
          [
           "GARCIA BRITO"
          ],
          [
           "BARU"
          ],
          [
           "ZURITA VALLEJO"
          ],
          [
           "HIRAI"
          ],
          [
           "MIRZAYEV"
          ],
          [
           "TAN"
          ],
          [
           "JAYASOORIYA ARACHCHILAGE"
          ],
          [
           "CALDERON LICOURT"
          ],
          [
           "MONTES GONGORA"
          ],
          [
           "BRECHTEFELD"
          ],
          [
           "ANDRIANTSITOHAINA"
          ],
          [
           "ATAK"
          ],
          [
           "QIN"
          ],
          [
           "PALANGASINGHE"
          ],
          [
           "ROJAS CONCHA"
          ],
          [
           "BRACHI GARCIA"
          ]
         ],
         "hoverlabel": {
          "namelength": 0
         },
         "hovertemplate": "category=61<br>bweight=%{x}<br>total=%{y}<br>lname=%{customdata[0]}",
         "legendgroup": "category=61",
         "marker": {
          "color": "#FFA15A",
          "symbol": "circle"
         },
         "mode": "markers",
         "name": "category=61",
         "showlegend": true,
         "type": "scattergl",
         "x": [
          60.8,
          60.95,
          61,
          60.8,
          60.8,
          60.95,
          61,
          61,
          60.75,
          60.9,
          60.95,
          60,
          60.9,
          60.95,
          60.8,
          60.9,
          60.25,
          60.95,
          60.55,
          60.8,
          60.8,
          60.75,
          60.95,
          60.65,
          60.55,
          61,
          60.95,
          60.95,
          60.9,
          60.5,
          60.8,
          60.95,
          61,
          60.8,
          60.8,
          60.95,
          61,
          61,
          60.75,
          60.9,
          60.95,
          60,
          60.9,
          60.95,
          60.8,
          60.9,
          60.25,
          60.95,
          60.55,
          60.8,
          60.8,
          60.75,
          60.95,
          60.65,
          60.55,
          61,
          60.95,
          60.95,
          60.9,
          60.5
         ],
         "xaxis": "x",
         "y": [
          318,
          306,
          302,
          296,
          295,
          293,
          287,
          285,
          283,
          280,
          279,
          277,
          277,
          277,
          277,
          276,
          274,
          271,
          270,
          263,
          262,
          260,
          252,
          240,
          0,
          0,
          0,
          0,
          0,
          0,
          318,
          306,
          302,
          296,
          295,
          293,
          287,
          285,
          283,
          280,
          279,
          277,
          277,
          277,
          277,
          276,
          274,
          271,
          270,
          263,
          262,
          260,
          252,
          240,
          0,
          0,
          0,
          0,
          0,
          0
         ],
         "yaxis": "y"
        },
        {
         "customdata": [
          [
           "DENG"
          ],
          [
           "RIM"
          ],
          [
           "TOMA"
          ],
          [
           "PEREZ TIGRERO"
          ],
          [
           "LEPSA"
          ],
          [
           "CHARRON"
          ],
          [
           "LLAMOSA MOSQUERA"
          ],
          [
           "DAVIES"
          ],
          [
           "BORDIGNON"
          ],
          [
           "FAYZULLAEVA"
          ],
          [
           "ANDO"
          ],
          [
           "KIM"
          ],
          [
           "CHEN"
          ],
          [
           "HALDER"
          ],
          [
           "LEVENT"
          ],
          [
           "KUSTERER"
          ],
          [
           "FATTOUH"
          ],
          [
           "VUOHIJOKI"
          ],
          [
           "SIGNAL"
          ],
          [
           "COCHRANE"
          ],
          [
           "SCHWEIZER"
          ],
          [
           "MATSUMOTO"
          ],
          [
           "SIEMENS"
          ],
          [
           "YOSHIDA"
          ],
          [
           "ELLIOTT"
          ],
          [
           "PHAM"
          ],
          [
           "GHERMAN"
          ],
          [
           "GURYEVA"
          ],
          [
           "SAARHELO"
          ],
          [
           "PRETORIUS"
          ],
          [
           "GANZORIG"
          ],
          [
           "POULSEN"
          ],
          [
           "RAVOLOLONIAINA"
          ],
          [
           "AKTAR"
          ],
          [
           "PORTELA MILICHIO"
          ],
          [
           "RUMENOVIC"
          ],
          [
           "PALACIOS DAJOMES"
          ],
          [
           "SHYMECHKO"
          ],
          [
           "RODRIGUEZ MITJAN"
          ],
          [
           "HAN"
          ],
          [
           "ARDALSBAKKE"
          ],
          [
           "SASSER"
          ],
          [
           "DENG"
          ],
          [
           "RIM"
          ],
          [
           "TOMA"
          ],
          [
           "PEREZ TIGRERO"
          ],
          [
           "LEPSA"
          ],
          [
           "CHARRON"
          ],
          [
           "LLAMOSA MOSQUERA"
          ],
          [
           "DAVIES"
          ],
          [
           "BORDIGNON"
          ],
          [
           "FAYZULLAEVA"
          ],
          [
           "ANDO"
          ],
          [
           "KIM"
          ],
          [
           "CHEN"
          ],
          [
           "HALDER"
          ],
          [
           "LEVENT"
          ],
          [
           "KUSTERER"
          ],
          [
           "FATTOUH"
          ],
          [
           "VUOHIJOKI"
          ],
          [
           "SIGNAL"
          ],
          [
           "COCHRANE"
          ],
          [
           "SCHWEIZER"
          ],
          [
           "MATSUMOTO"
          ],
          [
           "SIEMENS"
          ],
          [
           "YOSHIDA"
          ],
          [
           "ELLIOTT"
          ],
          [
           "PHAM"
          ],
          [
           "GHERMAN"
          ],
          [
           "GURYEVA"
          ],
          [
           "SAARHELO"
          ],
          [
           "PRETORIUS"
          ],
          [
           "GANZORIG"
          ],
          [
           "POULSEN"
          ],
          [
           "RAVOLOLONIAINA"
          ],
          [
           "AKTAR"
          ],
          [
           "PORTELA MILICHIO"
          ],
          [
           "RUMENOVIC"
          ],
          [
           "PALACIOS DAJOMES"
          ],
          [
           "SHYMECHKO"
          ],
          [
           "RODRIGUEZ MITJAN"
          ],
          [
           "HAN"
          ],
          [
           "ARDALSBAKKE"
          ],
          [
           "SASSER"
          ]
         ],
         "hoverlabel": {
          "namelength": 0
         },
         "hovertemplate": "category=64<br>bweight=%{x}<br>total=%{y}<br>lname=%{customdata[0]}",
         "legendgroup": "category=64",
         "marker": {
          "color": "#19d3f3",
          "symbol": "circle"
         },
         "mode": "markers",
         "name": "category=64",
         "showlegend": true,
         "type": "scattergl",
         "x": [
          63.4,
          64,
          63.95,
          64,
          62.95,
          63.85,
          63.65,
          63.75,
          63.85,
          63.85,
          63.3,
          63.8,
          63.95,
          63.95,
          63.65,
          63.6,
          63.8,
          64,
          63.6,
          63.3,
          63.65,
          63.95,
          63.4,
          62.75,
          63.9,
          63.5,
          63.2,
          63.95,
          63.9,
          63.3,
          63.6,
          62.4,
          63.6,
          63.95,
          63.5,
          63.7,
          63.85,
          63.7,
          63.9,
          63.85,
          63.9,
          63.85,
          63.4,
          64,
          63.95,
          64,
          62.95,
          63.85,
          63.65,
          63.75,
          63.85,
          63.85,
          63.3,
          63.8,
          63.95,
          63.95,
          63.65,
          63.6,
          63.8,
          64,
          63.6,
          63.3,
          63.65,
          63.95,
          63.4,
          62.75,
          63.9,
          63.5,
          63.2,
          63.95,
          63.9,
          63.3,
          63.6,
          62.4,
          63.6,
          63.95,
          63.5,
          63.7,
          63.85,
          63.7,
          63.9,
          63.85,
          63.9,
          63.85
         ],
         "xaxis": "x",
         "y": [
          261,
          251,
          240,
          238,
          235,
          230,
          222,
          222,
          221,
          221,
          216,
          215,
          215,
          214,
          211,
          210,
          209,
          208,
          207,
          206,
          206,
          205,
          203,
          203,
          202,
          200,
          199,
          198,
          196,
          190,
          190,
          189,
          185,
          183,
          162,
          151,
          0,
          0,
          0,
          0,
          0,
          0,
          261,
          251,
          240,
          238,
          235,
          230,
          222,
          222,
          221,
          221,
          216,
          215,
          215,
          214,
          211,
          210,
          209,
          208,
          207,
          206,
          206,
          205,
          203,
          203,
          202,
          200,
          199,
          198,
          196,
          190,
          190,
          189,
          185,
          183,
          162,
          151,
          0,
          0,
          0,
          0,
          0,
          0
         ],
         "yaxis": "y"
        },
        {
         "customdata": [
          [
           "CHEN"
          ],
          [
           "FENG"
          ],
          [
           "PAK"
          ],
          [
           "ERGASHEV"
          ],
          [
           "MOSQUERA LOZANO"
          ],
          [
           "KONNAI"
          ],
          [
           "ISMAYILOV"
          ],
          [
           "LAPTSEU"
          ],
          [
           "KINGUE MATAM"
          ],
          [
           "FIGUEROA MOSQUERA"
          ],
          [
           "MUNOZ MARTINEZ"
          ],
          [
           "DENI"
          ],
          [
           "ZANNI"
          ],
          [
           "OZBEK"
          ],
          [
           "CHKHEIDZE"
          ],
          [
           "HAN"
          ],
          [
           "BRANDHUBER"
          ],
          [
           "HERNANDEZ MENDOZA"
          ],
          [
           "PINEDA ZETA"
          ],
          [
           "ALMAZYADI"
          ],
          [
           "JEREMY"
          ],
          [
           "ANDRIATSITOHAINA"
          ],
          [
           "LEE"
          ],
          [
           "RASHIDOV"
          ],
          [
           "BARDALEZ TUISIMA"
          ],
          [
           "PETROV"
          ],
          [
           "WISSINGER"
          ],
          [
           "IOANE"
          ],
          [
           "COLONIA"
          ],
          [
           "HU"
          ],
          [
           "HUANG"
          ],
          [
           "LEE"
          ],
          [
           "MOHD"
          ],
          [
           "SIRAJ"
          ],
          [
           "TAKAO"
          ],
          [
           "KATOATAU"
          ],
          [
           "CARDENAS ESTRADA"
          ],
          [
           "GROZDEV"
          ],
          [
           "SHABI"
          ],
          [
           "ENKHJARGAL"
          ],
          [
           "CHEN"
          ],
          [
           "FENG"
          ],
          [
           "PAK"
          ],
          [
           "ERGASHEV"
          ],
          [
           "MOSQUERA LOZANO"
          ],
          [
           "KONNAI"
          ],
          [
           "ISMAYILOV"
          ],
          [
           "LAPTSEU"
          ],
          [
           "KINGUE MATAM"
          ],
          [
           "FIGUEROA MOSQUERA"
          ],
          [
           "MUNOZ MARTINEZ"
          ],
          [
           "DENI"
          ],
          [
           "ZANNI"
          ],
          [
           "OZBEK"
          ],
          [
           "CHKHEIDZE"
          ],
          [
           "HAN"
          ],
          [
           "BRANDHUBER"
          ],
          [
           "HERNANDEZ MENDOZA"
          ],
          [
           "PINEDA ZETA"
          ],
          [
           "ALMAZYADI"
          ],
          [
           "JEREMY"
          ],
          [
           "ANDRIATSITOHAINA"
          ],
          [
           "LEE"
          ],
          [
           "RASHIDOV"
          ],
          [
           "BARDALEZ TUISIMA"
          ],
          [
           "PETROV"
          ],
          [
           "WISSINGER"
          ],
          [
           "IOANE"
          ],
          [
           "COLONIA"
          ],
          [
           "HU"
          ],
          [
           "HUANG"
          ],
          [
           "LEE"
          ],
          [
           "MOHD"
          ],
          [
           "SIRAJ"
          ],
          [
           "TAKAO"
          ],
          [
           "KATOATAU"
          ],
          [
           "CARDENAS ESTRADA"
          ],
          [
           "GROZDEV"
          ],
          [
           "SHABI"
          ],
          [
           "ENKHJARGAL"
          ]
         ],
         "hoverlabel": {
          "namelength": 0
         },
         "hovertemplate": "category=67<br>bweight=%{x}<br>total=%{y}<br>lname=%{customdata[0]}",
         "legendgroup": "category=67",
         "marker": {
          "color": "#FF6692",
          "symbol": "circle"
         },
         "mode": "markers",
         "name": "category=67",
         "showlegend": true,
         "type": "scattergl",
         "x": [
          66.95,
          66.8,
          66.95,
          66.8,
          66.55,
          67,
          66.8,
          66.65,
          67,
          66.55,
          67,
          66.95,
          66.9,
          66.85,
          67,
          66.9,
          67,
          66.75,
          66.75,
          66.9,
          66.5,
          66.55,
          66.8,
          66.95,
          67,
          66.8,
          66.9,
          66.95,
          64.8,
          66.95,
          66.4,
          67,
          64.3,
          66.85,
          66.55,
          66.8,
          67,
          66.85,
          66.95,
          66.7,
          66.95,
          66.8,
          66.95,
          66.8,
          66.55,
          67,
          66.8,
          66.65,
          67,
          66.55,
          67,
          66.95,
          66.9,
          66.85,
          67,
          66.9,
          67,
          66.75,
          66.75,
          66.9,
          66.5,
          66.55,
          66.8,
          66.95,
          67,
          66.8,
          66.9,
          66.95,
          64.8,
          66.95,
          66.4,
          67,
          64.3,
          66.85,
          66.55,
          66.8,
          67,
          66.85,
          66.95,
          66.7
         ],
         "xaxis": "x",
         "y": [
          337,
          333,
          330,
          328,
          320,
          317,
          316,
          313,
          313,
          313,
          312,
          312,
          310,
          309,
          307,
          304,
          301,
          297,
          297,
          297,
          296,
          295,
          295,
          290,
          289,
          286,
          283,
          282,
          280,
          271,
          267,
          260,
          259,
          247,
          246,
          0,
          0,
          0,
          0,
          0,
          337,
          333,
          330,
          328,
          320,
          317,
          316,
          313,
          313,
          313,
          312,
          312,
          310,
          309,
          307,
          304,
          301,
          297,
          297,
          297,
          296,
          295,
          295,
          290,
          289,
          286,
          283,
          282,
          280,
          271,
          267,
          260,
          259,
          247,
          246,
          0,
          0,
          0,
          0,
          0
         ],
         "yaxis": "y"
        },
        {
         "customdata": [
          [
           "NYE"
          ],
          [
           "ROGERS"
          ],
          [
           "KIM"
          ],
          [
           "GODLEY"
          ],
          [
           "ANZOROVA"
          ],
          [
           "LAYLOR"
          ],
          [
           "BYKOVA"
          ],
          [
           "MACROHON"
          ],
          [
           "TRETIACOVA"
          ],
          [
           "RUBANOVICH"
          ],
          [
           "WIOR"
          ],
          [
           "YANGUI"
          ],
          [
           "BRAZAITE"
          ],
          [
           "BENNETT"
          ],
          [
           "OHMAN"
          ],
          [
           "HOSSEINI"
          ],
          [
           "ZAMMIT STEVENS"
          ],
          [
           "RONDZIKOVA"
          ],
          [
           "JAKAITE"
          ],
          [
           "HERTLOVA"
          ],
          [
           "NIELSEN"
          ],
          [
           "PEDERSEN"
          ],
          [
           "BYRD"
          ],
          [
           "ARJOMANDKHAH"
          ],
          [
           "NYE"
          ],
          [
           "ROGERS"
          ],
          [
           "KIM"
          ],
          [
           "GODLEY"
          ],
          [
           "ANZOROVA"
          ],
          [
           "LAYLOR"
          ],
          [
           "BYKOVA"
          ],
          [
           "MACROHON"
          ],
          [
           "TRETIACOVA"
          ],
          [
           "RUBANOVICH"
          ],
          [
           "WIOR"
          ],
          [
           "YANGUI"
          ],
          [
           "BRAZAITE"
          ],
          [
           "BENNETT"
          ],
          [
           "OHMAN"
          ],
          [
           "HOSSEINI"
          ],
          [
           "ZAMMIT STEVENS"
          ],
          [
           "RONDZIKOVA"
          ],
          [
           "JAKAITE"
          ],
          [
           "HERTLOVA"
          ],
          [
           "NIELSEN"
          ],
          [
           "PEDERSEN"
          ],
          [
           "BYRD"
          ],
          [
           "ARJOMANDKHAH"
          ]
         ],
         "hoverlabel": {
          "namelength": 0
         },
         "hovertemplate": "category=71<br>bweight=%{x}<br>total=%{y}<br>lname=%{customdata[0]}",
         "legendgroup": "category=71",
         "marker": {
          "color": "#B6E880",
          "symbol": "circle"
         },
         "mode": "markers",
         "name": "category=71",
         "showlegend": true,
         "type": "scattergl",
         "x": [
          70.75,
          70.75,
          65.85,
          70.4,
          70.6,
          70.9,
          70.85,
          70.9,
          70.5,
          70.7,
          70.9,
          68.85,
          69.95,
          68.75,
          70.05,
          70.7,
          69.45,
          68.7,
          68.8,
          70.5,
          69.15,
          70.6,
          69.1,
          67.75,
          70.75,
          70.75,
          65.85,
          70.4,
          70.6,
          70.9,
          70.85,
          70.9,
          70.5,
          70.7,
          70.9,
          68.85,
          69.95,
          68.75,
          70.05,
          70.7,
          69.45,
          68.7,
          68.8,
          70.5,
          69.15,
          70.6,
          69.1,
          67.75
         ],
         "xaxis": "x",
         "y": [
          248,
          240,
          230,
          226,
          219,
          218,
          211,
          210,
          208,
          204,
          204,
          203,
          200,
          196,
          192,
          191,
          190,
          190,
          189,
          186,
          182,
          176,
          174,
          170,
          248,
          240,
          230,
          226,
          219,
          218,
          211,
          210,
          208,
          204,
          204,
          203,
          200,
          196,
          192,
          191,
          190,
          190,
          189,
          186,
          182,
          176,
          174,
          170
         ],
         "yaxis": "y"
        },
        {
         "customdata": [
          [
           "SHI"
          ],
          [
           null
          ],
          [
           "ANDREEV"
          ],
          [
           "LIKHARAD"
          ],
          [
           "CALJA"
          ],
          [
           "MAYORA PERNIA"
          ],
          [
           "BAK"
          ],
          [
           "WON"
          ],
          [
           "CUMMINGS JR"
          ],
          [
           "YUAN"
          ],
          [
           "SANCHEZ LOPEZ"
          ],
          [
           "MIYAMOTO"
          ],
          [
           "PETROV"
          ],
          [
           "LANG"
          ],
          [
           "TRIYATNO"
          ],
          [
           "YOKUBOV"
          ],
          [
           "ROBU"
          ],
          [
           "ABDULLAH"
          ],
          [
           "MEREDOV"
          ],
          [
           "MALAKMADZE"
          ],
          [
           "ASANIDZE"
          ],
          [
           "SANDOVAL PARRAS"
          ],
          [
           "IOROI"
          ],
          [
           "SANCHEZ VELEZ"
          ],
          [
           "SHEULI"
          ],
          [
           "KRING"
          ],
          [
           "DISSANAYAKE MUDIYANSELAGE"
          ],
          [
           "KURUKULASOORIYAGE"
          ],
          [
           "AL HUMAYD"
          ],
          [
           "TABAROUA"
          ],
          [
           "WAKELING"
          ],
          [
           "CHIN"
          ],
          [
           "DOGUAPE"
          ],
          [
           "GARCIA"
          ],
          [
           "JONSSON"
          ],
          [
           "BEN HNIA"
          ],
          [
           "MUHAMMAD"
          ],
          [
           "EVANS"
          ],
          [
           "SHI"
          ],
          [
           null
          ],
          [
           "ANDREEV"
          ],
          [
           "LIKHARAD"
          ],
          [
           "CALJA"
          ],
          [
           "MAYORA PERNIA"
          ],
          [
           "BAK"
          ],
          [
           "WON"
          ],
          [
           "CUMMINGS JR"
          ],
          [
           "YUAN"
          ],
          [
           "SANCHEZ LOPEZ"
          ],
          [
           "MIYAMOTO"
          ],
          [
           "PETROV"
          ],
          [
           "LANG"
          ],
          [
           "TRIYATNO"
          ],
          [
           "YOKUBOV"
          ],
          [
           "ROBU"
          ],
          [
           "ABDULLAH"
          ],
          [
           "MEREDOV"
          ],
          [
           "MALAKMADZE"
          ],
          [
           "ASANIDZE"
          ],
          [
           "SANDOVAL PARRAS"
          ],
          [
           "IOROI"
          ],
          [
           "SANCHEZ VELEZ"
          ],
          [
           "SHEULI"
          ],
          [
           "KRING"
          ],
          [
           "DISSANAYAKE MUDIYANSELAGE"
          ],
          [
           "KURUKULASOORIYAGE"
          ],
          [
           "AL HUMAYD"
          ],
          [
           "TABAROUA"
          ],
          [
           "WAKELING"
          ],
          [
           "CHIN"
          ],
          [
           "DOGUAPE"
          ],
          [
           "GARCIA"
          ],
          [
           "JONSSON"
          ],
          [
           "BEN HNIA"
          ],
          [
           "MUHAMMAD"
          ],
          [
           "EVANS"
          ]
         ],
         "hoverlabel": {
          "namelength": 0
         },
         "hovertemplate": "category=73<br>bweight=%{x}<br>total=%{y}<br>lname=%{customdata[0]}",
         "legendgroup": "category=73",
         "marker": {
          "color": "#FF97FF",
          "symbol": "circle"
         },
         "mode": "markers",
         "name": "category=73",
         "showlegend": true,
         "type": "scattergl",
         "x": [
          72.9,
          72.85,
          73,
          72.7,
          72.9,
          72.15,
          72.4,
          72.8,
          72.75,
          72.95,
          72.95,
          72.95,
          72.95,
          72.5,
          72.95,
          72.95,
          72.75,
          72.6,
          72.8,
          73,
          71.7,
          72.7,
          72.9,
          72.45,
          72.9,
          72.85,
          72.75,
          72.95,
          72.3,
          72.85,
          72.55,
          72.45,
          72,
          72.4,
          72.25,
          71.95,
          72.55,
          71.2,
          72.9,
          72.85,
          73,
          72.7,
          72.9,
          72.15,
          72.4,
          72.8,
          72.75,
          72.95,
          72.95,
          72.95,
          72.95,
          72.5,
          72.95,
          72.95,
          72.75,
          72.6,
          72.8,
          73,
          71.7,
          72.7,
          72.9,
          72.45,
          72.9,
          72.85,
          72.75,
          72.95,
          72.3,
          72.85,
          72.55,
          72.45,
          72,
          72.4,
          72.25,
          71.95,
          72.55,
          71.2
         ],
         "xaxis": "x",
         "y": [
          363,
          347,
          346,
          338,
          337,
          337,
          337,
          336,
          333,
          333,
          328,
          328,
          327,
          327,
          326,
          321,
          319,
          318,
          315,
          310,
          307,
          307,
          305,
          304,
          301,
          300,
          298,
          290,
          290,
          282,
          281,
          271,
          271,
          270,
          253,
          0,
          0,
          0,
          363,
          347,
          346,
          338,
          337,
          337,
          337,
          336,
          333,
          333,
          328,
          328,
          327,
          327,
          326,
          321,
          319,
          318,
          315,
          310,
          307,
          307,
          305,
          304,
          301,
          300,
          298,
          290,
          290,
          282,
          281,
          271,
          271,
          270,
          253,
          0,
          0,
          0
         ],
         "yaxis": "y"
        },
        {
         "customdata": [
          [
           "RIM"
          ],
          [
           "ZHANG"
          ],
          [
           "DAJOMES BARRERA"
          ],
          [
           "FUENTES ZAVALA"
          ],
          [
           "DEKHA"
          ],
          [
           "KANG"
          ],
          [
           "STRENIUS"
          ],
          [
           "VOSTRIKOVA"
          ],
          [
           "NGARLEM"
          ],
          [
           "KADYROVA"
          ],
          [
           "SAZANAVETS"
          ],
          [
           "KAMIYA"
          ],
          [
           "YAO"
          ],
          [
           "ILMARINEN"
          ],
          [
           "JAEGGI"
          ],
          [
           "RWAHWIRE"
          ],
          [
           "JABRIELLA"
          ],
          [
           "RIM"
          ],
          [
           "ZHANG"
          ],
          [
           "DAJOMES BARRERA"
          ],
          [
           "FUENTES ZAVALA"
          ],
          [
           "DEKHA"
          ],
          [
           "KANG"
          ],
          [
           "STRENIUS"
          ],
          [
           "VOSTRIKOVA"
          ],
          [
           "NGARLEM"
          ],
          [
           "KADYROVA"
          ],
          [
           "SAZANAVETS"
          ],
          [
           "KAMIYA"
          ],
          [
           "YAO"
          ],
          [
           "ILMARINEN"
          ],
          [
           "JAEGGI"
          ],
          [
           "RWAHWIRE"
          ],
          [
           "JABRIELLA"
          ]
         ],
         "hoverlabel": {
          "namelength": 0
         },
         "hovertemplate": "category=76<br>bweight=%{x}<br>total=%{y}<br>lname=%{customdata[0]}",
         "legendgroup": "category=76",
         "marker": {
          "color": "#FECB52",
          "symbol": "circle"
         },
         "mode": "markers",
         "name": "category=76",
         "showlegend": true,
         "type": "scattergl",
         "x": [
          75.9,
          73.95,
          75.8,
          76,
          75.95,
          75.1,
          74.05,
          72.85,
          75.25,
          75.6,
          75.95,
          75.75,
          76,
          75.65,
          75.65,
          72.9,
          75.45,
          75.9,
          73.95,
          75.8,
          76,
          75.95,
          75.1,
          74.05,
          72.85,
          75.25,
          75.6,
          75.95,
          75.75,
          76,
          75.65,
          75.65,
          72.9,
          75.45
         ],
         "xaxis": "x",
         "y": [
          276,
          271,
          245,
          245,
          242,
          235,
          231,
          230,
          230,
          224,
          221,
          220,
          216,
          213,
          211,
          207,
          193,
          276,
          271,
          245,
          245,
          242,
          235,
          231,
          230,
          230,
          224,
          221,
          220,
          216,
          213,
          211,
          207,
          193
         ],
         "yaxis": "y"
        },
        {
         "customdata": [
          [
           "LYU"
          ],
          [
           "SOLIS ARBOLEDA"
          ],
          [
           "LI"
          ],
          [
           "VALENTIN PEREZ"
          ],
          [
           "RODALLEGAS CARVAJAL"
          ],
          [
           "ARTHUR"
          ],
          [
           "REJEPOV"
          ],
          [
           "NAUMAVA"
          ],
          [
           "BEYTULA"
          ],
          [
           "CHIRINOS LEON"
          ],
          [
           "PIZZOLATO"
          ],
          [
           "LEE"
          ],
          [
           "MATA PEREZ"
          ],
          [
           "RIVAS MOSQUERA"
          ],
          [
           "BONNAT MICHEL"
          ],
          [
           "MUNKHJANTSAN"
          ],
          [
           "MAURUS"
          ],
          [
           "TORRES WONG"
          ],
          [
           "TOSHTEMIROV"
          ],
          [
           "HAKOBYAN"
          ],
          [
           "MUELLER"
          ],
          [
           "NAYO KETCHANKE"
          ],
          [
           "SUHAREVS"
          ],
          [
           "GARZA GARZA"
          ],
          [
           "GETTS"
          ],
          [
           "KATINA"
          ],
          [
           "GODELLI"
          ],
          [
           "SZUROMI"
          ],
          [
           "SOLIS ARBOLEDA"
          ],
          [
           "ROJAS CASTILLO"
          ],
          [
           "ZWARYCZ"
          ],
          [
           "ALMADANI"
          ],
          [
           "RAHIMOV"
          ],
          [
           "MOLDODOSOV"
          ],
          [
           "SINGH"
          ],
          [
           "ALHUSSEIN"
          ],
          [
           "QERIMAJ"
          ],
          [
           "BELLEMARRE"
          ],
          [
           "RODRIGUEZ OCASIO"
          ],
          [
           "MENDEZ PEREZ"
          ],
          [
           "SHOHRADOV"
          ],
          [
           "CHUANG"
          ],
          [
           "VACHON"
          ],
          [
           "BROWN"
          ],
          [
           "TKAC"
          ],
          [
           "VIDANAGE"
          ],
          [
           "BOB"
          ],
          [
           "LAPUA"
          ],
          [
           "ALIKLIK"
          ],
          [
           "ASAYONAK"
          ],
          [
           "LOZKA"
          ],
          [
           "KAZOV"
          ],
          [
           "DU PLOOY"
          ],
          [
           "HERNANDEZ MARTINEZ"
          ],
          [
           "KARAPETYAN"
          ],
          [
           "CHOE"
          ],
          [
           "RI"
          ],
          [
           "SKLENICKOVA"
          ],
          [
           "CUPID"
          ],
          [
           "VANBELLINGHEN"
          ],
          [
           "KIM"
          ],
          [
           "LYU"
          ],
          [
           "SOLIS ARBOLEDA"
          ],
          [
           "LI"
          ],
          [
           "VALENTIN PEREZ"
          ],
          [
           "RODALLEGAS CARVAJAL"
          ],
          [
           "ARTHUR"
          ],
          [
           "REJEPOV"
          ],
          [
           "NAUMAVA"
          ],
          [
           "BEYTULA"
          ],
          [
           "CHIRINOS LEON"
          ],
          [
           "PIZZOLATO"
          ],
          [
           "LEE"
          ],
          [
           "MATA PEREZ"
          ],
          [
           "RIVAS MOSQUERA"
          ],
          [
           "BONNAT MICHEL"
          ],
          [
           "MUNKHJANTSAN"
          ],
          [
           "MAURUS"
          ],
          [
           "TORRES WONG"
          ],
          [
           "TOSHTEMIROV"
          ],
          [
           "HAKOBYAN"
          ],
          [
           "MUELLER"
          ],
          [
           "NAYO KETCHANKE"
          ],
          [
           "SUHAREVS"
          ],
          [
           "GARZA GARZA"
          ],
          [
           "GETTS"
          ],
          [
           "KATINA"
          ],
          [
           "GODELLI"
          ],
          [
           "SZUROMI"
          ],
          [
           "SOLIS ARBOLEDA"
          ],
          [
           "ROJAS CASTILLO"
          ],
          [
           "ZWARYCZ"
          ],
          [
           "ALMADANI"
          ],
          [
           "RAHIMOV"
          ],
          [
           "MOLDODOSOV"
          ],
          [
           "SINGH"
          ],
          [
           "ALHUSSEIN"
          ],
          [
           "QERIMAJ"
          ],
          [
           "BELLEMARRE"
          ],
          [
           "RODRIGUEZ OCASIO"
          ],
          [
           "MENDEZ PEREZ"
          ],
          [
           "SHOHRADOV"
          ],
          [
           "CHUANG"
          ],
          [
           "VACHON"
          ],
          [
           "BROWN"
          ],
          [
           "TKAC"
          ],
          [
           "VIDANAGE"
          ],
          [
           "BOB"
          ],
          [
           "LAPUA"
          ],
          [
           "ALIKLIK"
          ],
          [
           "ASAYONAK"
          ],
          [
           "LOZKA"
          ],
          [
           "KAZOV"
          ],
          [
           "DU PLOOY"
          ],
          [
           "HERNANDEZ MARTINEZ"
          ],
          [
           "KARAPETYAN"
          ],
          [
           "CHOE"
          ],
          [
           "RI"
          ],
          [
           "SKLENICKOVA"
          ],
          [
           "CUPID"
          ],
          [
           "VANBELLINGHEN"
          ],
          [
           "KIM"
          ]
         ],
         "hoverlabel": {
          "namelength": 0
         },
         "hovertemplate": "category=81<br>bweight=%{x}<br>total=%{y}<br>lname=%{customdata[0]}",
         "legendgroup": "category=81",
         "marker": {
          "color": "#636efa",
          "symbol": "circle"
         },
         "mode": "markers",
         "name": "category=81",
         "showlegend": true,
         "type": "scattergl",
         "x": [
          80.75,
          76.85,
          80.9,
          78.8,
          80.85,
          80.95,
          80.7,
          78.45,
          80.65,
          80.7,
          80.9,
          78.3,
          80.85,
          78.75,
          81,
          81,
          80.76,
          77.8,
          79.85,
          80.9,
          80.65,
          80.4,
          80.9,
          78.45,
          80.95,
          80.7,
          80.55,
          80.35,
          80.95,
          76.6,
          81,
          80.6,
          79.8,
          80.9,
          81,
          79.85,
          80.9,
          80.85,
          80.95,
          80.95,
          80.95,
          78.65,
          80.65,
          80.85,
          80.9,
          80.7,
          80.4,
          80.05,
          74.55,
          80.95,
          80.95,
          80.95,
          80.3,
          81,
          80.8,
          80.25,
          77.7,
          77.35,
          76.9,
          80.85,
          76.75,
          80.75,
          76.85,
          80.9,
          78.8,
          80.85,
          80.95,
          80.7,
          78.45,
          80.65,
          80.7,
          80.9,
          78.3,
          80.85,
          78.75,
          81,
          81,
          80.76,
          77.8,
          79.85,
          80.9,
          80.65,
          80.4,
          80.9,
          78.45,
          80.95,
          80.7,
          80.55,
          80.35,
          80.95,
          76.6,
          81,
          80.6,
          79.8,
          80.9,
          81,
          79.85,
          80.9,
          80.85,
          80.95,
          80.95,
          80.95,
          78.65,
          80.65,
          80.85,
          80.9,
          80.7,
          80.4,
          80.05,
          74.55,
          80.95,
          80.95,
          80.95,
          80.3,
          81,
          80.8,
          80.25,
          77.7,
          77.35,
          76.9,
          80.85,
          76.75
         ],
         "xaxis": "x",
         "y": [
          378,
          247,
          377,
          246,
          363,
          245,
          363,
          244,
          358,
          242,
          358,
          238,
          356,
          238,
          355,
          237,
          350,
          234,
          348,
          226,
          348,
          225,
          346,
          223,
          344,
          221,
          340,
          213,
          339,
          201,
          335,
          146,
          334,
          333,
          333,
          332,
          332,
          329,
          327,
          325,
          325,
          322,
          318,
          317,
          299,
          298,
          286,
          276,
          274,
          0,
          0,
          0,
          0,
          0,
          0,
          0,
          0,
          0,
          0,
          0,
          0,
          378,
          247,
          377,
          246,
          363,
          245,
          363,
          244,
          358,
          242,
          358,
          238,
          356,
          238,
          355,
          237,
          350,
          234,
          348,
          226,
          348,
          225,
          346,
          223,
          344,
          221,
          340,
          213,
          339,
          201,
          335,
          146,
          334,
          333,
          333,
          332,
          332,
          329,
          327,
          325,
          325,
          322,
          318,
          317,
          299,
          298,
          286,
          276,
          274,
          0,
          0,
          0,
          0,
          0,
          0,
          0,
          0,
          0,
          0,
          0,
          0
         ],
         "yaxis": "y"
        },
        {
         "customdata": [
          [
           "WANG"
          ],
          [
           "KIM"
          ],
          [
           "SALAZAR ARCE"
          ],
          [
           "VALDES PARIS"
          ],
          [
           "PEREZ REVERON"
          ],
          [
           "ANTONIA FERREIRA"
          ],
          [
           "JANG"
          ],
          [
           "CILCIC"
          ],
          [
           "SHIMAMOTO"
          ],
          [
           "FISCHER"
          ],
          [
           "MEUKEUGNI NOUMBISSI"
          ],
          [
           "VENNEKILDE"
          ],
          [
           "BOYNUEGRI"
          ],
          [
           "TOYCHYYEVA"
          ],
          [
           "ERDENEBAT"
          ],
          [
           "DAVRONOVA"
          ],
          [
           "KACZMARCZYK"
          ],
          [
           "SANTANA PEGUERO"
          ],
          [
           "RODRIGUEZ MIRANDA"
          ],
          [
           "BOROS"
          ],
          [
           "JAHANFEKRIAN"
          ],
          [
           "KRALOVA"
          ],
          [
           "MORISHITA"
          ],
          [
           "LO"
          ],
          [
           "WANG"
          ],
          [
           "KIM"
          ],
          [
           "SALAZAR ARCE"
          ],
          [
           "VALDES PARIS"
          ],
          [
           "PEREZ REVERON"
          ],
          [
           "ANTONIA FERREIRA"
          ],
          [
           "JANG"
          ],
          [
           "CILCIC"
          ],
          [
           "SHIMAMOTO"
          ],
          [
           "FISCHER"
          ],
          [
           "MEUKEUGNI NOUMBISSI"
          ],
          [
           "VENNEKILDE"
          ],
          [
           "BOYNUEGRI"
          ],
          [
           "TOYCHYYEVA"
          ],
          [
           "ERDENEBAT"
          ],
          [
           "DAVRONOVA"
          ],
          [
           "KACZMARCZYK"
          ],
          [
           "SANTANA PEGUERO"
          ],
          [
           "RODRIGUEZ MIRANDA"
          ],
          [
           "BOROS"
          ],
          [
           "JAHANFEKRIAN"
          ],
          [
           "KRALOVA"
          ],
          [
           "MORISHITA"
          ],
          [
           "LO"
          ]
         ],
         "hoverlabel": {
          "namelength": 0
         },
         "hovertemplate": "category=87<br>bweight=%{x}<br>total=%{y}<br>lname=%{customdata[0]}",
         "legendgroup": "category=87",
         "marker": {
          "color": "#EF553B",
          "symbol": "circle"
         },
         "mode": "markers",
         "name": "category=87",
         "showlegend": true,
         "type": "scattergl",
         "x": [
          83.5,
          86.5,
          85.15,
          86.85,
          86.65,
          86.5,
          81.3,
          81.2,
          86.8,
          86.55,
          86.95,
          86.7,
          84.45,
          82.2,
          84.95,
          86.65,
          86.65,
          86.95,
          86.25,
          83.35,
          86.8,
          86.4,
          86.9,
          86.95,
          83.5,
          86.5,
          85.15,
          86.85,
          86.65,
          86.5,
          81.3,
          81.2,
          86.8,
          86.55,
          86.95,
          86.7,
          84.45,
          82.2,
          84.95,
          86.65,
          86.65,
          86.95,
          86.25,
          83.35,
          86.8,
          86.4,
          86.9,
          86.95
         ],
         "xaxis": "x",
         "y": [
          278,
          269,
          252,
          251,
          250,
          235,
          230,
          225,
          222,
          222,
          220,
          216,
          216,
          214,
          210,
          210,
          208,
          206,
          204,
          199,
          198,
          175,
          0,
          0,
          278,
          269,
          252,
          251,
          250,
          235,
          230,
          225,
          222,
          222,
          220,
          216,
          216,
          214,
          210,
          210,
          208,
          206,
          204,
          199,
          198,
          175,
          0,
          0
         ],
         "yaxis": "y"
        },
        {
         "customdata": [
          [
           "MKRTCHYAN"
          ],
          [
           "MIRI"
          ],
          [
           "DAVITADZE"
          ],
          [
           "BERSANAU"
          ],
          [
           "YAMAMOTO"
          ],
          [
           "YU"
          ],
          [
           "SAEZ VERA"
          ],
          [
           "VALLENILLA SANCHEZ"
          ],
          [
           "ZAREI"
          ],
          [
           "ULANOV"
          ],
          [
           "MUDREUSKI"
          ],
          [
           "HOVHANNISYAN"
          ],
          [
           "SHORAJ"
          ],
          [
           "IMADOUCHENE"
          ],
          [
           "KOZHAKIN"
          ],
          [
           "CHEPIK"
          ],
          [
           "CANTRELL"
          ],
          [
           "SAMAYOA"
          ],
          [
           "ASHYROV"
          ],
          [
           "KACINSKAS"
          ],
          [
           "OSEI"
          ],
          [
           "SAMKO"
          ],
          [
           "ABUZRIBA"
          ],
          [
           "MUSIC"
          ],
          [
           "SANTAVY"
          ],
          [
           "ZAPATA PRIETO"
          ],
          [
           "MUSIC"
          ],
          [
           "SANTANA VAZQUEZ"
          ],
          [
           "ALJUMAILI"
          ],
          [
           "AFIQHAZIQ"
          ],
          [
           "KNUDSEN"
          ],
          [
           "MKRTCHYAN"
          ],
          [
           "MIRI"
          ],
          [
           "DAVITADZE"
          ],
          [
           "BERSANAU"
          ],
          [
           "YAMAMOTO"
          ],
          [
           "YU"
          ],
          [
           "SAEZ VERA"
          ],
          [
           "VALLENILLA SANCHEZ"
          ],
          [
           "ZAREI"
          ],
          [
           "ULANOV"
          ],
          [
           "MUDREUSKI"
          ],
          [
           "HOVHANNISYAN"
          ],
          [
           "SHORAJ"
          ],
          [
           "IMADOUCHENE"
          ],
          [
           "KOZHAKIN"
          ],
          [
           "CHEPIK"
          ],
          [
           "CANTRELL"
          ],
          [
           "SAMAYOA"
          ],
          [
           "ASHYROV"
          ],
          [
           "KACINSKAS"
          ],
          [
           "OSEI"
          ],
          [
           "SAMKO"
          ],
          [
           "ABUZRIBA"
          ],
          [
           "MUSIC"
          ],
          [
           "SANTAVY"
          ],
          [
           "ZAPATA PRIETO"
          ],
          [
           "MUSIC"
          ],
          [
           "SANTANA VAZQUEZ"
          ],
          [
           "ALJUMAILI"
          ],
          [
           "AFIQHAZIQ"
          ],
          [
           "KNUDSEN"
          ]
         ],
         "hoverlabel": {
          "namelength": 0
         },
         "hovertemplate": "category=89<br>bweight=%{x}<br>total=%{y}<br>lname=%{customdata[0]}",
         "legendgroup": "category=89",
         "marker": {
          "color": "#00cc96",
          "symbol": "circle"
         },
         "mode": "markers",
         "name": "category=89",
         "showlegend": true,
         "type": "scattergl",
         "x": [
          88.75,
          88.95,
          88.5,
          89,
          88.95,
          88.5,
          87.8,
          88.45,
          88.55,
          83.45,
          88.95,
          88.25,
          88,
          87.95,
          88.4,
          88.5,
          88.95,
          89,
          88.55,
          88.55,
          89,
          89,
          88.6,
          87.95,
          87.65,
          88.95,
          87.9,
          85.75,
          88.55,
          87.65,
          88,
          88.75,
          88.95,
          88.5,
          89,
          88.95,
          88.5,
          87.8,
          88.45,
          88.55,
          83.45,
          88.95,
          88.25,
          88,
          87.95,
          88.4,
          88.5,
          88.95,
          89,
          88.55,
          88.55,
          89,
          89,
          88.6,
          87.95,
          87.65,
          88.95,
          87.9,
          85.75,
          88.55,
          87.65,
          88
         ],
         "xaxis": "x",
         "y": [
          375,
          374,
          371,
          370,
          368,
          367,
          364,
          364,
          361,
          358,
          356,
          355,
          354,
          353,
          351,
          350,
          350,
          343,
          339,
          327,
          326,
          323,
          320,
          318,
          310,
          308,
          285,
          267,
          0,
          0,
          0,
          375,
          374,
          371,
          370,
          368,
          367,
          364,
          364,
          361,
          358,
          356,
          355,
          354,
          353,
          351,
          350,
          350,
          343,
          339,
          327,
          326,
          323,
          320,
          318,
          310,
          308,
          285,
          267,
          0,
          0,
          0
         ],
         "yaxis": "y"
        },
        {
         "customdata": [
          [
           "TIAN"
          ],
          [
           "ELBAKH"
          ],
          [
           "PLIESNOI"
          ],
          [
           "RIVAS MOSQUERA"
          ],
          [
           "MOUSAVIJARAHI"
          ],
          [
           "SANTAVY"
          ],
          [
           "KHUGAEV"
          ],
          [
           "ARIAS MOSQUERA"
          ],
          [
           "JANG"
          ],
          [
           "RASULBEKOV"
          ],
          [
           "LUNA MARIN"
          ],
          [
           "KOZEVNIKOVS"
          ],
          [
           "ILYIN"
          ],
          [
           "KULIKOV"
          ],
          [
           "SPIESS"
          ],
          [
           "ARAT"
          ],
          [
           "CHEN"
          ],
          [
           "CONTRERAS CHAMORRO"
          ],
          [
           "PYROHOV"
          ],
          [
           "DAMRON"
          ],
          [
           "OPELOGE"
          ],
          [
           "GREGORIO MACHADO"
          ],
          [
           "GRELA"
          ],
          [
           "CIOBANU"
          ],
          [
           "BONNICK"
          ],
          [
           "KARI"
          ],
          [
           "BABAYAN"
          ],
          [
           "MAKHAMADAMINOV"
          ],
          [
           "NABIYEV"
          ],
          [
           "MESSAOUI"
          ],
          [
           "KAIKILEKOFE"
          ],
          [
           "ONICA"
          ],
          [
           "AVETISYAN"
          ],
          [
           "LAMENZA LOPEZ"
          ],
          [
           "MORALES MARQUEZ"
          ],
          [
           "CHEAH"
          ],
          [
           "ROSTAMI"
          ],
          [
           "MEREDOV"
          ],
          [
           "VELI"
          ],
          [
           "TIAN"
          ],
          [
           "ELBAKH"
          ],
          [
           "PLIESNOI"
          ],
          [
           "RIVAS MOSQUERA"
          ],
          [
           "MOUSAVIJARAHI"
          ],
          [
           "SANTAVY"
          ],
          [
           "KHUGAEV"
          ],
          [
           "ARIAS MOSQUERA"
          ],
          [
           "JANG"
          ],
          [
           "RASULBEKOV"
          ],
          [
           "LUNA MARIN"
          ],
          [
           "KOZEVNIKOVS"
          ],
          [
           "ILYIN"
          ],
          [
           "KULIKOV"
          ],
          [
           "SPIESS"
          ],
          [
           "ARAT"
          ],
          [
           "CHEN"
          ],
          [
           "CONTRERAS CHAMORRO"
          ],
          [
           "PYROHOV"
          ],
          [
           "DAMRON"
          ],
          [
           "OPELOGE"
          ],
          [
           "GREGORIO MACHADO"
          ],
          [
           "GRELA"
          ],
          [
           "CIOBANU"
          ],
          [
           "BONNICK"
          ],
          [
           "KARI"
          ],
          [
           "BABAYAN"
          ],
          [
           "MAKHAMADAMINOV"
          ],
          [
           "NABIYEV"
          ],
          [
           "MESSAOUI"
          ],
          [
           "KAIKILEKOFE"
          ],
          [
           "ONICA"
          ],
          [
           "AVETISYAN"
          ],
          [
           "LAMENZA LOPEZ"
          ],
          [
           "MORALES MARQUEZ"
          ],
          [
           "CHEAH"
          ],
          [
           "ROSTAMI"
          ],
          [
           "MEREDOV"
          ],
          [
           "VELI"
          ]
         ],
         "hoverlabel": {
          "namelength": 0
         },
         "hovertemplate": "category=96<br>bweight=%{x}<br>total=%{y}<br>lname=%{customdata[0]}",
         "legendgroup": "category=96",
         "marker": {
          "color": "#ab63fa",
          "symbol": "circle"
         },
         "mode": "markers",
         "name": "category=96",
         "showlegend": true,
         "type": "scattergl",
         "x": [
          95.75,
          95.95,
          96,
          95.35,
          96,
          94,
          95.95,
          95.75,
          95,
          95.9,
          93.9,
          95.85,
          95.75,
          94.2,
          95.8,
          95.65,
          95.55,
          95.2,
          95.85,
          95.95,
          95.1,
          91.95,
          95.85,
          94.5,
          95.6,
          95.95,
          95.95,
          95.35,
          95.6,
          93.95,
          92.25,
          95.9,
          96,
          95.6,
          95.55,
          94.55,
          95.65,
          95.85,
          95.3,
          95.75,
          95.95,
          96,
          95.35,
          96,
          94,
          95.95,
          95.75,
          95,
          95.9,
          93.9,
          95.85,
          95.75,
          94.2,
          95.8,
          95.65,
          95.55,
          95.2,
          95.85,
          95.95,
          95.1,
          91.95,
          95.85,
          94.5,
          95.6,
          95.95,
          95.95,
          95.35,
          95.6,
          93.95,
          92.25,
          95.9,
          96,
          95.6,
          95.55,
          94.55,
          95.65,
          95.85,
          95.3
         ],
         "xaxis": "x",
         "y": [
          410,
          402,
          394,
          391,
          382,
          380,
          376,
          369,
          367,
          367,
          364,
          364,
          363,
          360,
          360,
          360,
          358,
          353,
          353,
          352,
          351,
          350,
          349,
          347,
          347,
          345,
          345,
          344,
          338,
          338,
          336,
          330,
          323,
          318,
          302,
          295,
          0,
          0,
          0,
          410,
          402,
          394,
          391,
          382,
          380,
          376,
          369,
          367,
          367,
          364,
          364,
          363,
          360,
          360,
          360,
          358,
          353,
          353,
          352,
          351,
          350,
          349,
          347,
          347,
          345,
          345,
          344,
          338,
          338,
          336,
          330,
          323,
          318,
          302,
          295,
          0,
          0,
          0
         ],
         "yaxis": "y"
        },
        {
         "customdata": [
          [
           "TSIKHANTSOU"
          ],
          [
           "JIN"
          ],
          [
           "DEHDAR"
          ],
          [
           "CHUMAK"
          ],
          [
           "GASPARYAN"
          ],
          [
           "HAN"
          ],
          [
           "BEIRALVAND"
          ],
          [
           "KIBANOV"
          ],
          [
           "ARLIONAK"
          ],
          [
           "CHKHEIDZE"
          ],
          [
           "MUGURDUMOV"
          ],
          [
           "USAROV"
          ],
          [
           "REVA"
          ],
          [
           "ELVAN"
          ],
          [
           "PENT"
          ],
          [
           "GASIOR"
          ],
          [
           "DARVILLE"
          ],
          [
           "VIERA ESPINOZA"
          ],
          [
           "OCONCHUBHAIR"
          ],
          [
           "BURGER"
          ],
          [
           "KAGISO"
          ],
          [
           "ALMISHAYYIKH"
          ],
          [
           "TSIKHANTSOU"
          ],
          [
           "JIN"
          ],
          [
           "DEHDAR"
          ],
          [
           "CHUMAK"
          ],
          [
           "GASPARYAN"
          ],
          [
           "HAN"
          ],
          [
           "BEIRALVAND"
          ],
          [
           "KIBANOV"
          ],
          [
           "ARLIONAK"
          ],
          [
           "CHKHEIDZE"
          ],
          [
           "MUGURDUMOV"
          ],
          [
           "USAROV"
          ],
          [
           "REVA"
          ],
          [
           "ELVAN"
          ],
          [
           "PENT"
          ],
          [
           "GASIOR"
          ],
          [
           "DARVILLE"
          ],
          [
           "VIERA ESPINOZA"
          ],
          [
           "OCONCHUBHAIR"
          ],
          [
           "BURGER"
          ],
          [
           "KAGISO"
          ],
          [
           "ALMISHAYYIKH"
          ]
         ],
         "hoverlabel": {
          "namelength": 0
         },
         "hovertemplate": "category=102<br>bweight=%{x}<br>total=%{y}<br>lname=%{customdata[0]}",
         "legendgroup": "category=102",
         "marker": {
          "color": "#FFA15A",
          "symbol": "circle"
         },
         "mode": "markers",
         "name": "category=102",
         "showlegend": true,
         "type": "scattergl",
         "x": [
          100,
          101.9,
          97.65,
          101.4,
          101.7,
          97.95,
          101,
          101.3,
          101.9,
          101.7,
          100.65,
          101.9,
          101.9,
          101.35,
          101.45,
          101.5,
          98.65,
          102,
          102,
          96.5,
          98.5,
          101.35,
          100,
          101.9,
          97.65,
          101.4,
          101.7,
          97.95,
          101,
          101.3,
          101.9,
          101.7,
          100.65,
          101.9,
          101.9,
          101.35,
          101.45,
          101.5,
          98.65,
          102,
          102,
          96.5,
          98.5,
          101.35
         ],
         "xaxis": "x",
         "y": [
          398,
          397,
          394,
          393,
          390,
          378,
          376,
          376,
          375,
          367,
          365,
          363,
          358,
          356,
          346,
          335,
          328,
          313,
          301,
          300,
          0,
          0,
          398,
          397,
          394,
          393,
          390,
          378,
          376,
          376,
          375,
          367,
          365,
          363,
          358,
          356,
          346,
          335,
          328,
          313,
          301,
          300,
          0,
          0
         ],
         "yaxis": "y"
        },
        {
         "customdata": [
          [
           "MARTIROSYAN"
          ],
          [
           "ARAMNAU"
          ],
          [
           "YANG"
          ],
          [
           "DJURAEV"
          ],
          [
           "BOCHKOV"
          ],
          [
           "NANIEV"
          ],
          [
           "HASHEMI"
          ],
          [
           "MICHALSKI"
          ],
          [
           "PLESNIEKS"
          ],
          [
           "MOCHIDA"
          ],
          [
           "SEO"
          ],
          [
           "JEONG"
          ],
          [
           "RUIZ I VELASCO"
          ],
          [
           "KITTS"
          ],
          [
           "SHIRAISHI"
          ],
          [
           "MARTIROSJAN"
          ],
          [
           "ZAITSEV"
          ],
          [
           "GONZALEZ BARRIOS"
          ],
          [
           "BERSANOV"
          ],
          [
           "ARROYO VALDEZ"
          ],
          [
           "OVEZOV"
          ],
          [
           "SIDISKIS"
          ],
          [
           "BOXALL"
          ],
          [
           "KESKITALO"
          ],
          [
           "KRYWULT"
          ],
          [
           "MEIDL"
          ],
          [
           "RIGSBY"
          ],
          [
           "DAVIDSON"
          ],
          [
           "ABBOOD"
          ],
          [
           "GOSPODINOV"
          ],
          [
           "POMELILE"
          ],
          [
           "KRUZEL"
          ],
          [
           "MARTIROSYAN"
          ],
          [
           "ARAMNAU"
          ],
          [
           "YANG"
          ],
          [
           "DJURAEV"
          ],
          [
           "BOCHKOV"
          ],
          [
           "NANIEV"
          ],
          [
           "HASHEMI"
          ],
          [
           "MICHALSKI"
          ],
          [
           "PLESNIEKS"
          ],
          [
           "MOCHIDA"
          ],
          [
           "SEO"
          ],
          [
           "JEONG"
          ],
          [
           "RUIZ I VELASCO"
          ],
          [
           "KITTS"
          ],
          [
           "SHIRAISHI"
          ],
          [
           "MARTIROSJAN"
          ],
          [
           "ZAITSEV"
          ],
          [
           "GONZALEZ BARRIOS"
          ],
          [
           "BERSANOV"
          ],
          [
           "ARROYO VALDEZ"
          ],
          [
           "OVEZOV"
          ],
          [
           "SIDISKIS"
          ],
          [
           "BOXALL"
          ],
          [
           "KESKITALO"
          ],
          [
           "KRYWULT"
          ],
          [
           "MEIDL"
          ],
          [
           "RIGSBY"
          ],
          [
           "DAVIDSON"
          ],
          [
           "ABBOOD"
          ],
          [
           "GOSPODINOV"
          ],
          [
           "POMELILE"
          ],
          [
           "KRUZEL"
          ]
         ],
         "hoverlabel": {
          "namelength": 0
         },
         "hovertemplate": "category=109<br>bweight=%{x}<br>total=%{y}<br>lname=%{customdata[0]}",
         "legendgroup": "category=109",
         "marker": {
          "color": "#19d3f3",
          "symbol": "circle"
         },
         "mode": "markers",
         "name": "category=109",
         "showlegend": true,
         "type": "scattergl",
         "x": [
          108.95,
          108.85,
          108.95,
          108.6,
          108.9,
          109,
          107.95,
          108.95,
          108.65,
          108.85,
          108.75,
          108.75,
          108.5,
          108.85,
          108.75,
          108.65,
          108.25,
          108.75,
          108.95,
          108.8,
          108.45,
          108.7,
          108.6,
          107.55,
          107.45,
          108.5,
          108.7,
          108.4,
          102.15,
          108.85,
          108.45,
          108.8,
          108.95,
          108.85,
          108.95,
          108.6,
          108.9,
          109,
          107.95,
          108.95,
          108.65,
          108.85,
          108.75,
          108.75,
          108.5,
          108.85,
          108.75,
          108.65,
          108.25,
          108.75,
          108.95,
          108.8,
          108.45,
          108.7,
          108.6,
          107.55,
          107.45,
          108.5,
          108.7,
          108.4,
          102.15,
          108.85,
          108.45,
          108.8
         ],
         "xaxis": "x",
         "y": [
          429,
          426,
          420,
          417,
          414,
          409,
          395,
          394,
          394,
          393,
          389,
          388,
          388,
          388,
          385,
          383,
          382,
          381,
          380,
          376,
          368,
          360,
          350,
          341,
          335,
          335,
          324,
          322,
          0,
          0,
          0,
          0,
          429,
          426,
          420,
          417,
          414,
          409,
          395,
          394,
          394,
          393,
          389,
          388,
          388,
          388,
          385,
          383,
          382,
          381,
          380,
          376,
          368,
          360,
          350,
          341,
          335,
          335,
          324,
          322,
          0,
          0,
          0,
          0
         ],
         "yaxis": "y"
        },
        {
         "customdata": [
          [
           "LI"
          ],
          [
           "KASHIRINA"
          ],
          [
           "MENG"
          ],
          [
           "KIM"
          ],
          [
           "LYSENKO"
          ],
          [
           "HUBBARD"
          ],
          [
           "ROBLES"
          ],
          [
           "SON"
          ],
          [
           "CAMPBELL"
          ],
          [
           "SALADIN TOLENTINO"
          ],
          [
           "AKMAL"
          ],
          [
           "ESPINOSA"
          ],
          [
           "AYOVI CABEZAS"
          ],
          [
           "STOWERS"
          ],
          [
           "AMOE TARRANT"
          ],
          [
           "SIPAIA"
          ],
          [
           "BUENO PLACENCIA"
          ],
          [
           "GUNAL"
          ],
          [
           "MANUMUA"
          ],
          [
           "LI"
          ],
          [
           "KASHIRINA"
          ],
          [
           "MENG"
          ],
          [
           "KIM"
          ],
          [
           "LYSENKO"
          ],
          [
           "HUBBARD"
          ],
          [
           "ROBLES"
          ],
          [
           "SON"
          ],
          [
           "CAMPBELL"
          ],
          [
           "SALADIN TOLENTINO"
          ],
          [
           "AKMAL"
          ],
          [
           "ESPINOSA"
          ],
          [
           "AYOVI CABEZAS"
          ],
          [
           "STOWERS"
          ],
          [
           "AMOE TARRANT"
          ],
          [
           "SIPAIA"
          ],
          [
           "BUENO PLACENCIA"
          ],
          [
           "GUNAL"
          ],
          [
           "MANUMUA"
          ]
         ],
         "hoverlabel": {
          "namelength": 0
         },
         "hovertemplate": "category=p87<br>bweight=%{x}<br>total=%{y}<br>lname=%{customdata[0]}",
         "legendgroup": "category=p87",
         "marker": {
          "color": "#FF6692",
          "symbol": "circle"
         },
         "mode": "markers",
         "name": "category=p87",
         "showlegend": true,
         "type": "scattergl",
         "x": [
          147.95,
          108.25,
          120.65,
          100.8,
          102.85,
          138.15,
          145.4,
          114.7,
          120,
          128.65,
          110.55,
          114.3,
          128.5,
          125.75,
          135.2,
          132.85,
          123.5,
          114.05,
          108.05,
          147.95,
          108.25,
          120.65,
          100.8,
          102.85,
          138.15,
          145.4,
          114.7,
          120,
          128.65,
          110.55,
          114.3,
          128.5,
          125.75,
          135.2,
          132.85,
          123.5,
          114.05,
          108.05
         ],
         "xaxis": "x",
         "y": [
          332,
          318,
          311,
          303,
          286,
          285,
          285,
          276,
          267,
          265,
          260,
          259,
          258,
          257,
          248,
          248,
          245,
          230,
          211,
          332,
          318,
          311,
          303,
          286,
          285,
          285,
          276,
          267,
          265,
          260,
          259,
          258,
          257,
          248,
          248,
          245,
          230,
          211
         ],
         "yaxis": "y"
        },
        {
         "customdata": [
          [
           "TALAKHADZE"
          ],
          [
           "MINASYAN"
          ],
          [
           "ALEKSANYAN"
          ],
          [
           "ZIAZIULIN"
          ],
          [
           "BIDANI"
          ],
          [
           "ASAAD"
          ],
          [
           "CHEN"
          ],
          [
           "SARAIVA REIS"
          ],
          [
           "TOYCHYYEV"
          ],
          [
           "DAVOUDI"
          ],
          [
           "ORSAG"
          ],
          [
           "MURAKAMI"
          ],
          [
           "CHKHEIDZE"
          ],
          [
           "SAVCHUK"
          ],
          [
           "HAM"
          ],
          [
           "WILKES"
          ],
          [
           "LITI"
          ],
          [
           "SEIM"
          ],
          [
           "NAGY"
          ],
          [
           "LITVINOV"
          ],
          [
           "KUWORGE"
          ],
          [
           "MANRIQUEZ COLLINS"
          ],
          [
           "COULLET"
          ],
          [
           "TOLLEFSEN"
          ],
          [
           "LEMUS CALANCHE"
          ],
          [
           "KUCERA"
          ],
          [
           "SALAS MANGUIS"
          ],
          [
           "DADRASASL"
          ],
          [
           "TALAKHADZE"
          ],
          [
           "MINASYAN"
          ],
          [
           "ALEKSANYAN"
          ],
          [
           "ZIAZIULIN"
          ],
          [
           "BIDANI"
          ],
          [
           "ASAAD"
          ],
          [
           "CHEN"
          ],
          [
           "SARAIVA REIS"
          ],
          [
           "TOYCHYYEV"
          ],
          [
           "DAVOUDI"
          ],
          [
           "ORSAG"
          ],
          [
           "MURAKAMI"
          ],
          [
           "CHKHEIDZE"
          ],
          [
           "SAVCHUK"
          ],
          [
           "HAM"
          ],
          [
           "WILKES"
          ],
          [
           "LITI"
          ],
          [
           "SEIM"
          ],
          [
           "NAGY"
          ],
          [
           "LITVINOV"
          ],
          [
           "KUWORGE"
          ],
          [
           "MANRIQUEZ COLLINS"
          ],
          [
           "COULLET"
          ],
          [
           "TOLLEFSEN"
          ],
          [
           "LEMUS CALANCHE"
          ],
          [
           "KUCERA"
          ],
          [
           "SALAS MANGUIS"
          ],
          [
           "DADRASASL"
          ]
         ],
         "hoverlabel": {
          "namelength": 0
         },
         "hovertemplate": "category=p109<br>bweight=%{x}<br>total=%{y}<br>lname=%{customdata[0]}",
         "legendgroup": "category=p109",
         "marker": {
          "color": "#B6E880",
          "symbol": "circle"
         },
         "mode": "markers",
         "name": "category=p109",
         "showlegend": true,
         "type": "scattergl",
         "x": [
          168.65,
          150.8,
          153.85,
          134.55,
          142.4,
          144.6,
          156.3,
          153.3,
          150.9,
          169.1,
          129.85,
          138.2,
          131.5,
          140.4,
          142.4,
          146.25,
          173.4,
          148.75,
          157,
          128.3,
          142.85,
          184.2,
          149.1,
          120.5,
          125.9,
          153.15,
          172.15,
          167.4,
          168.65,
          150.8,
          153.85,
          134.55,
          142.4,
          144.6,
          156.3,
          153.3,
          150.9,
          169.1,
          129.85,
          138.2,
          131.5,
          140.4,
          142.4,
          146.25,
          173.4,
          148.75,
          157,
          128.3,
          142.85,
          184.2,
          149.1,
          120.5,
          125.9,
          153.15,
          172.15,
          167.4
         ],
         "xaxis": "x",
         "y": [
          484,
          460,
          437,
          432,
          431,
          430,
          425,
          424,
          422,
          420,
          416,
          415,
          412,
          409,
          407,
          403,
          400,
          400,
          397,
          395,
          381,
          376,
          375,
          367,
          366,
          0,
          0,
          0,
          484,
          460,
          437,
          432,
          431,
          430,
          425,
          424,
          422,
          420,
          416,
          415,
          412,
          409,
          407,
          403,
          400,
          400,
          397,
          395,
          381,
          376,
          375,
          367,
          366,
          0,
          0,
          0
         ],
         "yaxis": "y"
        }
       ],
       "layout": {
        "height": 600,
        "legend": {
         "tracegroupgap": 0
        },
        "margin": {
         "t": 60
        },
        "template": {
         "data": {
          "bar": [
           {
            "error_x": {
             "color": "#2a3f5f"
            },
            "error_y": {
             "color": "#2a3f5f"
            },
            "marker": {
             "line": {
              "color": "#E5ECF6",
              "width": 0.5
             }
            },
            "type": "bar"
           }
          ],
          "barpolar": [
           {
            "marker": {
             "line": {
              "color": "#E5ECF6",
              "width": 0.5
             }
            },
            "type": "barpolar"
           }
          ],
          "carpet": [
           {
            "aaxis": {
             "endlinecolor": "#2a3f5f",
             "gridcolor": "white",
             "linecolor": "white",
             "minorgridcolor": "white",
             "startlinecolor": "#2a3f5f"
            },
            "baxis": {
             "endlinecolor": "#2a3f5f",
             "gridcolor": "white",
             "linecolor": "white",
             "minorgridcolor": "white",
             "startlinecolor": "#2a3f5f"
            },
            "type": "carpet"
           }
          ],
          "choropleth": [
           {
            "colorbar": {
             "outlinewidth": 0,
             "ticks": ""
            },
            "type": "choropleth"
           }
          ],
          "contour": [
           {
            "colorbar": {
             "outlinewidth": 0,
             "ticks": ""
            },
            "colorscale": [
             [
              0,
              "#0d0887"
             ],
             [
              0.1111111111111111,
              "#46039f"
             ],
             [
              0.2222222222222222,
              "#7201a8"
             ],
             [
              0.3333333333333333,
              "#9c179e"
             ],
             [
              0.4444444444444444,
              "#bd3786"
             ],
             [
              0.5555555555555556,
              "#d8576b"
             ],
             [
              0.6666666666666666,
              "#ed7953"
             ],
             [
              0.7777777777777778,
              "#fb9f3a"
             ],
             [
              0.8888888888888888,
              "#fdca26"
             ],
             [
              1,
              "#f0f921"
             ]
            ],
            "type": "contour"
           }
          ],
          "contourcarpet": [
           {
            "colorbar": {
             "outlinewidth": 0,
             "ticks": ""
            },
            "type": "contourcarpet"
           }
          ],
          "heatmap": [
           {
            "colorbar": {
             "outlinewidth": 0,
             "ticks": ""
            },
            "colorscale": [
             [
              0,
              "#0d0887"
             ],
             [
              0.1111111111111111,
              "#46039f"
             ],
             [
              0.2222222222222222,
              "#7201a8"
             ],
             [
              0.3333333333333333,
              "#9c179e"
             ],
             [
              0.4444444444444444,
              "#bd3786"
             ],
             [
              0.5555555555555556,
              "#d8576b"
             ],
             [
              0.6666666666666666,
              "#ed7953"
             ],
             [
              0.7777777777777778,
              "#fb9f3a"
             ],
             [
              0.8888888888888888,
              "#fdca26"
             ],
             [
              1,
              "#f0f921"
             ]
            ],
            "type": "heatmap"
           }
          ],
          "heatmapgl": [
           {
            "colorbar": {
             "outlinewidth": 0,
             "ticks": ""
            },
            "colorscale": [
             [
              0,
              "#0d0887"
             ],
             [
              0.1111111111111111,
              "#46039f"
             ],
             [
              0.2222222222222222,
              "#7201a8"
             ],
             [
              0.3333333333333333,
              "#9c179e"
             ],
             [
              0.4444444444444444,
              "#bd3786"
             ],
             [
              0.5555555555555556,
              "#d8576b"
             ],
             [
              0.6666666666666666,
              "#ed7953"
             ],
             [
              0.7777777777777778,
              "#fb9f3a"
             ],
             [
              0.8888888888888888,
              "#fdca26"
             ],
             [
              1,
              "#f0f921"
             ]
            ],
            "type": "heatmapgl"
           }
          ],
          "histogram": [
           {
            "marker": {
             "colorbar": {
              "outlinewidth": 0,
              "ticks": ""
             }
            },
            "type": "histogram"
           }
          ],
          "histogram2d": [
           {
            "colorbar": {
             "outlinewidth": 0,
             "ticks": ""
            },
            "colorscale": [
             [
              0,
              "#0d0887"
             ],
             [
              0.1111111111111111,
              "#46039f"
             ],
             [
              0.2222222222222222,
              "#7201a8"
             ],
             [
              0.3333333333333333,
              "#9c179e"
             ],
             [
              0.4444444444444444,
              "#bd3786"
             ],
             [
              0.5555555555555556,
              "#d8576b"
             ],
             [
              0.6666666666666666,
              "#ed7953"
             ],
             [
              0.7777777777777778,
              "#fb9f3a"
             ],
             [
              0.8888888888888888,
              "#fdca26"
             ],
             [
              1,
              "#f0f921"
             ]
            ],
            "type": "histogram2d"
           }
          ],
          "histogram2dcontour": [
           {
            "colorbar": {
             "outlinewidth": 0,
             "ticks": ""
            },
            "colorscale": [
             [
              0,
              "#0d0887"
             ],
             [
              0.1111111111111111,
              "#46039f"
             ],
             [
              0.2222222222222222,
              "#7201a8"
             ],
             [
              0.3333333333333333,
              "#9c179e"
             ],
             [
              0.4444444444444444,
              "#bd3786"
             ],
             [
              0.5555555555555556,
              "#d8576b"
             ],
             [
              0.6666666666666666,
              "#ed7953"
             ],
             [
              0.7777777777777778,
              "#fb9f3a"
             ],
             [
              0.8888888888888888,
              "#fdca26"
             ],
             [
              1,
              "#f0f921"
             ]
            ],
            "type": "histogram2dcontour"
           }
          ],
          "mesh3d": [
           {
            "colorbar": {
             "outlinewidth": 0,
             "ticks": ""
            },
            "type": "mesh3d"
           }
          ],
          "parcoords": [
           {
            "line": {
             "colorbar": {
              "outlinewidth": 0,
              "ticks": ""
             }
            },
            "type": "parcoords"
           }
          ],
          "scatter": [
           {
            "marker": {
             "colorbar": {
              "outlinewidth": 0,
              "ticks": ""
             }
            },
            "type": "scatter"
           }
          ],
          "scatter3d": [
           {
            "line": {
             "colorbar": {
              "outlinewidth": 0,
              "ticks": ""
             }
            },
            "marker": {
             "colorbar": {
              "outlinewidth": 0,
              "ticks": ""
             }
            },
            "type": "scatter3d"
           }
          ],
          "scattercarpet": [
           {
            "marker": {
             "colorbar": {
              "outlinewidth": 0,
              "ticks": ""
             }
            },
            "type": "scattercarpet"
           }
          ],
          "scattergeo": [
           {
            "marker": {
             "colorbar": {
              "outlinewidth": 0,
              "ticks": ""
             }
            },
            "type": "scattergeo"
           }
          ],
          "scattergl": [
           {
            "marker": {
             "colorbar": {
              "outlinewidth": 0,
              "ticks": ""
             }
            },
            "type": "scattergl"
           }
          ],
          "scattermapbox": [
           {
            "marker": {
             "colorbar": {
              "outlinewidth": 0,
              "ticks": ""
             }
            },
            "type": "scattermapbox"
           }
          ],
          "scatterpolar": [
           {
            "marker": {
             "colorbar": {
              "outlinewidth": 0,
              "ticks": ""
             }
            },
            "type": "scatterpolar"
           }
          ],
          "scatterpolargl": [
           {
            "marker": {
             "colorbar": {
              "outlinewidth": 0,
              "ticks": ""
             }
            },
            "type": "scatterpolargl"
           }
          ],
          "scatterternary": [
           {
            "marker": {
             "colorbar": {
              "outlinewidth": 0,
              "ticks": ""
             }
            },
            "type": "scatterternary"
           }
          ],
          "surface": [
           {
            "colorbar": {
             "outlinewidth": 0,
             "ticks": ""
            },
            "colorscale": [
             [
              0,
              "#0d0887"
             ],
             [
              0.1111111111111111,
              "#46039f"
             ],
             [
              0.2222222222222222,
              "#7201a8"
             ],
             [
              0.3333333333333333,
              "#9c179e"
             ],
             [
              0.4444444444444444,
              "#bd3786"
             ],
             [
              0.5555555555555556,
              "#d8576b"
             ],
             [
              0.6666666666666666,
              "#ed7953"
             ],
             [
              0.7777777777777778,
              "#fb9f3a"
             ],
             [
              0.8888888888888888,
              "#fdca26"
             ],
             [
              1,
              "#f0f921"
             ]
            ],
            "type": "surface"
           }
          ],
          "table": [
           {
            "cells": {
             "fill": {
              "color": "#EBF0F8"
             },
             "line": {
              "color": "white"
             }
            },
            "header": {
             "fill": {
              "color": "#C8D4E3"
             },
             "line": {
              "color": "white"
             }
            },
            "type": "table"
           }
          ]
         },
         "layout": {
          "annotationdefaults": {
           "arrowcolor": "#2a3f5f",
           "arrowhead": 0,
           "arrowwidth": 1
          },
          "colorscale": {
           "diverging": [
            [
             0,
             "#8e0152"
            ],
            [
             0.1,
             "#c51b7d"
            ],
            [
             0.2,
             "#de77ae"
            ],
            [
             0.3,
             "#f1b6da"
            ],
            [
             0.4,
             "#fde0ef"
            ],
            [
             0.5,
             "#f7f7f7"
            ],
            [
             0.6,
             "#e6f5d0"
            ],
            [
             0.7,
             "#b8e186"
            ],
            [
             0.8,
             "#7fbc41"
            ],
            [
             0.9,
             "#4d9221"
            ],
            [
             1,
             "#276419"
            ]
           ],
           "sequential": [
            [
             0,
             "#0d0887"
            ],
            [
             0.1111111111111111,
             "#46039f"
            ],
            [
             0.2222222222222222,
             "#7201a8"
            ],
            [
             0.3333333333333333,
             "#9c179e"
            ],
            [
             0.4444444444444444,
             "#bd3786"
            ],
            [
             0.5555555555555556,
             "#d8576b"
            ],
            [
             0.6666666666666666,
             "#ed7953"
            ],
            [
             0.7777777777777778,
             "#fb9f3a"
            ],
            [
             0.8888888888888888,
             "#fdca26"
            ],
            [
             1,
             "#f0f921"
            ]
           ],
           "sequentialminus": [
            [
             0,
             "#0d0887"
            ],
            [
             0.1111111111111111,
             "#46039f"
            ],
            [
             0.2222222222222222,
             "#7201a8"
            ],
            [
             0.3333333333333333,
             "#9c179e"
            ],
            [
             0.4444444444444444,
             "#bd3786"
            ],
            [
             0.5555555555555556,
             "#d8576b"
            ],
            [
             0.6666666666666666,
             "#ed7953"
            ],
            [
             0.7777777777777778,
             "#fb9f3a"
            ],
            [
             0.8888888888888888,
             "#fdca26"
            ],
            [
             1,
             "#f0f921"
            ]
           ]
          },
          "colorway": [
           "#636efa",
           "#EF553B",
           "#00cc96",
           "#ab63fa",
           "#FFA15A",
           "#19d3f3",
           "#FF6692",
           "#B6E880",
           "#FF97FF",
           "#FECB52"
          ],
          "font": {
           "color": "#2a3f5f"
          },
          "geo": {
           "bgcolor": "white",
           "lakecolor": "white",
           "landcolor": "#E5ECF6",
           "showlakes": true,
           "showland": true,
           "subunitcolor": "white"
          },
          "hoverlabel": {
           "align": "left"
          },
          "hovermode": "closest",
          "mapbox": {
           "style": "light"
          },
          "paper_bgcolor": "white",
          "plot_bgcolor": "#E5ECF6",
          "polar": {
           "angularaxis": {
            "gridcolor": "white",
            "linecolor": "white",
            "ticks": ""
           },
           "bgcolor": "#E5ECF6",
           "radialaxis": {
            "gridcolor": "white",
            "linecolor": "white",
            "ticks": ""
           }
          },
          "scene": {
           "xaxis": {
            "backgroundcolor": "#E5ECF6",
            "gridcolor": "white",
            "gridwidth": 2,
            "linecolor": "white",
            "showbackground": true,
            "ticks": "",
            "zerolinecolor": "white"
           },
           "yaxis": {
            "backgroundcolor": "#E5ECF6",
            "gridcolor": "white",
            "gridwidth": 2,
            "linecolor": "white",
            "showbackground": true,
            "ticks": "",
            "zerolinecolor": "white"
           },
           "zaxis": {
            "backgroundcolor": "#E5ECF6",
            "gridcolor": "white",
            "gridwidth": 2,
            "linecolor": "white",
            "showbackground": true,
            "ticks": "",
            "zerolinecolor": "white"
           }
          },
          "shapedefaults": {
           "line": {
            "color": "#2a3f5f"
           }
          },
          "ternary": {
           "aaxis": {
            "gridcolor": "white",
            "linecolor": "white",
            "ticks": ""
           },
           "baxis": {
            "gridcolor": "white",
            "linecolor": "white",
            "ticks": ""
           },
           "bgcolor": "#E5ECF6",
           "caxis": {
            "gridcolor": "white",
            "linecolor": "white",
            "ticks": ""
           }
          },
          "title": {
           "x": 0.05
          },
          "xaxis": {
           "automargin": true,
           "gridcolor": "white",
           "linecolor": "white",
           "ticks": "",
           "zerolinecolor": "white",
           "zerolinewidth": 2
          },
          "yaxis": {
           "automargin": true,
           "gridcolor": "white",
           "linecolor": "white",
           "ticks": "",
           "zerolinecolor": "white",
           "zerolinewidth": 2
          }
         }
        },
        "xaxis": {
         "anchor": "y",
         "domain": [
          0,
          0.98
         ],
         "title": {
          "text": "bweight"
         }
        },
        "yaxis": {
         "anchor": "x",
         "domain": [
          0,
          1
         ],
         "title": {
          "text": "total"
         }
        }
       }
      },
      "text/html": [
       "<div>\n",
       "        \n",
       "        \n",
       "            <div id=\"81c5bba7-cf7c-44fb-80fc-ab8f2fd91602\" class=\"plotly-graph-div\" style=\"height:600px; width:100%;\"></div>\n",
       "            <script type=\"text/javascript\">\n",
       "                require([\"plotly\"], function(Plotly) {\n",
       "                    window.PLOTLYENV=window.PLOTLYENV || {};\n",
       "                    \n",
       "                if (document.getElementById(\"81c5bba7-cf7c-44fb-80fc-ab8f2fd91602\")) {\n",
       "                    Plotly.newPlot(\n",
       "                        '81c5bba7-cf7c-44fb-80fc-ab8f2fd91602',\n",
       "                        [{\"customdata\": [[\"ERDOGAN\"], [\"MONTERO RAMOS\"], [\"SETIAWATI\"], [\"VUONG\"], [\"KHONG\"], [\"QUINTANA MENDOZA\"], [\"DIAZ\"], [\"RANDAFIARISON\"], [\"PANOVA\"], [\"DOGAN\"], [\"LANDEROS LOPEZ\"], [\"PANDOVA\"], [\"MAJER\"], [\"ASAYONAK\"], [\"AKHTER\"], [\"NAVARRO MEJIA\"], [\"DALABEHERA\"], [\"LEE\"], [\"ERDOGAN\"], [\"MONTERO RAMOS\"], [\"SETIAWATI\"], [\"VUONG\"], [\"KHONG\"], [\"QUINTANA MENDOZA\"], [\"DIAZ\"], [\"RANDAFIARISON\"], [\"PANOVA\"], [\"DOGAN\"], [\"LANDEROS LOPEZ\"], [\"PANDOVA\"], [\"MAJER\"], [\"ASAYONAK\"], [\"AKHTER\"], [\"NAVARRO MEJIA\"], [\"DALABEHERA\"], [\"LEE\"]], \"hoverlabel\": {\"namelength\": 0}, \"hovertemplate\": \"category=45<br>bweight=%{x}<br>total=%{y}<br>lname=%{customdata[0]}\", \"legendgroup\": \"category=45\", \"marker\": {\"color\": \"#636efa\", \"symbol\": \"circle\"}, \"mode\": \"markers\", \"name\": \"category=45\", \"showlegend\": true, \"type\": \"scattergl\", \"x\": [45.0, 44.95, 44.35, 44.85, 44.55, 44.75, 44.9, 43.8, 44.9, 44.95, 45.0, 44.9, 44.75, 44.6, 44.8, 44.5, 44.95, 44.85, 45.0, 44.95, 44.35, 44.85, 44.55, 44.75, 44.9, 43.8, 44.9, 44.95, 45.0, 44.9, 44.75, 44.6, 44.8, 44.5, 44.95, 44.85], \"xaxis\": \"x\", \"y\": [169, 167, 165, 164, 161, 157, 156, 155, 153, 148, 143, 142, 136, 125, 124, 0, 0, 0, 169, 167, 165, 164, 161, 157, 156, 155, 153, 148, 143, 142, 136, 125, 124, 0, 0, 0], \"yaxis\": \"y\"}, {\"customdata\": [[\"JIANG\"], [\"HOU\"], [\"RI\"], [\"MIRABAI\"], [\"SEGURA SEGURA\"], [\"SOBOL\"], [\"PIRON CANDELARIO\"], [\"KING\"], [\"AISAH\"], [\"MICHEL\"], [\"TOUA\"], [\"ROSA FIGUEIREDO\"], [\"RITCHEY\"], [\"ECHANDIA ZARATE\"], [\"LIN\"], [\"LORENTZ\"], [\"BRADDOCK\"], [\"OLIVEIRA MADEIRA\"], [\"CAMPOVERDE ALMEIDA\"], [\"RANAIVOSOA\"], [\"PEREZ\"], [\"ABDULLAEVA\"], [\"ANDRIES\"], [\"PATSEANG\"], [\"CUEVA URIBE\"], [\"BURGOS ORTIZ\"], [\"BOMIRIYAGE GOMAS\"], [\"ROBSON\"], [\"GULAM\"], [\"TAKAHASHI\"], [\"MIYAKE\"], [\"RUSSO\"], [\"DZHUMABAYEVA\"], [\"JIANG\"], [\"HOU\"], [\"RI\"], [\"MIRABAI\"], [\"SEGURA SEGURA\"], [\"SOBOL\"], [\"PIRON CANDELARIO\"], [\"KING\"], [\"AISAH\"], [\"MICHEL\"], [\"TOUA\"], [\"ROSA FIGUEIREDO\"], [\"RITCHEY\"], [\"ECHANDIA ZARATE\"], [\"LIN\"], [\"LORENTZ\"], [\"BRADDOCK\"], [\"OLIVEIRA MADEIRA\"], [\"CAMPOVERDE ALMEIDA\"], [\"RANAIVOSOA\"], [\"PEREZ\"], [\"ABDULLAEVA\"], [\"ANDRIES\"], [\"PATSEANG\"], [\"CUEVA URIBE\"], [\"BURGOS ORTIZ\"], [\"BOMIRIYAGE GOMAS\"], [\"ROBSON\"], [\"GULAM\"], [\"TAKAHASHI\"], [\"MIYAKE\"], [\"RUSSO\"], [\"DZHUMABAYEVA\"]], \"hoverlabel\": {\"namelength\": 0}, \"hovertemplate\": \"category=49<br>bweight=%{x}<br>total=%{y}<br>lname=%{customdata[0]}\", \"legendgroup\": \"category=49\", \"marker\": {\"color\": \"#EF553B\", \"symbol\": \"circle\"}, \"mode\": \"markers\", \"name\": \"category=49\", \"showlegend\": true, \"type\": \"scattergl\", \"x\": [48.95, 48.85, 48.75, 49.0, 49.0, 49.0, 48.6, 48.9, 48.25, 48.85, 49.0, 49.0, 48.95, 48.65, 48.3, 48.95, 48.9, 49.0, 48.5, 49.0, 49.0, 48.95, 49.0, 48.15, 49.0, 49.0, 48.85, 48.95, 48.95, 48.85, 48.95, 48.8, 48.9, 48.95, 48.85, 48.75, 49.0, 49.0, 49.0, 48.6, 48.9, 48.25, 48.85, 49.0, 49.0, 48.95, 48.65, 48.3, 48.95, 48.9, 49.0, 48.5, 49.0, 49.0, 48.95, 49.0, 48.15, 49.0, 49.0, 48.85, 48.95, 48.95, 48.85, 48.95, 48.8, 48.9], \"xaxis\": \"x\", \"y\": [212, 211, 204, 201, 188, 187, 187, 183, 182, 180, 180, 178, 178, 176, 176, 175, 174, 174, 172, 171, 165, 165, 164, 164, 163, 162, 157, 156, 150, 0, 0, 0, 0, 212, 211, 204, 201, 188, 187, 187, 183, 182, 180, 180, 178, 178, 176, 176, 175, 174, 174, 172, 171, 165, 165, 164, 164, 163, 162, 157, 156, 150, 0, 0, 0, 0], \"yaxis\": \"y\"}, {\"customdata\": [[\"OM\"], [\"LIAO\"], [\"SON\"], [\"ZHANG\"], [\"AL SALEEM\"], [\"DIAZ\"], [\"NGUYEN\"], [\"CHINSHANLO\"], [\"CHONTEY\"], [\"SINISTERRA TORRES\"], [\"CENIZA\"], [\"NABIEVA\"], [\"GHASHGHAEI\"], [\"LOPEZ FERRER\"], [\"WIJOYO\"], [\"LEBLANCBAZINET\"], [\"MASSIDDA\"], [\"DELACRUZ\"], [\"YODAGE\"], [\"ERSHOVA\"], [\"LUNGU\"], [\"SHERMETOVA\"], [\"LOCHOWSKA\"], [\"YAGI\"], [\"MEGO CONTRERAS\"], [\"LOMBARDO\"], [\"KONOTOP\"], [\"DOS REIS SANTOS\"], [\"STERCKX\"], [\"SADOYAMA\"], [\"MAGISTRIS\"], [\"CHIANG\"], [\"LAURINDO MORAES\"], [\"OVSTHUS\"], [\"AZIMOVA\"], [\"KENTLI\"], [\"JOHNSON\"], [\"BRUHN\"], [\"HERNANDEZ MARTIN\"], [\"JACOBSEN\"], [\"SOREN\"], [\"WILLIAMS\"], [\"LANDOULSI\"], [\"WARNAKULASURIYA\"], [\"ZALATAROVA\"], [\"JENSEN\"], [\"LIFU\"], [\"BASAMI\"], [\"CHULUUNBAATAR\"], [\"MARKOVIC\"], [\"LAI\"], [\"IVANOVA\"], [\"RODRIGUEZ GOMEZ\"], [\"OM\"], [\"LIAO\"], [\"SON\"], [\"ZHANG\"], [\"AL SALEEM\"], [\"DIAZ\"], [\"NGUYEN\"], [\"CHINSHANLO\"], [\"CHONTEY\"], [\"SINISTERRA TORRES\"], [\"CENIZA\"], [\"NABIEVA\"], [\"GHASHGHAEI\"], [\"LOPEZ FERRER\"], [\"WIJOYO\"], [\"LEBLANCBAZINET\"], [\"MASSIDDA\"], [\"DELACRUZ\"], [\"YODAGE\"], [\"ERSHOVA\"], [\"LUNGU\"], [\"SHERMETOVA\"], [\"LOCHOWSKA\"], [\"YAGI\"], [\"MEGO CONTRERAS\"], [\"LOMBARDO\"], [\"KONOTOP\"], [\"DOS REIS SANTOS\"], [\"STERCKX\"], [\"SADOYAMA\"], [\"MAGISTRIS\"], [\"CHIANG\"], [\"LAURINDO MORAES\"], [\"OVSTHUS\"], [\"AZIMOVA\"], [\"KENTLI\"], [\"JOHNSON\"], [\"BRUHN\"], [\"HERNANDEZ MARTIN\"], [\"JACOBSEN\"], [\"SOREN\"], [\"WILLIAMS\"], [\"LANDOULSI\"], [\"WARNAKULASURIYA\"], [\"ZALATAROVA\"], [\"JENSEN\"], [\"LIFU\"], [\"BASAMI\"], [\"CHULUUNBAATAR\"], [\"MARKOVIC\"], [\"LAI\"], [\"IVANOVA\"], [\"RODRIGUEZ GOMEZ\"]], \"hoverlabel\": {\"namelength\": 0}, \"hovertemplate\": \"category=55<br>bweight=%{x}<br>total=%{y}<br>lname=%{customdata[0]}\", \"legendgroup\": \"category=55\", \"marker\": {\"color\": \"#00cc96\", \"symbol\": \"circle\"}, \"mode\": \"markers\", \"name\": \"category=55\", \"showlegend\": true, \"type\": \"scattergl\", \"x\": [54.95, 54.8, 55.0, 54.8, 55.0, 54.9, 54.8, 54.95, 54.95, 55.0, 54.95, 54.9, 55.0, 55.0, 55.0, 54.85, 55.0, 53.65, 54.95, 54.85, 55.0, 55.0, 55.0, 54.75, 54.85, 53.85, 54.45, 54.7, 53.55, 53.55, 54.75, 55.0, 54.25, 54.55, 54.95, 54.95, 55.0, 55.0, 54.8, 54.9, 52.85, 54.8, 54.5, 54.85, 55.0, 54.8, 54.95, 54.6, 53.9, 54.2, 54.9, 54.9, 54.9, 54.95, 54.8, 55.0, 54.8, 55.0, 54.9, 54.8, 54.95, 54.95, 55.0, 54.95, 54.9, 55.0, 55.0, 55.0, 54.85, 55.0, 53.65, 54.95, 54.85, 55.0, 55.0, 55.0, 54.75, 54.85, 53.85, 54.45, 54.7, 53.55, 53.55, 54.75, 55.0, 54.25, 54.55, 54.95, 54.95, 55.0, 55.0, 54.8, 54.9, 52.85, 54.8, 54.5, 54.85, 55.0, 54.8, 54.95, 54.6, 53.9, 54.2, 54.9, 54.9, 54.9], \"xaxis\": \"x\", \"y\": [294, 227, 266, 222, 265, 214, 263, 213, 263, 210, 262, 209, 260, 202, 250, 201, 244, 200, 242, 200, 235, 196, 195, 195, 194, 193, 192, 191, 187, 186, 185, 185, 184, 182, 181, 180, 178, 178, 178, 176, 173, 173, 171, 168, 167, 165, 162, 158, 148, 145, 0, 0, 0, 294, 227, 266, 222, 265, 214, 263, 213, 263, 210, 262, 209, 260, 202, 250, 201, 244, 200, 242, 200, 235, 196, 195, 195, 194, 193, 192, 191, 187, 186, 185, 185, 184, 182, 181, 180, 178, 178, 178, 176, 173, 173, 171, 168, 167, 165, 162, 158, 148, 145, 0, 0, 0], \"yaxis\": \"y\"}, {\"customdata\": [[\"KUO\"], [\"CHOE\"], [\"CHEN\"], [\"SILGADO ATENCIO\"], [\"ANDOH\"], [\"SMITH\"], [\"FIGUEROA ROLDAN\"], [\"KOHA\"], [\"HOANG\"], [\"GOMEZ VALDIVIA\"], [\"GUICHO RECIO\"], [\"TCHAKOUNTE\"], [\"ESCOBAR GUERRERO\"], [\"YAYLYAN\"], [\"KIM\"], [\"ELAM\"], [\"ALEMANNO\"], [\"DARSIGNY\"], [\"ANDERSSON\"], [\"LUCERO\"], [\"WAALER\"], [\"LESKINEN\"], [\"YAMASAKI\"], [\"TALJAARD\"], [\"HELGADOTTIR\"], [\"BLATCH\"], [\"AARSTEN\"], [\"WINI\"], [\"COLONIA\"], [\"MARCEETA\"], [\"MEISTER\"], [\"GORISEK\"], [\"CALMA\"], [\"MOYENGWA\"], [\"KOSTOVA\"], [\"LOBON VIAFARA\"], [\"KUO\"], [\"CHOE\"], [\"CHEN\"], [\"SILGADO ATENCIO\"], [\"ANDOH\"], [\"SMITH\"], [\"FIGUEROA ROLDAN\"], [\"KOHA\"], [\"HOANG\"], [\"GOMEZ VALDIVIA\"], [\"GUICHO RECIO\"], [\"TCHAKOUNTE\"], [\"ESCOBAR GUERRERO\"], [\"YAYLYAN\"], [\"KIM\"], [\"ELAM\"], [\"ALEMANNO\"], [\"DARSIGNY\"], [\"ANDERSSON\"], [\"LUCERO\"], [\"WAALER\"], [\"LESKINEN\"], [\"YAMASAKI\"], [\"TALJAARD\"], [\"HELGADOTTIR\"], [\"BLATCH\"], [\"AARSTEN\"], [\"WINI\"], [\"COLONIA\"], [\"MARCEETA\"], [\"MEISTER\"], [\"GORISEK\"], [\"CALMA\"], [\"MOYENGWA\"], [\"KOSTOVA\"], [\"LOBON VIAFARA\"]], \"hoverlabel\": {\"namelength\": 0}, \"hovertemplate\": \"category=59<br>bweight=%{x}<br>total=%{y}<br>lname=%{customdata[0]}\", \"legendgroup\": \"category=59\", \"marker\": {\"color\": \"#ab63fa\", \"symbol\": \"circle\"}, \"mode\": \"markers\", \"name\": \"category=59\", \"showlegend\": true, \"type\": \"scattergl\", \"x\": [58.55, 58.95, 58.85, 59.0, 58.8, 58.9, 58.65, 58.75, 58.95, 58.5, 58.75, 58.95, 58.9, 58.7, 58.75, 59.0, 58.85, 59.0, 58.6, 59.0, 58.85, 58.95, 58.7, 58.85, 58.9, 58.65, 58.3, 58.55, 58.95, 57.85, 58.6, 58.4, 58.8, 57.4, 58.8, 59.0, 58.55, 58.95, 58.85, 59.0, 58.8, 58.9, 58.65, 58.75, 58.95, 58.5, 58.75, 58.95, 58.9, 58.7, 58.75, 59.0, 58.85, 59.0, 58.6, 59.0, 58.85, 58.95, 58.7, 58.85, 58.9, 58.65, 58.3, 58.55, 58.95, 57.85, 58.6, 58.4, 58.8, 57.4, 58.8, 59.0], \"xaxis\": \"x\", \"y\": [246, 245, 233, 222, 222, 216, 215, 215, 214, 213, 209, 206, 205, 202, 201, 200, 198, 197, 193, 191, 187, 187, 186, 185, 183, 183, 182, 180, 180, 173, 161, 155, 151, 147, 0, 0, 246, 245, 233, 222, 222, 216, 215, 215, 214, 213, 209, 206, 205, 202, 201, 200, 198, 197, 193, 191, 187, 187, 186, 185, 183, 183, 182, 180, 180, 173, 161, 155, 151, 147, 0, 0], \"yaxis\": \"y\"}, {\"customdata\": [[\"LI\"], [\"IRAWAN\"], [\"MOSQUERA VALENCIA\"], [\"THACH\"], [\"SERNA MENDOZA\"], [\"ITOKAZU\"], [\"MISHVELIDZE\"], [\"MUHAMAD\"], [\"KAO\"], [\"MAU\"], [\"HARDAL\"], [\"BERDELIDZE\"], [\"SCARANTINO\"], [\"ALSALEEM\"], [\"GARCIA BRITO\"], [\"BARU\"], [\"ZURITA VALLEJO\"], [\"HIRAI\"], [\"MIRZAYEV\"], [\"TAN\"], [\"JAYASOORIYA ARACHCHILAGE\"], [\"CALDERON LICOURT\"], [\"MONTES GONGORA\"], [\"BRECHTEFELD\"], [\"ANDRIANTSITOHAINA\"], [\"ATAK\"], [\"QIN\"], [\"PALANGASINGHE\"], [\"ROJAS CONCHA\"], [\"BRACHI GARCIA\"], [\"LI\"], [\"IRAWAN\"], [\"MOSQUERA VALENCIA\"], [\"THACH\"], [\"SERNA MENDOZA\"], [\"ITOKAZU\"], [\"MISHVELIDZE\"], [\"MUHAMAD\"], [\"KAO\"], [\"MAU\"], [\"HARDAL\"], [\"BERDELIDZE\"], [\"SCARANTINO\"], [\"ALSALEEM\"], [\"GARCIA BRITO\"], [\"BARU\"], [\"ZURITA VALLEJO\"], [\"HIRAI\"], [\"MIRZAYEV\"], [\"TAN\"], [\"JAYASOORIYA ARACHCHILAGE\"], [\"CALDERON LICOURT\"], [\"MONTES GONGORA\"], [\"BRECHTEFELD\"], [\"ANDRIANTSITOHAINA\"], [\"ATAK\"], [\"QIN\"], [\"PALANGASINGHE\"], [\"ROJAS CONCHA\"], [\"BRACHI GARCIA\"]], \"hoverlabel\": {\"namelength\": 0}, \"hovertemplate\": \"category=61<br>bweight=%{x}<br>total=%{y}<br>lname=%{customdata[0]}\", \"legendgroup\": \"category=61\", \"marker\": {\"color\": \"#FFA15A\", \"symbol\": \"circle\"}, \"mode\": \"markers\", \"name\": \"category=61\", \"showlegend\": true, \"type\": \"scattergl\", \"x\": [60.8, 60.95, 61.0, 60.8, 60.8, 60.95, 61.0, 61.0, 60.75, 60.9, 60.95, 60.0, 60.9, 60.95, 60.8, 60.9, 60.25, 60.95, 60.55, 60.8, 60.8, 60.75, 60.95, 60.65, 60.55, 61.0, 60.95, 60.95, 60.9, 60.5, 60.8, 60.95, 61.0, 60.8, 60.8, 60.95, 61.0, 61.0, 60.75, 60.9, 60.95, 60.0, 60.9, 60.95, 60.8, 60.9, 60.25, 60.95, 60.55, 60.8, 60.8, 60.75, 60.95, 60.65, 60.55, 61.0, 60.95, 60.95, 60.9, 60.5], \"xaxis\": \"x\", \"y\": [318, 306, 302, 296, 295, 293, 287, 285, 283, 280, 279, 277, 277, 277, 277, 276, 274, 271, 270, 263, 262, 260, 252, 240, 0, 0, 0, 0, 0, 0, 318, 306, 302, 296, 295, 293, 287, 285, 283, 280, 279, 277, 277, 277, 277, 276, 274, 271, 270, 263, 262, 260, 252, 240, 0, 0, 0, 0, 0, 0], \"yaxis\": \"y\"}, {\"customdata\": [[\"DENG\"], [\"RIM\"], [\"TOMA\"], [\"PEREZ TIGRERO\"], [\"LEPSA\"], [\"CHARRON\"], [\"LLAMOSA MOSQUERA\"], [\"DAVIES\"], [\"BORDIGNON\"], [\"FAYZULLAEVA\"], [\"ANDO\"], [\"KIM\"], [\"CHEN\"], [\"HALDER\"], [\"LEVENT\"], [\"KUSTERER\"], [\"FATTOUH\"], [\"VUOHIJOKI\"], [\"SIGNAL\"], [\"COCHRANE\"], [\"SCHWEIZER\"], [\"MATSUMOTO\"], [\"SIEMENS\"], [\"YOSHIDA\"], [\"ELLIOTT\"], [\"PHAM\"], [\"GHERMAN\"], [\"GURYEVA\"], [\"SAARHELO\"], [\"PRETORIUS\"], [\"GANZORIG\"], [\"POULSEN\"], [\"RAVOLOLONIAINA\"], [\"AKTAR\"], [\"PORTELA MILICHIO\"], [\"RUMENOVIC\"], [\"PALACIOS DAJOMES\"], [\"SHYMECHKO\"], [\"RODRIGUEZ MITJAN\"], [\"HAN\"], [\"ARDALSBAKKE\"], [\"SASSER\"], [\"DENG\"], [\"RIM\"], [\"TOMA\"], [\"PEREZ TIGRERO\"], [\"LEPSA\"], [\"CHARRON\"], [\"LLAMOSA MOSQUERA\"], [\"DAVIES\"], [\"BORDIGNON\"], [\"FAYZULLAEVA\"], [\"ANDO\"], [\"KIM\"], [\"CHEN\"], [\"HALDER\"], [\"LEVENT\"], [\"KUSTERER\"], [\"FATTOUH\"], [\"VUOHIJOKI\"], [\"SIGNAL\"], [\"COCHRANE\"], [\"SCHWEIZER\"], [\"MATSUMOTO\"], [\"SIEMENS\"], [\"YOSHIDA\"], [\"ELLIOTT\"], [\"PHAM\"], [\"GHERMAN\"], [\"GURYEVA\"], [\"SAARHELO\"], [\"PRETORIUS\"], [\"GANZORIG\"], [\"POULSEN\"], [\"RAVOLOLONIAINA\"], [\"AKTAR\"], [\"PORTELA MILICHIO\"], [\"RUMENOVIC\"], [\"PALACIOS DAJOMES\"], [\"SHYMECHKO\"], [\"RODRIGUEZ MITJAN\"], [\"HAN\"], [\"ARDALSBAKKE\"], [\"SASSER\"]], \"hoverlabel\": {\"namelength\": 0}, \"hovertemplate\": \"category=64<br>bweight=%{x}<br>total=%{y}<br>lname=%{customdata[0]}\", \"legendgroup\": \"category=64\", \"marker\": {\"color\": \"#19d3f3\", \"symbol\": \"circle\"}, \"mode\": \"markers\", \"name\": \"category=64\", \"showlegend\": true, \"type\": \"scattergl\", \"x\": [63.4, 64.0, 63.95, 64.0, 62.95, 63.85, 63.65, 63.75, 63.85, 63.85, 63.3, 63.8, 63.95, 63.95, 63.65, 63.6, 63.8, 64.0, 63.6, 63.3, 63.65, 63.95, 63.4, 62.75, 63.9, 63.5, 63.2, 63.95, 63.9, 63.3, 63.6, 62.4, 63.6, 63.95, 63.5, 63.7, 63.85, 63.7, 63.9, 63.85, 63.9, 63.85, 63.4, 64.0, 63.95, 64.0, 62.95, 63.85, 63.65, 63.75, 63.85, 63.85, 63.3, 63.8, 63.95, 63.95, 63.65, 63.6, 63.8, 64.0, 63.6, 63.3, 63.65, 63.95, 63.4, 62.75, 63.9, 63.5, 63.2, 63.95, 63.9, 63.3, 63.6, 62.4, 63.6, 63.95, 63.5, 63.7, 63.85, 63.7, 63.9, 63.85, 63.9, 63.85], \"xaxis\": \"x\", \"y\": [261, 251, 240, 238, 235, 230, 222, 222, 221, 221, 216, 215, 215, 214, 211, 210, 209, 208, 207, 206, 206, 205, 203, 203, 202, 200, 199, 198, 196, 190, 190, 189, 185, 183, 162, 151, 0, 0, 0, 0, 0, 0, 261, 251, 240, 238, 235, 230, 222, 222, 221, 221, 216, 215, 215, 214, 211, 210, 209, 208, 207, 206, 206, 205, 203, 203, 202, 200, 199, 198, 196, 190, 190, 189, 185, 183, 162, 151, 0, 0, 0, 0, 0, 0], \"yaxis\": \"y\"}, {\"customdata\": [[\"CHEN\"], [\"FENG\"], [\"PAK\"], [\"ERGASHEV\"], [\"MOSQUERA LOZANO\"], [\"KONNAI\"], [\"ISMAYILOV\"], [\"LAPTSEU\"], [\"KINGUE MATAM\"], [\"FIGUEROA MOSQUERA\"], [\"MUNOZ MARTINEZ\"], [\"DENI\"], [\"ZANNI\"], [\"OZBEK\"], [\"CHKHEIDZE\"], [\"HAN\"], [\"BRANDHUBER\"], [\"HERNANDEZ MENDOZA\"], [\"PINEDA ZETA\"], [\"ALMAZYADI\"], [\"JEREMY\"], [\"ANDRIATSITOHAINA\"], [\"LEE\"], [\"RASHIDOV\"], [\"BARDALEZ TUISIMA\"], [\"PETROV\"], [\"WISSINGER\"], [\"IOANE\"], [\"COLONIA\"], [\"HU\"], [\"HUANG\"], [\"LEE\"], [\"MOHD\"], [\"SIRAJ\"], [\"TAKAO\"], [\"KATOATAU\"], [\"CARDENAS ESTRADA\"], [\"GROZDEV\"], [\"SHABI\"], [\"ENKHJARGAL\"], [\"CHEN\"], [\"FENG\"], [\"PAK\"], [\"ERGASHEV\"], [\"MOSQUERA LOZANO\"], [\"KONNAI\"], [\"ISMAYILOV\"], [\"LAPTSEU\"], [\"KINGUE MATAM\"], [\"FIGUEROA MOSQUERA\"], [\"MUNOZ MARTINEZ\"], [\"DENI\"], [\"ZANNI\"], [\"OZBEK\"], [\"CHKHEIDZE\"], [\"HAN\"], [\"BRANDHUBER\"], [\"HERNANDEZ MENDOZA\"], [\"PINEDA ZETA\"], [\"ALMAZYADI\"], [\"JEREMY\"], [\"ANDRIATSITOHAINA\"], [\"LEE\"], [\"RASHIDOV\"], [\"BARDALEZ TUISIMA\"], [\"PETROV\"], [\"WISSINGER\"], [\"IOANE\"], [\"COLONIA\"], [\"HU\"], [\"HUANG\"], [\"LEE\"], [\"MOHD\"], [\"SIRAJ\"], [\"TAKAO\"], [\"KATOATAU\"], [\"CARDENAS ESTRADA\"], [\"GROZDEV\"], [\"SHABI\"], [\"ENKHJARGAL\"]], \"hoverlabel\": {\"namelength\": 0}, \"hovertemplate\": \"category=67<br>bweight=%{x}<br>total=%{y}<br>lname=%{customdata[0]}\", \"legendgroup\": \"category=67\", \"marker\": {\"color\": \"#FF6692\", \"symbol\": \"circle\"}, \"mode\": \"markers\", \"name\": \"category=67\", \"showlegend\": true, \"type\": \"scattergl\", \"x\": [66.95, 66.8, 66.95, 66.8, 66.55, 67.0, 66.8, 66.65, 67.0, 66.55, 67.0, 66.95, 66.9, 66.85, 67.0, 66.9, 67.0, 66.75, 66.75, 66.9, 66.5, 66.55, 66.8, 66.95, 67.0, 66.8, 66.9, 66.95, 64.8, 66.95, 66.4, 67.0, 64.3, 66.85, 66.55, 66.8, 67.0, 66.85, 66.95, 66.7, 66.95, 66.8, 66.95, 66.8, 66.55, 67.0, 66.8, 66.65, 67.0, 66.55, 67.0, 66.95, 66.9, 66.85, 67.0, 66.9, 67.0, 66.75, 66.75, 66.9, 66.5, 66.55, 66.8, 66.95, 67.0, 66.8, 66.9, 66.95, 64.8, 66.95, 66.4, 67.0, 64.3, 66.85, 66.55, 66.8, 67.0, 66.85, 66.95, 66.7], \"xaxis\": \"x\", \"y\": [337, 333, 330, 328, 320, 317, 316, 313, 313, 313, 312, 312, 310, 309, 307, 304, 301, 297, 297, 297, 296, 295, 295, 290, 289, 286, 283, 282, 280, 271, 267, 260, 259, 247, 246, 0, 0, 0, 0, 0, 337, 333, 330, 328, 320, 317, 316, 313, 313, 313, 312, 312, 310, 309, 307, 304, 301, 297, 297, 297, 296, 295, 295, 290, 289, 286, 283, 282, 280, 271, 267, 260, 259, 247, 246, 0, 0, 0, 0, 0], \"yaxis\": \"y\"}, {\"customdata\": [[\"NYE\"], [\"ROGERS\"], [\"KIM\"], [\"GODLEY\"], [\"ANZOROVA\"], [\"LAYLOR\"], [\"BYKOVA\"], [\"MACROHON\"], [\"TRETIACOVA\"], [\"RUBANOVICH\"], [\"WIOR\"], [\"YANGUI\"], [\"BRAZAITE\"], [\"BENNETT\"], [\"OHMAN\"], [\"HOSSEINI\"], [\"ZAMMIT STEVENS\"], [\"RONDZIKOVA\"], [\"JAKAITE\"], [\"HERTLOVA\"], [\"NIELSEN\"], [\"PEDERSEN\"], [\"BYRD\"], [\"ARJOMANDKHAH\"], [\"NYE\"], [\"ROGERS\"], [\"KIM\"], [\"GODLEY\"], [\"ANZOROVA\"], [\"LAYLOR\"], [\"BYKOVA\"], [\"MACROHON\"], [\"TRETIACOVA\"], [\"RUBANOVICH\"], [\"WIOR\"], [\"YANGUI\"], [\"BRAZAITE\"], [\"BENNETT\"], [\"OHMAN\"], [\"HOSSEINI\"], [\"ZAMMIT STEVENS\"], [\"RONDZIKOVA\"], [\"JAKAITE\"], [\"HERTLOVA\"], [\"NIELSEN\"], [\"PEDERSEN\"], [\"BYRD\"], [\"ARJOMANDKHAH\"]], \"hoverlabel\": {\"namelength\": 0}, \"hovertemplate\": \"category=71<br>bweight=%{x}<br>total=%{y}<br>lname=%{customdata[0]}\", \"legendgroup\": \"category=71\", \"marker\": {\"color\": \"#B6E880\", \"symbol\": \"circle\"}, \"mode\": \"markers\", \"name\": \"category=71\", \"showlegend\": true, \"type\": \"scattergl\", \"x\": [70.75, 70.75, 65.85, 70.4, 70.6, 70.9, 70.85, 70.9, 70.5, 70.7, 70.9, 68.85, 69.95, 68.75, 70.05, 70.7, 69.45, 68.7, 68.8, 70.5, 69.15, 70.6, 69.1, 67.75, 70.75, 70.75, 65.85, 70.4, 70.6, 70.9, 70.85, 70.9, 70.5, 70.7, 70.9, 68.85, 69.95, 68.75, 70.05, 70.7, 69.45, 68.7, 68.8, 70.5, 69.15, 70.6, 69.1, 67.75], \"xaxis\": \"x\", \"y\": [248, 240, 230, 226, 219, 218, 211, 210, 208, 204, 204, 203, 200, 196, 192, 191, 190, 190, 189, 186, 182, 176, 174, 170, 248, 240, 230, 226, 219, 218, 211, 210, 208, 204, 204, 203, 200, 196, 192, 191, 190, 190, 189, 186, 182, 176, 174, 170], \"yaxis\": \"y\"}, {\"customdata\": [[\"SHI\"], [null], [\"ANDREEV\"], [\"LIKHARAD\"], [\"CALJA\"], [\"MAYORA PERNIA\"], [\"BAK\"], [\"WON\"], [\"CUMMINGS JR\"], [\"YUAN\"], [\"SANCHEZ LOPEZ\"], [\"MIYAMOTO\"], [\"PETROV\"], [\"LANG\"], [\"TRIYATNO\"], [\"YOKUBOV\"], [\"ROBU\"], [\"ABDULLAH\"], [\"MEREDOV\"], [\"MALAKMADZE\"], [\"ASANIDZE\"], [\"SANDOVAL PARRAS\"], [\"IOROI\"], [\"SANCHEZ VELEZ\"], [\"SHEULI\"], [\"KRING\"], [\"DISSANAYAKE MUDIYANSELAGE\"], [\"KURUKULASOORIYAGE\"], [\"AL HUMAYD\"], [\"TABAROUA\"], [\"WAKELING\"], [\"CHIN\"], [\"DOGUAPE\"], [\"GARCIA\"], [\"JONSSON\"], [\"BEN HNIA\"], [\"MUHAMMAD\"], [\"EVANS\"], [\"SHI\"], [null], [\"ANDREEV\"], [\"LIKHARAD\"], [\"CALJA\"], [\"MAYORA PERNIA\"], [\"BAK\"], [\"WON\"], [\"CUMMINGS JR\"], [\"YUAN\"], [\"SANCHEZ LOPEZ\"], [\"MIYAMOTO\"], [\"PETROV\"], [\"LANG\"], [\"TRIYATNO\"], [\"YOKUBOV\"], [\"ROBU\"], [\"ABDULLAH\"], [\"MEREDOV\"], [\"MALAKMADZE\"], [\"ASANIDZE\"], [\"SANDOVAL PARRAS\"], [\"IOROI\"], [\"SANCHEZ VELEZ\"], [\"SHEULI\"], [\"KRING\"], [\"DISSANAYAKE MUDIYANSELAGE\"], [\"KURUKULASOORIYAGE\"], [\"AL HUMAYD\"], [\"TABAROUA\"], [\"WAKELING\"], [\"CHIN\"], [\"DOGUAPE\"], [\"GARCIA\"], [\"JONSSON\"], [\"BEN HNIA\"], [\"MUHAMMAD\"], [\"EVANS\"]], \"hoverlabel\": {\"namelength\": 0}, \"hovertemplate\": \"category=73<br>bweight=%{x}<br>total=%{y}<br>lname=%{customdata[0]}\", \"legendgroup\": \"category=73\", \"marker\": {\"color\": \"#FF97FF\", \"symbol\": \"circle\"}, \"mode\": \"markers\", \"name\": \"category=73\", \"showlegend\": true, \"type\": \"scattergl\", \"x\": [72.9, 72.85, 73.0, 72.7, 72.9, 72.15, 72.4, 72.8, 72.75, 72.95, 72.95, 72.95, 72.95, 72.5, 72.95, 72.95, 72.75, 72.6, 72.8, 73.0, 71.7, 72.7, 72.9, 72.45, 72.9, 72.85, 72.75, 72.95, 72.3, 72.85, 72.55, 72.45, 72.0, 72.4, 72.25, 71.95, 72.55, 71.2, 72.9, 72.85, 73.0, 72.7, 72.9, 72.15, 72.4, 72.8, 72.75, 72.95, 72.95, 72.95, 72.95, 72.5, 72.95, 72.95, 72.75, 72.6, 72.8, 73.0, 71.7, 72.7, 72.9, 72.45, 72.9, 72.85, 72.75, 72.95, 72.3, 72.85, 72.55, 72.45, 72.0, 72.4, 72.25, 71.95, 72.55, 71.2], \"xaxis\": \"x\", \"y\": [363, 347, 346, 338, 337, 337, 337, 336, 333, 333, 328, 328, 327, 327, 326, 321, 319, 318, 315, 310, 307, 307, 305, 304, 301, 300, 298, 290, 290, 282, 281, 271, 271, 270, 253, 0, 0, 0, 363, 347, 346, 338, 337, 337, 337, 336, 333, 333, 328, 328, 327, 327, 326, 321, 319, 318, 315, 310, 307, 307, 305, 304, 301, 300, 298, 290, 290, 282, 281, 271, 271, 270, 253, 0, 0, 0], \"yaxis\": \"y\"}, {\"customdata\": [[\"RIM\"], [\"ZHANG\"], [\"DAJOMES BARRERA\"], [\"FUENTES ZAVALA\"], [\"DEKHA\"], [\"KANG\"], [\"STRENIUS\"], [\"VOSTRIKOVA\"], [\"NGARLEM\"], [\"KADYROVA\"], [\"SAZANAVETS\"], [\"KAMIYA\"], [\"YAO\"], [\"ILMARINEN\"], [\"JAEGGI\"], [\"RWAHWIRE\"], [\"JABRIELLA\"], [\"RIM\"], [\"ZHANG\"], [\"DAJOMES BARRERA\"], [\"FUENTES ZAVALA\"], [\"DEKHA\"], [\"KANG\"], [\"STRENIUS\"], [\"VOSTRIKOVA\"], [\"NGARLEM\"], [\"KADYROVA\"], [\"SAZANAVETS\"], [\"KAMIYA\"], [\"YAO\"], [\"ILMARINEN\"], [\"JAEGGI\"], [\"RWAHWIRE\"], [\"JABRIELLA\"]], \"hoverlabel\": {\"namelength\": 0}, \"hovertemplate\": \"category=76<br>bweight=%{x}<br>total=%{y}<br>lname=%{customdata[0]}\", \"legendgroup\": \"category=76\", \"marker\": {\"color\": \"#FECB52\", \"symbol\": \"circle\"}, \"mode\": \"markers\", \"name\": \"category=76\", \"showlegend\": true, \"type\": \"scattergl\", \"x\": [75.9, 73.95, 75.8, 76.0, 75.95, 75.1, 74.05, 72.85, 75.25, 75.6, 75.95, 75.75, 76.0, 75.65, 75.65, 72.9, 75.45, 75.9, 73.95, 75.8, 76.0, 75.95, 75.1, 74.05, 72.85, 75.25, 75.6, 75.95, 75.75, 76.0, 75.65, 75.65, 72.9, 75.45], \"xaxis\": \"x\", \"y\": [276, 271, 245, 245, 242, 235, 231, 230, 230, 224, 221, 220, 216, 213, 211, 207, 193, 276, 271, 245, 245, 242, 235, 231, 230, 230, 224, 221, 220, 216, 213, 211, 207, 193], \"yaxis\": \"y\"}, {\"customdata\": [[\"LYU\"], [\"SOLIS ARBOLEDA\"], [\"LI\"], [\"VALENTIN PEREZ\"], [\"RODALLEGAS CARVAJAL\"], [\"ARTHUR\"], [\"REJEPOV\"], [\"NAUMAVA\"], [\"BEYTULA\"], [\"CHIRINOS LEON\"], [\"PIZZOLATO\"], [\"LEE\"], [\"MATA PEREZ\"], [\"RIVAS MOSQUERA\"], [\"BONNAT MICHEL\"], [\"MUNKHJANTSAN\"], [\"MAURUS\"], [\"TORRES WONG\"], [\"TOSHTEMIROV\"], [\"HAKOBYAN\"], [\"MUELLER\"], [\"NAYO KETCHANKE\"], [\"SUHAREVS\"], [\"GARZA GARZA\"], [\"GETTS\"], [\"KATINA\"], [\"GODELLI\"], [\"SZUROMI\"], [\"SOLIS ARBOLEDA\"], [\"ROJAS CASTILLO\"], [\"ZWARYCZ\"], [\"ALMADANI\"], [\"RAHIMOV\"], [\"MOLDODOSOV\"], [\"SINGH\"], [\"ALHUSSEIN\"], [\"QERIMAJ\"], [\"BELLEMARRE\"], [\"RODRIGUEZ OCASIO\"], [\"MENDEZ PEREZ\"], [\"SHOHRADOV\"], [\"CHUANG\"], [\"VACHON\"], [\"BROWN\"], [\"TKAC\"], [\"VIDANAGE\"], [\"BOB\"], [\"LAPUA\"], [\"ALIKLIK\"], [\"ASAYONAK\"], [\"LOZKA\"], [\"KAZOV\"], [\"DU PLOOY\"], [\"HERNANDEZ MARTINEZ\"], [\"KARAPETYAN\"], [\"CHOE\"], [\"RI\"], [\"SKLENICKOVA\"], [\"CUPID\"], [\"VANBELLINGHEN\"], [\"KIM\"], [\"LYU\"], [\"SOLIS ARBOLEDA\"], [\"LI\"], [\"VALENTIN PEREZ\"], [\"RODALLEGAS CARVAJAL\"], [\"ARTHUR\"], [\"REJEPOV\"], [\"NAUMAVA\"], [\"BEYTULA\"], [\"CHIRINOS LEON\"], [\"PIZZOLATO\"], [\"LEE\"], [\"MATA PEREZ\"], [\"RIVAS MOSQUERA\"], [\"BONNAT MICHEL\"], [\"MUNKHJANTSAN\"], [\"MAURUS\"], [\"TORRES WONG\"], [\"TOSHTEMIROV\"], [\"HAKOBYAN\"], [\"MUELLER\"], [\"NAYO KETCHANKE\"], [\"SUHAREVS\"], [\"GARZA GARZA\"], [\"GETTS\"], [\"KATINA\"], [\"GODELLI\"], [\"SZUROMI\"], [\"SOLIS ARBOLEDA\"], [\"ROJAS CASTILLO\"], [\"ZWARYCZ\"], [\"ALMADANI\"], [\"RAHIMOV\"], [\"MOLDODOSOV\"], [\"SINGH\"], [\"ALHUSSEIN\"], [\"QERIMAJ\"], [\"BELLEMARRE\"], [\"RODRIGUEZ OCASIO\"], [\"MENDEZ PEREZ\"], [\"SHOHRADOV\"], [\"CHUANG\"], [\"VACHON\"], [\"BROWN\"], [\"TKAC\"], [\"VIDANAGE\"], [\"BOB\"], [\"LAPUA\"], [\"ALIKLIK\"], [\"ASAYONAK\"], [\"LOZKA\"], [\"KAZOV\"], [\"DU PLOOY\"], [\"HERNANDEZ MARTINEZ\"], [\"KARAPETYAN\"], [\"CHOE\"], [\"RI\"], [\"SKLENICKOVA\"], [\"CUPID\"], [\"VANBELLINGHEN\"], [\"KIM\"]], \"hoverlabel\": {\"namelength\": 0}, \"hovertemplate\": \"category=81<br>bweight=%{x}<br>total=%{y}<br>lname=%{customdata[0]}\", \"legendgroup\": \"category=81\", \"marker\": {\"color\": \"#636efa\", \"symbol\": \"circle\"}, \"mode\": \"markers\", \"name\": \"category=81\", \"showlegend\": true, \"type\": \"scattergl\", \"x\": [80.75, 76.85, 80.9, 78.8, 80.85, 80.95, 80.7, 78.45, 80.65, 80.7, 80.9, 78.3, 80.85, 78.75, 81.0, 81.0, 80.76, 77.8, 79.85, 80.9, 80.65, 80.4, 80.9, 78.45, 80.95, 80.7, 80.55, 80.35, 80.95, 76.6, 81.0, 80.6, 79.8, 80.9, 81.0, 79.85, 80.9, 80.85, 80.95, 80.95, 80.95, 78.65, 80.65, 80.85, 80.9, 80.7, 80.4, 80.05, 74.55, 80.95, 80.95, 80.95, 80.3, 81.0, 80.8, 80.25, 77.7, 77.35, 76.9, 80.85, 76.75, 80.75, 76.85, 80.9, 78.8, 80.85, 80.95, 80.7, 78.45, 80.65, 80.7, 80.9, 78.3, 80.85, 78.75, 81.0, 81.0, 80.76, 77.8, 79.85, 80.9, 80.65, 80.4, 80.9, 78.45, 80.95, 80.7, 80.55, 80.35, 80.95, 76.6, 81.0, 80.6, 79.8, 80.9, 81.0, 79.85, 80.9, 80.85, 80.95, 80.95, 80.95, 78.65, 80.65, 80.85, 80.9, 80.7, 80.4, 80.05, 74.55, 80.95, 80.95, 80.95, 80.3, 81.0, 80.8, 80.25, 77.7, 77.35, 76.9, 80.85, 76.75], \"xaxis\": \"x\", \"y\": [378, 247, 377, 246, 363, 245, 363, 244, 358, 242, 358, 238, 356, 238, 355, 237, 350, 234, 348, 226, 348, 225, 346, 223, 344, 221, 340, 213, 339, 201, 335, 146, 334, 333, 333, 332, 332, 329, 327, 325, 325, 322, 318, 317, 299, 298, 286, 276, 274, 0, 0, 0, 0, 0, 0, 0, 0, 0, 0, 0, 0, 378, 247, 377, 246, 363, 245, 363, 244, 358, 242, 358, 238, 356, 238, 355, 237, 350, 234, 348, 226, 348, 225, 346, 223, 344, 221, 340, 213, 339, 201, 335, 146, 334, 333, 333, 332, 332, 329, 327, 325, 325, 322, 318, 317, 299, 298, 286, 276, 274, 0, 0, 0, 0, 0, 0, 0, 0, 0, 0, 0, 0], \"yaxis\": \"y\"}, {\"customdata\": [[\"WANG\"], [\"KIM\"], [\"SALAZAR ARCE\"], [\"VALDES PARIS\"], [\"PEREZ REVERON\"], [\"ANTONIA FERREIRA\"], [\"JANG\"], [\"CILCIC\"], [\"SHIMAMOTO\"], [\"FISCHER\"], [\"MEUKEUGNI NOUMBISSI\"], [\"VENNEKILDE\"], [\"BOYNUEGRI\"], [\"TOYCHYYEVA\"], [\"ERDENEBAT\"], [\"DAVRONOVA\"], [\"KACZMARCZYK\"], [\"SANTANA PEGUERO\"], [\"RODRIGUEZ MIRANDA\"], [\"BOROS\"], [\"JAHANFEKRIAN\"], [\"KRALOVA\"], [\"MORISHITA\"], [\"LO\"], [\"WANG\"], [\"KIM\"], [\"SALAZAR ARCE\"], [\"VALDES PARIS\"], [\"PEREZ REVERON\"], [\"ANTONIA FERREIRA\"], [\"JANG\"], [\"CILCIC\"], [\"SHIMAMOTO\"], [\"FISCHER\"], [\"MEUKEUGNI NOUMBISSI\"], [\"VENNEKILDE\"], [\"BOYNUEGRI\"], [\"TOYCHYYEVA\"], [\"ERDENEBAT\"], [\"DAVRONOVA\"], [\"KACZMARCZYK\"], [\"SANTANA PEGUERO\"], [\"RODRIGUEZ MIRANDA\"], [\"BOROS\"], [\"JAHANFEKRIAN\"], [\"KRALOVA\"], [\"MORISHITA\"], [\"LO\"]], \"hoverlabel\": {\"namelength\": 0}, \"hovertemplate\": \"category=87<br>bweight=%{x}<br>total=%{y}<br>lname=%{customdata[0]}\", \"legendgroup\": \"category=87\", \"marker\": {\"color\": \"#EF553B\", \"symbol\": \"circle\"}, \"mode\": \"markers\", \"name\": \"category=87\", \"showlegend\": true, \"type\": \"scattergl\", \"x\": [83.5, 86.5, 85.15, 86.85, 86.65, 86.5, 81.3, 81.2, 86.8, 86.55, 86.95, 86.7, 84.45, 82.2, 84.95, 86.65, 86.65, 86.95, 86.25, 83.35, 86.8, 86.4, 86.9, 86.95, 83.5, 86.5, 85.15, 86.85, 86.65, 86.5, 81.3, 81.2, 86.8, 86.55, 86.95, 86.7, 84.45, 82.2, 84.95, 86.65, 86.65, 86.95, 86.25, 83.35, 86.8, 86.4, 86.9, 86.95], \"xaxis\": \"x\", \"y\": [278, 269, 252, 251, 250, 235, 230, 225, 222, 222, 220, 216, 216, 214, 210, 210, 208, 206, 204, 199, 198, 175, 0, 0, 278, 269, 252, 251, 250, 235, 230, 225, 222, 222, 220, 216, 216, 214, 210, 210, 208, 206, 204, 199, 198, 175, 0, 0], \"yaxis\": \"y\"}, {\"customdata\": [[\"MKRTCHYAN\"], [\"MIRI\"], [\"DAVITADZE\"], [\"BERSANAU\"], [\"YAMAMOTO\"], [\"YU\"], [\"SAEZ VERA\"], [\"VALLENILLA SANCHEZ\"], [\"ZAREI\"], [\"ULANOV\"], [\"MUDREUSKI\"], [\"HOVHANNISYAN\"], [\"SHORAJ\"], [\"IMADOUCHENE\"], [\"KOZHAKIN\"], [\"CHEPIK\"], [\"CANTRELL\"], [\"SAMAYOA\"], [\"ASHYROV\"], [\"KACINSKAS\"], [\"OSEI\"], [\"SAMKO\"], [\"ABUZRIBA\"], [\"MUSIC\"], [\"SANTAVY\"], [\"ZAPATA PRIETO\"], [\"MUSIC\"], [\"SANTANA VAZQUEZ\"], [\"ALJUMAILI\"], [\"AFIQHAZIQ\"], [\"KNUDSEN\"], [\"MKRTCHYAN\"], [\"MIRI\"], [\"DAVITADZE\"], [\"BERSANAU\"], [\"YAMAMOTO\"], [\"YU\"], [\"SAEZ VERA\"], [\"VALLENILLA SANCHEZ\"], [\"ZAREI\"], [\"ULANOV\"], [\"MUDREUSKI\"], [\"HOVHANNISYAN\"], [\"SHORAJ\"], [\"IMADOUCHENE\"], [\"KOZHAKIN\"], [\"CHEPIK\"], [\"CANTRELL\"], [\"SAMAYOA\"], [\"ASHYROV\"], [\"KACINSKAS\"], [\"OSEI\"], [\"SAMKO\"], [\"ABUZRIBA\"], [\"MUSIC\"], [\"SANTAVY\"], [\"ZAPATA PRIETO\"], [\"MUSIC\"], [\"SANTANA VAZQUEZ\"], [\"ALJUMAILI\"], [\"AFIQHAZIQ\"], [\"KNUDSEN\"]], \"hoverlabel\": {\"namelength\": 0}, \"hovertemplate\": \"category=89<br>bweight=%{x}<br>total=%{y}<br>lname=%{customdata[0]}\", \"legendgroup\": \"category=89\", \"marker\": {\"color\": \"#00cc96\", \"symbol\": \"circle\"}, \"mode\": \"markers\", \"name\": \"category=89\", \"showlegend\": true, \"type\": \"scattergl\", \"x\": [88.75, 88.95, 88.5, 89.0, 88.95, 88.5, 87.8, 88.45, 88.55, 83.45, 88.95, 88.25, 88.0, 87.95, 88.4, 88.5, 88.95, 89.0, 88.55, 88.55, 89.0, 89.0, 88.6, 87.95, 87.65, 88.95, 87.9, 85.75, 88.55, 87.65, 88.0, 88.75, 88.95, 88.5, 89.0, 88.95, 88.5, 87.8, 88.45, 88.55, 83.45, 88.95, 88.25, 88.0, 87.95, 88.4, 88.5, 88.95, 89.0, 88.55, 88.55, 89.0, 89.0, 88.6, 87.95, 87.65, 88.95, 87.9, 85.75, 88.55, 87.65, 88.0], \"xaxis\": \"x\", \"y\": [375, 374, 371, 370, 368, 367, 364, 364, 361, 358, 356, 355, 354, 353, 351, 350, 350, 343, 339, 327, 326, 323, 320, 318, 310, 308, 285, 267, 0, 0, 0, 375, 374, 371, 370, 368, 367, 364, 364, 361, 358, 356, 355, 354, 353, 351, 350, 350, 343, 339, 327, 326, 323, 320, 318, 310, 308, 285, 267, 0, 0, 0], \"yaxis\": \"y\"}, {\"customdata\": [[\"TIAN\"], [\"ELBAKH\"], [\"PLIESNOI\"], [\"RIVAS MOSQUERA\"], [\"MOUSAVIJARAHI\"], [\"SANTAVY\"], [\"KHUGAEV\"], [\"ARIAS MOSQUERA\"], [\"JANG\"], [\"RASULBEKOV\"], [\"LUNA MARIN\"], [\"KOZEVNIKOVS\"], [\"ILYIN\"], [\"KULIKOV\"], [\"SPIESS\"], [\"ARAT\"], [\"CHEN\"], [\"CONTRERAS CHAMORRO\"], [\"PYROHOV\"], [\"DAMRON\"], [\"OPELOGE\"], [\"GREGORIO MACHADO\"], [\"GRELA\"], [\"CIOBANU\"], [\"BONNICK\"], [\"KARI\"], [\"BABAYAN\"], [\"MAKHAMADAMINOV\"], [\"NABIYEV\"], [\"MESSAOUI\"], [\"KAIKILEKOFE\"], [\"ONICA\"], [\"AVETISYAN\"], [\"LAMENZA LOPEZ\"], [\"MORALES MARQUEZ\"], [\"CHEAH\"], [\"ROSTAMI\"], [\"MEREDOV\"], [\"VELI\"], [\"TIAN\"], [\"ELBAKH\"], [\"PLIESNOI\"], [\"RIVAS MOSQUERA\"], [\"MOUSAVIJARAHI\"], [\"SANTAVY\"], [\"KHUGAEV\"], [\"ARIAS MOSQUERA\"], [\"JANG\"], [\"RASULBEKOV\"], [\"LUNA MARIN\"], [\"KOZEVNIKOVS\"], [\"ILYIN\"], [\"KULIKOV\"], [\"SPIESS\"], [\"ARAT\"], [\"CHEN\"], [\"CONTRERAS CHAMORRO\"], [\"PYROHOV\"], [\"DAMRON\"], [\"OPELOGE\"], [\"GREGORIO MACHADO\"], [\"GRELA\"], [\"CIOBANU\"], [\"BONNICK\"], [\"KARI\"], [\"BABAYAN\"], [\"MAKHAMADAMINOV\"], [\"NABIYEV\"], [\"MESSAOUI\"], [\"KAIKILEKOFE\"], [\"ONICA\"], [\"AVETISYAN\"], [\"LAMENZA LOPEZ\"], [\"MORALES MARQUEZ\"], [\"CHEAH\"], [\"ROSTAMI\"], [\"MEREDOV\"], [\"VELI\"]], \"hoverlabel\": {\"namelength\": 0}, \"hovertemplate\": \"category=96<br>bweight=%{x}<br>total=%{y}<br>lname=%{customdata[0]}\", \"legendgroup\": \"category=96\", \"marker\": {\"color\": \"#ab63fa\", \"symbol\": \"circle\"}, \"mode\": \"markers\", \"name\": \"category=96\", \"showlegend\": true, \"type\": \"scattergl\", \"x\": [95.75, 95.95, 96.0, 95.35, 96.0, 94.0, 95.95, 95.75, 95.0, 95.9, 93.9, 95.85, 95.75, 94.2, 95.8, 95.65, 95.55, 95.2, 95.85, 95.95, 95.1, 91.95, 95.85, 94.5, 95.6, 95.95, 95.95, 95.35, 95.6, 93.95, 92.25, 95.9, 96.0, 95.6, 95.55, 94.55, 95.65, 95.85, 95.3, 95.75, 95.95, 96.0, 95.35, 96.0, 94.0, 95.95, 95.75, 95.0, 95.9, 93.9, 95.85, 95.75, 94.2, 95.8, 95.65, 95.55, 95.2, 95.85, 95.95, 95.1, 91.95, 95.85, 94.5, 95.6, 95.95, 95.95, 95.35, 95.6, 93.95, 92.25, 95.9, 96.0, 95.6, 95.55, 94.55, 95.65, 95.85, 95.3], \"xaxis\": \"x\", \"y\": [410, 402, 394, 391, 382, 380, 376, 369, 367, 367, 364, 364, 363, 360, 360, 360, 358, 353, 353, 352, 351, 350, 349, 347, 347, 345, 345, 344, 338, 338, 336, 330, 323, 318, 302, 295, 0, 0, 0, 410, 402, 394, 391, 382, 380, 376, 369, 367, 367, 364, 364, 363, 360, 360, 360, 358, 353, 353, 352, 351, 350, 349, 347, 347, 345, 345, 344, 338, 338, 336, 330, 323, 318, 302, 295, 0, 0, 0], \"yaxis\": \"y\"}, {\"customdata\": [[\"TSIKHANTSOU\"], [\"JIN\"], [\"DEHDAR\"], [\"CHUMAK\"], [\"GASPARYAN\"], [\"HAN\"], [\"BEIRALVAND\"], [\"KIBANOV\"], [\"ARLIONAK\"], [\"CHKHEIDZE\"], [\"MUGURDUMOV\"], [\"USAROV\"], [\"REVA\"], [\"ELVAN\"], [\"PENT\"], [\"GASIOR\"], [\"DARVILLE\"], [\"VIERA ESPINOZA\"], [\"OCONCHUBHAIR\"], [\"BURGER\"], [\"KAGISO\"], [\"ALMISHAYYIKH\"], [\"TSIKHANTSOU\"], [\"JIN\"], [\"DEHDAR\"], [\"CHUMAK\"], [\"GASPARYAN\"], [\"HAN\"], [\"BEIRALVAND\"], [\"KIBANOV\"], [\"ARLIONAK\"], [\"CHKHEIDZE\"], [\"MUGURDUMOV\"], [\"USAROV\"], [\"REVA\"], [\"ELVAN\"], [\"PENT\"], [\"GASIOR\"], [\"DARVILLE\"], [\"VIERA ESPINOZA\"], [\"OCONCHUBHAIR\"], [\"BURGER\"], [\"KAGISO\"], [\"ALMISHAYYIKH\"]], \"hoverlabel\": {\"namelength\": 0}, \"hovertemplate\": \"category=102<br>bweight=%{x}<br>total=%{y}<br>lname=%{customdata[0]}\", \"legendgroup\": \"category=102\", \"marker\": {\"color\": \"#FFA15A\", \"symbol\": \"circle\"}, \"mode\": \"markers\", \"name\": \"category=102\", \"showlegend\": true, \"type\": \"scattergl\", \"x\": [100.0, 101.9, 97.65, 101.4, 101.7, 97.95, 101.0, 101.3, 101.9, 101.7, 100.65, 101.9, 101.9, 101.35, 101.45, 101.5, 98.65, 102.0, 102.0, 96.5, 98.5, 101.35, 100.0, 101.9, 97.65, 101.4, 101.7, 97.95, 101.0, 101.3, 101.9, 101.7, 100.65, 101.9, 101.9, 101.35, 101.45, 101.5, 98.65, 102.0, 102.0, 96.5, 98.5, 101.35], \"xaxis\": \"x\", \"y\": [398, 397, 394, 393, 390, 378, 376, 376, 375, 367, 365, 363, 358, 356, 346, 335, 328, 313, 301, 300, 0, 0, 398, 397, 394, 393, 390, 378, 376, 376, 375, 367, 365, 363, 358, 356, 346, 335, 328, 313, 301, 300, 0, 0], \"yaxis\": \"y\"}, {\"customdata\": [[\"MARTIROSYAN\"], [\"ARAMNAU\"], [\"YANG\"], [\"DJURAEV\"], [\"BOCHKOV\"], [\"NANIEV\"], [\"HASHEMI\"], [\"MICHALSKI\"], [\"PLESNIEKS\"], [\"MOCHIDA\"], [\"SEO\"], [\"JEONG\"], [\"RUIZ I VELASCO\"], [\"KITTS\"], [\"SHIRAISHI\"], [\"MARTIROSJAN\"], [\"ZAITSEV\"], [\"GONZALEZ BARRIOS\"], [\"BERSANOV\"], [\"ARROYO VALDEZ\"], [\"OVEZOV\"], [\"SIDISKIS\"], [\"BOXALL\"], [\"KESKITALO\"], [\"KRYWULT\"], [\"MEIDL\"], [\"RIGSBY\"], [\"DAVIDSON\"], [\"ABBOOD\"], [\"GOSPODINOV\"], [\"POMELILE\"], [\"KRUZEL\"], [\"MARTIROSYAN\"], [\"ARAMNAU\"], [\"YANG\"], [\"DJURAEV\"], [\"BOCHKOV\"], [\"NANIEV\"], [\"HASHEMI\"], [\"MICHALSKI\"], [\"PLESNIEKS\"], [\"MOCHIDA\"], [\"SEO\"], [\"JEONG\"], [\"RUIZ I VELASCO\"], [\"KITTS\"], [\"SHIRAISHI\"], [\"MARTIROSJAN\"], [\"ZAITSEV\"], [\"GONZALEZ BARRIOS\"], [\"BERSANOV\"], [\"ARROYO VALDEZ\"], [\"OVEZOV\"], [\"SIDISKIS\"], [\"BOXALL\"], [\"KESKITALO\"], [\"KRYWULT\"], [\"MEIDL\"], [\"RIGSBY\"], [\"DAVIDSON\"], [\"ABBOOD\"], [\"GOSPODINOV\"], [\"POMELILE\"], [\"KRUZEL\"]], \"hoverlabel\": {\"namelength\": 0}, \"hovertemplate\": \"category=109<br>bweight=%{x}<br>total=%{y}<br>lname=%{customdata[0]}\", \"legendgroup\": \"category=109\", \"marker\": {\"color\": \"#19d3f3\", \"symbol\": \"circle\"}, \"mode\": \"markers\", \"name\": \"category=109\", \"showlegend\": true, \"type\": \"scattergl\", \"x\": [108.95, 108.85, 108.95, 108.6, 108.9, 109.0, 107.95, 108.95, 108.65, 108.85, 108.75, 108.75, 108.5, 108.85, 108.75, 108.65, 108.25, 108.75, 108.95, 108.8, 108.45, 108.7, 108.6, 107.55, 107.45, 108.5, 108.7, 108.4, 102.15, 108.85, 108.45, 108.8, 108.95, 108.85, 108.95, 108.6, 108.9, 109.0, 107.95, 108.95, 108.65, 108.85, 108.75, 108.75, 108.5, 108.85, 108.75, 108.65, 108.25, 108.75, 108.95, 108.8, 108.45, 108.7, 108.6, 107.55, 107.45, 108.5, 108.7, 108.4, 102.15, 108.85, 108.45, 108.8], \"xaxis\": \"x\", \"y\": [429, 426, 420, 417, 414, 409, 395, 394, 394, 393, 389, 388, 388, 388, 385, 383, 382, 381, 380, 376, 368, 360, 350, 341, 335, 335, 324, 322, 0, 0, 0, 0, 429, 426, 420, 417, 414, 409, 395, 394, 394, 393, 389, 388, 388, 388, 385, 383, 382, 381, 380, 376, 368, 360, 350, 341, 335, 335, 324, 322, 0, 0, 0, 0], \"yaxis\": \"y\"}, {\"customdata\": [[\"LI\"], [\"KASHIRINA\"], [\"MENG\"], [\"KIM\"], [\"LYSENKO\"], [\"HUBBARD\"], [\"ROBLES\"], [\"SON\"], [\"CAMPBELL\"], [\"SALADIN TOLENTINO\"], [\"AKMAL\"], [\"ESPINOSA\"], [\"AYOVI CABEZAS\"], [\"STOWERS\"], [\"AMOE TARRANT\"], [\"SIPAIA\"], [\"BUENO PLACENCIA\"], [\"GUNAL\"], [\"MANUMUA\"], [\"LI\"], [\"KASHIRINA\"], [\"MENG\"], [\"KIM\"], [\"LYSENKO\"], [\"HUBBARD\"], [\"ROBLES\"], [\"SON\"], [\"CAMPBELL\"], [\"SALADIN TOLENTINO\"], [\"AKMAL\"], [\"ESPINOSA\"], [\"AYOVI CABEZAS\"], [\"STOWERS\"], [\"AMOE TARRANT\"], [\"SIPAIA\"], [\"BUENO PLACENCIA\"], [\"GUNAL\"], [\"MANUMUA\"]], \"hoverlabel\": {\"namelength\": 0}, \"hovertemplate\": \"category=p87<br>bweight=%{x}<br>total=%{y}<br>lname=%{customdata[0]}\", \"legendgroup\": \"category=p87\", \"marker\": {\"color\": \"#FF6692\", \"symbol\": \"circle\"}, \"mode\": \"markers\", \"name\": \"category=p87\", \"showlegend\": true, \"type\": \"scattergl\", \"x\": [147.95, 108.25, 120.65, 100.8, 102.85, 138.15, 145.4, 114.7, 120.0, 128.65, 110.55, 114.3, 128.5, 125.75, 135.2, 132.85, 123.5, 114.05, 108.05, 147.95, 108.25, 120.65, 100.8, 102.85, 138.15, 145.4, 114.7, 120.0, 128.65, 110.55, 114.3, 128.5, 125.75, 135.2, 132.85, 123.5, 114.05, 108.05], \"xaxis\": \"x\", \"y\": [332, 318, 311, 303, 286, 285, 285, 276, 267, 265, 260, 259, 258, 257, 248, 248, 245, 230, 211, 332, 318, 311, 303, 286, 285, 285, 276, 267, 265, 260, 259, 258, 257, 248, 248, 245, 230, 211], \"yaxis\": \"y\"}, {\"customdata\": [[\"TALAKHADZE\"], [\"MINASYAN\"], [\"ALEKSANYAN\"], [\"ZIAZIULIN\"], [\"BIDANI\"], [\"ASAAD\"], [\"CHEN\"], [\"SARAIVA REIS\"], [\"TOYCHYYEV\"], [\"DAVOUDI\"], [\"ORSAG\"], [\"MURAKAMI\"], [\"CHKHEIDZE\"], [\"SAVCHUK\"], [\"HAM\"], [\"WILKES\"], [\"LITI\"], [\"SEIM\"], [\"NAGY\"], [\"LITVINOV\"], [\"KUWORGE\"], [\"MANRIQUEZ COLLINS\"], [\"COULLET\"], [\"TOLLEFSEN\"], [\"LEMUS CALANCHE\"], [\"KUCERA\"], [\"SALAS MANGUIS\"], [\"DADRASASL\"], [\"TALAKHADZE\"], [\"MINASYAN\"], [\"ALEKSANYAN\"], [\"ZIAZIULIN\"], [\"BIDANI\"], [\"ASAAD\"], [\"CHEN\"], [\"SARAIVA REIS\"], [\"TOYCHYYEV\"], [\"DAVOUDI\"], [\"ORSAG\"], [\"MURAKAMI\"], [\"CHKHEIDZE\"], [\"SAVCHUK\"], [\"HAM\"], [\"WILKES\"], [\"LITI\"], [\"SEIM\"], [\"NAGY\"], [\"LITVINOV\"], [\"KUWORGE\"], [\"MANRIQUEZ COLLINS\"], [\"COULLET\"], [\"TOLLEFSEN\"], [\"LEMUS CALANCHE\"], [\"KUCERA\"], [\"SALAS MANGUIS\"], [\"DADRASASL\"]], \"hoverlabel\": {\"namelength\": 0}, \"hovertemplate\": \"category=p109<br>bweight=%{x}<br>total=%{y}<br>lname=%{customdata[0]}\", \"legendgroup\": \"category=p109\", \"marker\": {\"color\": \"#B6E880\", \"symbol\": \"circle\"}, \"mode\": \"markers\", \"name\": \"category=p109\", \"showlegend\": true, \"type\": \"scattergl\", \"x\": [168.65, 150.8, 153.85, 134.55, 142.4, 144.6, 156.3, 153.3, 150.9, 169.1, 129.85, 138.2, 131.5, 140.4, 142.4, 146.25, 173.4, 148.75, 157.0, 128.3, 142.85, 184.2, 149.1, 120.5, 125.9, 153.15, 172.15, 167.4, 168.65, 150.8, 153.85, 134.55, 142.4, 144.6, 156.3, 153.3, 150.9, 169.1, 129.85, 138.2, 131.5, 140.4, 142.4, 146.25, 173.4, 148.75, 157.0, 128.3, 142.85, 184.2, 149.1, 120.5, 125.9, 153.15, 172.15, 167.4], \"xaxis\": \"x\", \"y\": [484, 460, 437, 432, 431, 430, 425, 424, 422, 420, 416, 415, 412, 409, 407, 403, 400, 400, 397, 395, 381, 376, 375, 367, 366, 0, 0, 0, 484, 460, 437, 432, 431, 430, 425, 424, 422, 420, 416, 415, 412, 409, 407, 403, 400, 400, 397, 395, 381, 376, 375, 367, 366, 0, 0, 0], \"yaxis\": \"y\"}],\n",
       "                        {\"height\": 600, \"legend\": {\"tracegroupgap\": 0}, \"margin\": {\"t\": 60}, \"template\": {\"data\": {\"bar\": [{\"error_x\": {\"color\": \"#2a3f5f\"}, \"error_y\": {\"color\": \"#2a3f5f\"}, \"marker\": {\"line\": {\"color\": \"#E5ECF6\", \"width\": 0.5}}, \"type\": \"bar\"}], \"barpolar\": [{\"marker\": {\"line\": {\"color\": \"#E5ECF6\", \"width\": 0.5}}, \"type\": \"barpolar\"}], \"carpet\": [{\"aaxis\": {\"endlinecolor\": \"#2a3f5f\", \"gridcolor\": \"white\", \"linecolor\": \"white\", \"minorgridcolor\": \"white\", \"startlinecolor\": \"#2a3f5f\"}, \"baxis\": {\"endlinecolor\": \"#2a3f5f\", \"gridcolor\": \"white\", \"linecolor\": \"white\", \"minorgridcolor\": \"white\", \"startlinecolor\": \"#2a3f5f\"}, \"type\": \"carpet\"}], \"choropleth\": [{\"colorbar\": {\"outlinewidth\": 0, \"ticks\": \"\"}, \"type\": \"choropleth\"}], \"contour\": [{\"colorbar\": {\"outlinewidth\": 0, \"ticks\": \"\"}, \"colorscale\": [[0.0, \"#0d0887\"], [0.1111111111111111, \"#46039f\"], [0.2222222222222222, \"#7201a8\"], [0.3333333333333333, \"#9c179e\"], [0.4444444444444444, \"#bd3786\"], [0.5555555555555556, \"#d8576b\"], [0.6666666666666666, \"#ed7953\"], [0.7777777777777778, \"#fb9f3a\"], [0.8888888888888888, \"#fdca26\"], [1.0, \"#f0f921\"]], \"type\": \"contour\"}], \"contourcarpet\": [{\"colorbar\": {\"outlinewidth\": 0, \"ticks\": \"\"}, \"type\": \"contourcarpet\"}], \"heatmap\": [{\"colorbar\": {\"outlinewidth\": 0, \"ticks\": \"\"}, \"colorscale\": [[0.0, \"#0d0887\"], [0.1111111111111111, \"#46039f\"], [0.2222222222222222, \"#7201a8\"], [0.3333333333333333, \"#9c179e\"], [0.4444444444444444, \"#bd3786\"], [0.5555555555555556, \"#d8576b\"], [0.6666666666666666, \"#ed7953\"], [0.7777777777777778, \"#fb9f3a\"], [0.8888888888888888, \"#fdca26\"], [1.0, \"#f0f921\"]], \"type\": \"heatmap\"}], \"heatmapgl\": [{\"colorbar\": {\"outlinewidth\": 0, \"ticks\": \"\"}, \"colorscale\": [[0.0, \"#0d0887\"], [0.1111111111111111, \"#46039f\"], [0.2222222222222222, \"#7201a8\"], [0.3333333333333333, \"#9c179e\"], [0.4444444444444444, \"#bd3786\"], [0.5555555555555556, \"#d8576b\"], [0.6666666666666666, \"#ed7953\"], [0.7777777777777778, \"#fb9f3a\"], [0.8888888888888888, \"#fdca26\"], [1.0, \"#f0f921\"]], \"type\": \"heatmapgl\"}], \"histogram\": [{\"marker\": {\"colorbar\": {\"outlinewidth\": 0, \"ticks\": \"\"}}, \"type\": \"histogram\"}], \"histogram2d\": [{\"colorbar\": {\"outlinewidth\": 0, \"ticks\": \"\"}, \"colorscale\": [[0.0, \"#0d0887\"], [0.1111111111111111, \"#46039f\"], [0.2222222222222222, \"#7201a8\"], [0.3333333333333333, \"#9c179e\"], [0.4444444444444444, \"#bd3786\"], [0.5555555555555556, \"#d8576b\"], [0.6666666666666666, \"#ed7953\"], [0.7777777777777778, \"#fb9f3a\"], [0.8888888888888888, \"#fdca26\"], [1.0, \"#f0f921\"]], \"type\": \"histogram2d\"}], \"histogram2dcontour\": [{\"colorbar\": {\"outlinewidth\": 0, \"ticks\": \"\"}, \"colorscale\": [[0.0, \"#0d0887\"], [0.1111111111111111, \"#46039f\"], [0.2222222222222222, \"#7201a8\"], [0.3333333333333333, \"#9c179e\"], [0.4444444444444444, \"#bd3786\"], [0.5555555555555556, \"#d8576b\"], [0.6666666666666666, \"#ed7953\"], [0.7777777777777778, \"#fb9f3a\"], [0.8888888888888888, \"#fdca26\"], [1.0, \"#f0f921\"]], \"type\": \"histogram2dcontour\"}], \"mesh3d\": [{\"colorbar\": {\"outlinewidth\": 0, \"ticks\": \"\"}, \"type\": \"mesh3d\"}], \"parcoords\": [{\"line\": {\"colorbar\": {\"outlinewidth\": 0, \"ticks\": \"\"}}, \"type\": \"parcoords\"}], \"scatter\": [{\"marker\": {\"colorbar\": {\"outlinewidth\": 0, \"ticks\": \"\"}}, \"type\": \"scatter\"}], \"scatter3d\": [{\"line\": {\"colorbar\": {\"outlinewidth\": 0, \"ticks\": \"\"}}, \"marker\": {\"colorbar\": {\"outlinewidth\": 0, \"ticks\": \"\"}}, \"type\": \"scatter3d\"}], \"scattercarpet\": [{\"marker\": {\"colorbar\": {\"outlinewidth\": 0, \"ticks\": \"\"}}, \"type\": \"scattercarpet\"}], \"scattergeo\": [{\"marker\": {\"colorbar\": {\"outlinewidth\": 0, \"ticks\": \"\"}}, \"type\": \"scattergeo\"}], \"scattergl\": [{\"marker\": {\"colorbar\": {\"outlinewidth\": 0, \"ticks\": \"\"}}, \"type\": \"scattergl\"}], \"scattermapbox\": [{\"marker\": {\"colorbar\": {\"outlinewidth\": 0, \"ticks\": \"\"}}, \"type\": \"scattermapbox\"}], \"scatterpolar\": [{\"marker\": {\"colorbar\": {\"outlinewidth\": 0, \"ticks\": \"\"}}, \"type\": \"scatterpolar\"}], \"scatterpolargl\": [{\"marker\": {\"colorbar\": {\"outlinewidth\": 0, \"ticks\": \"\"}}, \"type\": \"scatterpolargl\"}], \"scatterternary\": [{\"marker\": {\"colorbar\": {\"outlinewidth\": 0, \"ticks\": \"\"}}, \"type\": \"scatterternary\"}], \"surface\": [{\"colorbar\": {\"outlinewidth\": 0, \"ticks\": \"\"}, \"colorscale\": [[0.0, \"#0d0887\"], [0.1111111111111111, \"#46039f\"], [0.2222222222222222, \"#7201a8\"], [0.3333333333333333, \"#9c179e\"], [0.4444444444444444, \"#bd3786\"], [0.5555555555555556, \"#d8576b\"], [0.6666666666666666, \"#ed7953\"], [0.7777777777777778, \"#fb9f3a\"], [0.8888888888888888, \"#fdca26\"], [1.0, \"#f0f921\"]], \"type\": \"surface\"}], \"table\": [{\"cells\": {\"fill\": {\"color\": \"#EBF0F8\"}, \"line\": {\"color\": \"white\"}}, \"header\": {\"fill\": {\"color\": \"#C8D4E3\"}, \"line\": {\"color\": \"white\"}}, \"type\": \"table\"}]}, \"layout\": {\"annotationdefaults\": {\"arrowcolor\": \"#2a3f5f\", \"arrowhead\": 0, \"arrowwidth\": 1}, \"colorscale\": {\"diverging\": [[0, \"#8e0152\"], [0.1, \"#c51b7d\"], [0.2, \"#de77ae\"], [0.3, \"#f1b6da\"], [0.4, \"#fde0ef\"], [0.5, \"#f7f7f7\"], [0.6, \"#e6f5d0\"], [0.7, \"#b8e186\"], [0.8, \"#7fbc41\"], [0.9, \"#4d9221\"], [1, \"#276419\"]], \"sequential\": [[0.0, \"#0d0887\"], [0.1111111111111111, \"#46039f\"], [0.2222222222222222, \"#7201a8\"], [0.3333333333333333, \"#9c179e\"], [0.4444444444444444, \"#bd3786\"], [0.5555555555555556, \"#d8576b\"], [0.6666666666666666, \"#ed7953\"], [0.7777777777777778, \"#fb9f3a\"], [0.8888888888888888, \"#fdca26\"], [1.0, \"#f0f921\"]], \"sequentialminus\": [[0.0, \"#0d0887\"], [0.1111111111111111, \"#46039f\"], [0.2222222222222222, \"#7201a8\"], [0.3333333333333333, \"#9c179e\"], [0.4444444444444444, \"#bd3786\"], [0.5555555555555556, \"#d8576b\"], [0.6666666666666666, \"#ed7953\"], [0.7777777777777778, \"#fb9f3a\"], [0.8888888888888888, \"#fdca26\"], [1.0, \"#f0f921\"]]}, \"colorway\": [\"#636efa\", \"#EF553B\", \"#00cc96\", \"#ab63fa\", \"#FFA15A\", \"#19d3f3\", \"#FF6692\", \"#B6E880\", \"#FF97FF\", \"#FECB52\"], \"font\": {\"color\": \"#2a3f5f\"}, \"geo\": {\"bgcolor\": \"white\", \"lakecolor\": \"white\", \"landcolor\": \"#E5ECF6\", \"showlakes\": true, \"showland\": true, \"subunitcolor\": \"white\"}, \"hoverlabel\": {\"align\": \"left\"}, \"hovermode\": \"closest\", \"mapbox\": {\"style\": \"light\"}, \"paper_bgcolor\": \"white\", \"plot_bgcolor\": \"#E5ECF6\", \"polar\": {\"angularaxis\": {\"gridcolor\": \"white\", \"linecolor\": \"white\", \"ticks\": \"\"}, \"bgcolor\": \"#E5ECF6\", \"radialaxis\": {\"gridcolor\": \"white\", \"linecolor\": \"white\", \"ticks\": \"\"}}, \"scene\": {\"xaxis\": {\"backgroundcolor\": \"#E5ECF6\", \"gridcolor\": \"white\", \"gridwidth\": 2, \"linecolor\": \"white\", \"showbackground\": true, \"ticks\": \"\", \"zerolinecolor\": \"white\"}, \"yaxis\": {\"backgroundcolor\": \"#E5ECF6\", \"gridcolor\": \"white\", \"gridwidth\": 2, \"linecolor\": \"white\", \"showbackground\": true, \"ticks\": \"\", \"zerolinecolor\": \"white\"}, \"zaxis\": {\"backgroundcolor\": \"#E5ECF6\", \"gridcolor\": \"white\", \"gridwidth\": 2, \"linecolor\": \"white\", \"showbackground\": true, \"ticks\": \"\", \"zerolinecolor\": \"white\"}}, \"shapedefaults\": {\"line\": {\"color\": \"#2a3f5f\"}}, \"ternary\": {\"aaxis\": {\"gridcolor\": \"white\", \"linecolor\": \"white\", \"ticks\": \"\"}, \"baxis\": {\"gridcolor\": \"white\", \"linecolor\": \"white\", \"ticks\": \"\"}, \"bgcolor\": \"#E5ECF6\", \"caxis\": {\"gridcolor\": \"white\", \"linecolor\": \"white\", \"ticks\": \"\"}}, \"title\": {\"x\": 0.05}, \"xaxis\": {\"automargin\": true, \"gridcolor\": \"white\", \"linecolor\": \"white\", \"ticks\": \"\", \"zerolinecolor\": \"white\", \"zerolinewidth\": 2}, \"yaxis\": {\"automargin\": true, \"gridcolor\": \"white\", \"linecolor\": \"white\", \"ticks\": \"\", \"zerolinecolor\": \"white\", \"zerolinewidth\": 2}}}, \"xaxis\": {\"anchor\": \"y\", \"domain\": [0.0, 0.98], \"title\": {\"text\": \"bweight\"}}, \"yaxis\": {\"anchor\": \"x\", \"domain\": [0.0, 1.0], \"title\": {\"text\": \"total\"}}},\n",
       "                        {\"responsive\": true}\n",
       "                    ).then(function(){\n",
       "                            \n",
       "var gd = document.getElementById('81c5bba7-cf7c-44fb-80fc-ab8f2fd91602');\n",
       "var x = new MutationObserver(function (mutations, observer) {{\n",
       "        var display = window.getComputedStyle(gd).display;\n",
       "        if (!display || display === 'none') {{\n",
       "            console.log([gd, 'removed!']);\n",
       "            Plotly.purge(gd);\n",
       "            observer.disconnect();\n",
       "        }}\n",
       "}});\n",
       "\n",
       "// Listen for the removal of the full notebook cells\n",
       "var notebookContainer = gd.closest('#notebook-container');\n",
       "if (notebookContainer) {{\n",
       "    x.observe(notebookContainer, {childList: true});\n",
       "}}\n",
       "\n",
       "// Listen for the clearing of the current output cell\n",
       "var outputEl = gd.closest('.output');\n",
       "if (outputEl) {{\n",
       "    x.observe(outputEl, {childList: true});\n",
       "}}\n",
       "\n",
       "                        })\n",
       "                };\n",
       "                });\n",
       "            </script>\n",
       "        </div>"
      ]
     },
     "metadata": {},
     "output_type": "display_data"
    }
   ],
   "source": [
    "fig = px.scatter(w19, x=\"bweight\", y=\"total\", color=\"category\", hover_data=['lname'])\n",
    "fig.show()"
   ]
  },
  {
   "cell_type": "code",
   "execution_count": 55,
   "metadata": {},
   "outputs": [],
   "source": [
    "#Count the number of competing athletes for each nations\n",
    "z = dict(Counter(w19['nation']))\n",
    "z['PHL'] = z.pop('PHI')\n",
    "nat=list(z.keys())\n",
    "freq=list(z.values())\n"
   ]
  },
  {
   "cell_type": "code",
   "execution_count": 56,
   "metadata": {},
   "outputs": [
    {
     "data": {
      "application/vnd.plotly.v1+json": {
       "config": {
        "plotlyServerURL": "https://plot.ly"
       },
       "data": [
        {
         "coloraxis": "coloraxis",
         "geo": "geo",
         "hoverlabel": {
          "namelength": 0
         },
         "hovertemplate": "<b>%{hovertext}</b><br><br>locations=%{location}<br>color=%{z}",
         "hovertext": [
          "TUR",
          "CUB",
          "INA",
          "VIE",
          "VEN",
          "MAD",
          "RUS",
          "CHI",
          "BUL",
          "CRO",
          "BLR",
          "BAN",
          "NCA",
          "IND",
          "KOR",
          "CHN",
          "PRK",
          "COL",
          "DOM",
          "USA",
          "FRA",
          "PNG",
          "BRA",
          "TPE",
          "CAN",
          "ECU",
          "MRI",
          "UZB",
          "ROU",
          "PER",
          "PUR",
          "SRI",
          "GBR",
          "JPN",
          "ITA",
          "TKM",
          "KAZ",
          "KSA",
          "IRI",
          "MEX",
          "MDA",
          "POL",
          "UKR",
          "BEL",
          "NOR",
          "AZE",
          "DEN",
          "ESP",
          "TUN",
          "ISR",
          "SOL",
          "MGL",
          "LAT",
          "ARM",
          "FIN",
          "AUS",
          "RSA",
          "ISL",
          "MAS",
          "SUI",
          "GUM",
          "BOT",
          "GEO",
          "GER",
          "NRU",
          "LBN",
          "NZL",
          "SWE",
          "URU",
          "GUA",
          "CZE",
          "SAM",
          "KIR",
          "LBA",
          "LTU",
          "MLT",
          "SVK",
          "IRL",
          "ALB",
          "HUN",
          "UAE",
          "KGZ",
          "IRQ",
          "MHL",
          "TUV",
          "VIN",
          "AUT",
          "CMR",
          "GHA",
          "QAT",
          "ALG",
          "SGP",
          "EST",
          "TGA",
          "SYR",
          "NED",
          "PHL"
         ],
         "locations": [
          "TUR",
          "CUB",
          "INA",
          "VIE",
          "VEN",
          "MAD",
          "RUS",
          "CHI",
          "BUL",
          "CRO",
          "BLR",
          "BAN",
          "NCA",
          "IND",
          "KOR",
          "CHN",
          "PRK",
          "COL",
          "DOM",
          "USA",
          "FRA",
          "PNG",
          "BRA",
          "TPE",
          "CAN",
          "ECU",
          "MRI",
          "UZB",
          "ROU",
          "PER",
          "PUR",
          "SRI",
          "GBR",
          "JPN",
          "ITA",
          "TKM",
          "KAZ",
          "KSA",
          "IRI",
          "MEX",
          "MDA",
          "POL",
          "UKR",
          "BEL",
          "NOR",
          "AZE",
          "DEN",
          "ESP",
          "TUN",
          "ISR",
          "SOL",
          "MGL",
          "LAT",
          "ARM",
          "FIN",
          "AUS",
          "RSA",
          "ISL",
          "MAS",
          "SUI",
          "GUM",
          "BOT",
          "GEO",
          "GER",
          "NRU",
          "LBN",
          "NZL",
          "SWE",
          "URU",
          "GUA",
          "CZE",
          "SAM",
          "KIR",
          "LBA",
          "LTU",
          "MLT",
          "SVK",
          "IRL",
          "ALB",
          "HUN",
          "UAE",
          "KGZ",
          "IRQ",
          "MHL",
          "TUV",
          "VIN",
          "AUT",
          "CMR",
          "GHA",
          "QAT",
          "ALG",
          "SGP",
          "EST",
          "TGA",
          "SYR",
          "NED",
          "PHL"
         ],
         "name": "",
         "type": "choropleth",
         "z": [
          24,
          8,
          16,
          14,
          24,
          8,
          32,
          10,
          12,
          12,
          26,
          4,
          2,
          14,
          38,
          40,
          24,
          32,
          10,
          40,
          16,
          6,
          16,
          28,
          36,
          20,
          2,
          20,
          8,
          10,
          12,
          16,
          28,
          40,
          18,
          28,
          18,
          8,
          28,
          22,
          10,
          12,
          20,
          4,
          12,
          6,
          20,
          14,
          4,
          10,
          4,
          10,
          8,
          18,
          10,
          10,
          8,
          4,
          12,
          4,
          2,
          4,
          20,
          14,
          6,
          2,
          6,
          4,
          4,
          4,
          16,
          8,
          4,
          4,
          8,
          2,
          8,
          8,
          8,
          6,
          2,
          4,
          8,
          2,
          2,
          2,
          4,
          2,
          2,
          2,
          4,
          2,
          4,
          4,
          2,
          2,
          18
         ]
        }
       ],
       "layout": {
        "coloraxis": {
         "colorbar": {
          "title": {
           "text": "color"
          }
         },
         "colorscale": [
          [
           0,
           "#0d0887"
          ],
          [
           0.1111111111111111,
           "#46039f"
          ],
          [
           0.2222222222222222,
           "#7201a8"
          ],
          [
           0.3333333333333333,
           "#9c179e"
          ],
          [
           0.4444444444444444,
           "#bd3786"
          ],
          [
           0.5555555555555556,
           "#d8576b"
          ],
          [
           0.6666666666666666,
           "#ed7953"
          ],
          [
           0.7777777777777778,
           "#fb9f3a"
          ],
          [
           0.8888888888888888,
           "#fdca26"
          ],
          [
           1,
           "#f0f921"
          ]
         ]
        },
        "geo": {
         "center": {},
         "domain": {
          "x": [
           0,
           0.98
          ],
          "y": [
           0,
           1
          ]
         }
        },
        "height": 600,
        "legend": {
         "tracegroupgap": 0
        },
        "margin": {
         "t": 60
        },
        "template": {
         "data": {
          "bar": [
           {
            "error_x": {
             "color": "#2a3f5f"
            },
            "error_y": {
             "color": "#2a3f5f"
            },
            "marker": {
             "line": {
              "color": "#E5ECF6",
              "width": 0.5
             }
            },
            "type": "bar"
           }
          ],
          "barpolar": [
           {
            "marker": {
             "line": {
              "color": "#E5ECF6",
              "width": 0.5
             }
            },
            "type": "barpolar"
           }
          ],
          "carpet": [
           {
            "aaxis": {
             "endlinecolor": "#2a3f5f",
             "gridcolor": "white",
             "linecolor": "white",
             "minorgridcolor": "white",
             "startlinecolor": "#2a3f5f"
            },
            "baxis": {
             "endlinecolor": "#2a3f5f",
             "gridcolor": "white",
             "linecolor": "white",
             "minorgridcolor": "white",
             "startlinecolor": "#2a3f5f"
            },
            "type": "carpet"
           }
          ],
          "choropleth": [
           {
            "colorbar": {
             "outlinewidth": 0,
             "ticks": ""
            },
            "type": "choropleth"
           }
          ],
          "contour": [
           {
            "colorbar": {
             "outlinewidth": 0,
             "ticks": ""
            },
            "colorscale": [
             [
              0,
              "#0d0887"
             ],
             [
              0.1111111111111111,
              "#46039f"
             ],
             [
              0.2222222222222222,
              "#7201a8"
             ],
             [
              0.3333333333333333,
              "#9c179e"
             ],
             [
              0.4444444444444444,
              "#bd3786"
             ],
             [
              0.5555555555555556,
              "#d8576b"
             ],
             [
              0.6666666666666666,
              "#ed7953"
             ],
             [
              0.7777777777777778,
              "#fb9f3a"
             ],
             [
              0.8888888888888888,
              "#fdca26"
             ],
             [
              1,
              "#f0f921"
             ]
            ],
            "type": "contour"
           }
          ],
          "contourcarpet": [
           {
            "colorbar": {
             "outlinewidth": 0,
             "ticks": ""
            },
            "type": "contourcarpet"
           }
          ],
          "heatmap": [
           {
            "colorbar": {
             "outlinewidth": 0,
             "ticks": ""
            },
            "colorscale": [
             [
              0,
              "#0d0887"
             ],
             [
              0.1111111111111111,
              "#46039f"
             ],
             [
              0.2222222222222222,
              "#7201a8"
             ],
             [
              0.3333333333333333,
              "#9c179e"
             ],
             [
              0.4444444444444444,
              "#bd3786"
             ],
             [
              0.5555555555555556,
              "#d8576b"
             ],
             [
              0.6666666666666666,
              "#ed7953"
             ],
             [
              0.7777777777777778,
              "#fb9f3a"
             ],
             [
              0.8888888888888888,
              "#fdca26"
             ],
             [
              1,
              "#f0f921"
             ]
            ],
            "type": "heatmap"
           }
          ],
          "heatmapgl": [
           {
            "colorbar": {
             "outlinewidth": 0,
             "ticks": ""
            },
            "colorscale": [
             [
              0,
              "#0d0887"
             ],
             [
              0.1111111111111111,
              "#46039f"
             ],
             [
              0.2222222222222222,
              "#7201a8"
             ],
             [
              0.3333333333333333,
              "#9c179e"
             ],
             [
              0.4444444444444444,
              "#bd3786"
             ],
             [
              0.5555555555555556,
              "#d8576b"
             ],
             [
              0.6666666666666666,
              "#ed7953"
             ],
             [
              0.7777777777777778,
              "#fb9f3a"
             ],
             [
              0.8888888888888888,
              "#fdca26"
             ],
             [
              1,
              "#f0f921"
             ]
            ],
            "type": "heatmapgl"
           }
          ],
          "histogram": [
           {
            "marker": {
             "colorbar": {
              "outlinewidth": 0,
              "ticks": ""
             }
            },
            "type": "histogram"
           }
          ],
          "histogram2d": [
           {
            "colorbar": {
             "outlinewidth": 0,
             "ticks": ""
            },
            "colorscale": [
             [
              0,
              "#0d0887"
             ],
             [
              0.1111111111111111,
              "#46039f"
             ],
             [
              0.2222222222222222,
              "#7201a8"
             ],
             [
              0.3333333333333333,
              "#9c179e"
             ],
             [
              0.4444444444444444,
              "#bd3786"
             ],
             [
              0.5555555555555556,
              "#d8576b"
             ],
             [
              0.6666666666666666,
              "#ed7953"
             ],
             [
              0.7777777777777778,
              "#fb9f3a"
             ],
             [
              0.8888888888888888,
              "#fdca26"
             ],
             [
              1,
              "#f0f921"
             ]
            ],
            "type": "histogram2d"
           }
          ],
          "histogram2dcontour": [
           {
            "colorbar": {
             "outlinewidth": 0,
             "ticks": ""
            },
            "colorscale": [
             [
              0,
              "#0d0887"
             ],
             [
              0.1111111111111111,
              "#46039f"
             ],
             [
              0.2222222222222222,
              "#7201a8"
             ],
             [
              0.3333333333333333,
              "#9c179e"
             ],
             [
              0.4444444444444444,
              "#bd3786"
             ],
             [
              0.5555555555555556,
              "#d8576b"
             ],
             [
              0.6666666666666666,
              "#ed7953"
             ],
             [
              0.7777777777777778,
              "#fb9f3a"
             ],
             [
              0.8888888888888888,
              "#fdca26"
             ],
             [
              1,
              "#f0f921"
             ]
            ],
            "type": "histogram2dcontour"
           }
          ],
          "mesh3d": [
           {
            "colorbar": {
             "outlinewidth": 0,
             "ticks": ""
            },
            "type": "mesh3d"
           }
          ],
          "parcoords": [
           {
            "line": {
             "colorbar": {
              "outlinewidth": 0,
              "ticks": ""
             }
            },
            "type": "parcoords"
           }
          ],
          "scatter": [
           {
            "marker": {
             "colorbar": {
              "outlinewidth": 0,
              "ticks": ""
             }
            },
            "type": "scatter"
           }
          ],
          "scatter3d": [
           {
            "line": {
             "colorbar": {
              "outlinewidth": 0,
              "ticks": ""
             }
            },
            "marker": {
             "colorbar": {
              "outlinewidth": 0,
              "ticks": ""
             }
            },
            "type": "scatter3d"
           }
          ],
          "scattercarpet": [
           {
            "marker": {
             "colorbar": {
              "outlinewidth": 0,
              "ticks": ""
             }
            },
            "type": "scattercarpet"
           }
          ],
          "scattergeo": [
           {
            "marker": {
             "colorbar": {
              "outlinewidth": 0,
              "ticks": ""
             }
            },
            "type": "scattergeo"
           }
          ],
          "scattergl": [
           {
            "marker": {
             "colorbar": {
              "outlinewidth": 0,
              "ticks": ""
             }
            },
            "type": "scattergl"
           }
          ],
          "scattermapbox": [
           {
            "marker": {
             "colorbar": {
              "outlinewidth": 0,
              "ticks": ""
             }
            },
            "type": "scattermapbox"
           }
          ],
          "scatterpolar": [
           {
            "marker": {
             "colorbar": {
              "outlinewidth": 0,
              "ticks": ""
             }
            },
            "type": "scatterpolar"
           }
          ],
          "scatterpolargl": [
           {
            "marker": {
             "colorbar": {
              "outlinewidth": 0,
              "ticks": ""
             }
            },
            "type": "scatterpolargl"
           }
          ],
          "scatterternary": [
           {
            "marker": {
             "colorbar": {
              "outlinewidth": 0,
              "ticks": ""
             }
            },
            "type": "scatterternary"
           }
          ],
          "surface": [
           {
            "colorbar": {
             "outlinewidth": 0,
             "ticks": ""
            },
            "colorscale": [
             [
              0,
              "#0d0887"
             ],
             [
              0.1111111111111111,
              "#46039f"
             ],
             [
              0.2222222222222222,
              "#7201a8"
             ],
             [
              0.3333333333333333,
              "#9c179e"
             ],
             [
              0.4444444444444444,
              "#bd3786"
             ],
             [
              0.5555555555555556,
              "#d8576b"
             ],
             [
              0.6666666666666666,
              "#ed7953"
             ],
             [
              0.7777777777777778,
              "#fb9f3a"
             ],
             [
              0.8888888888888888,
              "#fdca26"
             ],
             [
              1,
              "#f0f921"
             ]
            ],
            "type": "surface"
           }
          ],
          "table": [
           {
            "cells": {
             "fill": {
              "color": "#EBF0F8"
             },
             "line": {
              "color": "white"
             }
            },
            "header": {
             "fill": {
              "color": "#C8D4E3"
             },
             "line": {
              "color": "white"
             }
            },
            "type": "table"
           }
          ]
         },
         "layout": {
          "annotationdefaults": {
           "arrowcolor": "#2a3f5f",
           "arrowhead": 0,
           "arrowwidth": 1
          },
          "colorscale": {
           "diverging": [
            [
             0,
             "#8e0152"
            ],
            [
             0.1,
             "#c51b7d"
            ],
            [
             0.2,
             "#de77ae"
            ],
            [
             0.3,
             "#f1b6da"
            ],
            [
             0.4,
             "#fde0ef"
            ],
            [
             0.5,
             "#f7f7f7"
            ],
            [
             0.6,
             "#e6f5d0"
            ],
            [
             0.7,
             "#b8e186"
            ],
            [
             0.8,
             "#7fbc41"
            ],
            [
             0.9,
             "#4d9221"
            ],
            [
             1,
             "#276419"
            ]
           ],
           "sequential": [
            [
             0,
             "#0d0887"
            ],
            [
             0.1111111111111111,
             "#46039f"
            ],
            [
             0.2222222222222222,
             "#7201a8"
            ],
            [
             0.3333333333333333,
             "#9c179e"
            ],
            [
             0.4444444444444444,
             "#bd3786"
            ],
            [
             0.5555555555555556,
             "#d8576b"
            ],
            [
             0.6666666666666666,
             "#ed7953"
            ],
            [
             0.7777777777777778,
             "#fb9f3a"
            ],
            [
             0.8888888888888888,
             "#fdca26"
            ],
            [
             1,
             "#f0f921"
            ]
           ],
           "sequentialminus": [
            [
             0,
             "#0d0887"
            ],
            [
             0.1111111111111111,
             "#46039f"
            ],
            [
             0.2222222222222222,
             "#7201a8"
            ],
            [
             0.3333333333333333,
             "#9c179e"
            ],
            [
             0.4444444444444444,
             "#bd3786"
            ],
            [
             0.5555555555555556,
             "#d8576b"
            ],
            [
             0.6666666666666666,
             "#ed7953"
            ],
            [
             0.7777777777777778,
             "#fb9f3a"
            ],
            [
             0.8888888888888888,
             "#fdca26"
            ],
            [
             1,
             "#f0f921"
            ]
           ]
          },
          "colorway": [
           "#636efa",
           "#EF553B",
           "#00cc96",
           "#ab63fa",
           "#FFA15A",
           "#19d3f3",
           "#FF6692",
           "#B6E880",
           "#FF97FF",
           "#FECB52"
          ],
          "font": {
           "color": "#2a3f5f"
          },
          "geo": {
           "bgcolor": "white",
           "lakecolor": "white",
           "landcolor": "#E5ECF6",
           "showlakes": true,
           "showland": true,
           "subunitcolor": "white"
          },
          "hoverlabel": {
           "align": "left"
          },
          "hovermode": "closest",
          "mapbox": {
           "style": "light"
          },
          "paper_bgcolor": "white",
          "plot_bgcolor": "#E5ECF6",
          "polar": {
           "angularaxis": {
            "gridcolor": "white",
            "linecolor": "white",
            "ticks": ""
           },
           "bgcolor": "#E5ECF6",
           "radialaxis": {
            "gridcolor": "white",
            "linecolor": "white",
            "ticks": ""
           }
          },
          "scene": {
           "xaxis": {
            "backgroundcolor": "#E5ECF6",
            "gridcolor": "white",
            "gridwidth": 2,
            "linecolor": "white",
            "showbackground": true,
            "ticks": "",
            "zerolinecolor": "white"
           },
           "yaxis": {
            "backgroundcolor": "#E5ECF6",
            "gridcolor": "white",
            "gridwidth": 2,
            "linecolor": "white",
            "showbackground": true,
            "ticks": "",
            "zerolinecolor": "white"
           },
           "zaxis": {
            "backgroundcolor": "#E5ECF6",
            "gridcolor": "white",
            "gridwidth": 2,
            "linecolor": "white",
            "showbackground": true,
            "ticks": "",
            "zerolinecolor": "white"
           }
          },
          "shapedefaults": {
           "line": {
            "color": "#2a3f5f"
           }
          },
          "ternary": {
           "aaxis": {
            "gridcolor": "white",
            "linecolor": "white",
            "ticks": ""
           },
           "baxis": {
            "gridcolor": "white",
            "linecolor": "white",
            "ticks": ""
           },
           "bgcolor": "#E5ECF6",
           "caxis": {
            "gridcolor": "white",
            "linecolor": "white",
            "ticks": ""
           }
          },
          "title": {
           "x": 0.05
          },
          "xaxis": {
           "automargin": true,
           "gridcolor": "white",
           "linecolor": "white",
           "ticks": "",
           "zerolinecolor": "white",
           "zerolinewidth": 2
          },
          "yaxis": {
           "automargin": true,
           "gridcolor": "white",
           "linecolor": "white",
           "ticks": "",
           "zerolinecolor": "white",
           "zerolinewidth": 2
          }
         }
        }
       }
      },
      "text/html": [
       "<div>\n",
       "        \n",
       "        \n",
       "            <div id=\"657547f3-1cb1-46b1-8b8d-6406c84fe496\" class=\"plotly-graph-div\" style=\"height:600px; width:100%;\"></div>\n",
       "            <script type=\"text/javascript\">\n",
       "                require([\"plotly\"], function(Plotly) {\n",
       "                    window.PLOTLYENV=window.PLOTLYENV || {};\n",
       "                    \n",
       "                if (document.getElementById(\"657547f3-1cb1-46b1-8b8d-6406c84fe496\")) {\n",
       "                    Plotly.newPlot(\n",
       "                        '657547f3-1cb1-46b1-8b8d-6406c84fe496',\n",
       "                        [{\"coloraxis\": \"coloraxis\", \"geo\": \"geo\", \"hoverlabel\": {\"namelength\": 0}, \"hovertemplate\": \"<b>%{hovertext}</b><br><br>locations=%{location}<br>color=%{z}\", \"hovertext\": [\"TUR\", \"CUB\", \"INA\", \"VIE\", \"VEN\", \"MAD\", \"RUS\", \"CHI\", \"BUL\", \"CRO\", \"BLR\", \"BAN\", \"NCA\", \"IND\", \"KOR\", \"CHN\", \"PRK\", \"COL\", \"DOM\", \"USA\", \"FRA\", \"PNG\", \"BRA\", \"TPE\", \"CAN\", \"ECU\", \"MRI\", \"UZB\", \"ROU\", \"PER\", \"PUR\", \"SRI\", \"GBR\", \"JPN\", \"ITA\", \"TKM\", \"KAZ\", \"KSA\", \"IRI\", \"MEX\", \"MDA\", \"POL\", \"UKR\", \"BEL\", \"NOR\", \"AZE\", \"DEN\", \"ESP\", \"TUN\", \"ISR\", \"SOL\", \"MGL\", \"LAT\", \"ARM\", \"FIN\", \"AUS\", \"RSA\", \"ISL\", \"MAS\", \"SUI\", \"GUM\", \"BOT\", \"GEO\", \"GER\", \"NRU\", \"LBN\", \"NZL\", \"SWE\", \"URU\", \"GUA\", \"CZE\", \"SAM\", \"KIR\", \"LBA\", \"LTU\", \"MLT\", \"SVK\", \"IRL\", \"ALB\", \"HUN\", \"UAE\", \"KGZ\", \"IRQ\", \"MHL\", \"TUV\", \"VIN\", \"AUT\", \"CMR\", \"GHA\", \"QAT\", \"ALG\", \"SGP\", \"EST\", \"TGA\", \"SYR\", \"NED\", \"PHL\"], \"locations\": [\"TUR\", \"CUB\", \"INA\", \"VIE\", \"VEN\", \"MAD\", \"RUS\", \"CHI\", \"BUL\", \"CRO\", \"BLR\", \"BAN\", \"NCA\", \"IND\", \"KOR\", \"CHN\", \"PRK\", \"COL\", \"DOM\", \"USA\", \"FRA\", \"PNG\", \"BRA\", \"TPE\", \"CAN\", \"ECU\", \"MRI\", \"UZB\", \"ROU\", \"PER\", \"PUR\", \"SRI\", \"GBR\", \"JPN\", \"ITA\", \"TKM\", \"KAZ\", \"KSA\", \"IRI\", \"MEX\", \"MDA\", \"POL\", \"UKR\", \"BEL\", \"NOR\", \"AZE\", \"DEN\", \"ESP\", \"TUN\", \"ISR\", \"SOL\", \"MGL\", \"LAT\", \"ARM\", \"FIN\", \"AUS\", \"RSA\", \"ISL\", \"MAS\", \"SUI\", \"GUM\", \"BOT\", \"GEO\", \"GER\", \"NRU\", \"LBN\", \"NZL\", \"SWE\", \"URU\", \"GUA\", \"CZE\", \"SAM\", \"KIR\", \"LBA\", \"LTU\", \"MLT\", \"SVK\", \"IRL\", \"ALB\", \"HUN\", \"UAE\", \"KGZ\", \"IRQ\", \"MHL\", \"TUV\", \"VIN\", \"AUT\", \"CMR\", \"GHA\", \"QAT\", \"ALG\", \"SGP\", \"EST\", \"TGA\", \"SYR\", \"NED\", \"PHL\"], \"name\": \"\", \"type\": \"choropleth\", \"z\": [24, 8, 16, 14, 24, 8, 32, 10, 12, 12, 26, 4, 2, 14, 38, 40, 24, 32, 10, 40, 16, 6, 16, 28, 36, 20, 2, 20, 8, 10, 12, 16, 28, 40, 18, 28, 18, 8, 28, 22, 10, 12, 20, 4, 12, 6, 20, 14, 4, 10, 4, 10, 8, 18, 10, 10, 8, 4, 12, 4, 2, 4, 20, 14, 6, 2, 6, 4, 4, 4, 16, 8, 4, 4, 8, 2, 8, 8, 8, 6, 2, 4, 8, 2, 2, 2, 4, 2, 2, 2, 4, 2, 4, 4, 2, 2, 18]}],\n",
       "                        {\"coloraxis\": {\"colorbar\": {\"title\": {\"text\": \"color\"}}, \"colorscale\": [[0.0, \"#0d0887\"], [0.1111111111111111, \"#46039f\"], [0.2222222222222222, \"#7201a8\"], [0.3333333333333333, \"#9c179e\"], [0.4444444444444444, \"#bd3786\"], [0.5555555555555556, \"#d8576b\"], [0.6666666666666666, \"#ed7953\"], [0.7777777777777778, \"#fb9f3a\"], [0.8888888888888888, \"#fdca26\"], [1.0, \"#f0f921\"]]}, \"geo\": {\"center\": {}, \"domain\": {\"x\": [0.0, 0.98], \"y\": [0.0, 1.0]}}, \"height\": 600, \"legend\": {\"tracegroupgap\": 0}, \"margin\": {\"t\": 60}, \"template\": {\"data\": {\"bar\": [{\"error_x\": {\"color\": \"#2a3f5f\"}, \"error_y\": {\"color\": \"#2a3f5f\"}, \"marker\": {\"line\": {\"color\": \"#E5ECF6\", \"width\": 0.5}}, \"type\": \"bar\"}], \"barpolar\": [{\"marker\": {\"line\": {\"color\": \"#E5ECF6\", \"width\": 0.5}}, \"type\": \"barpolar\"}], \"carpet\": [{\"aaxis\": {\"endlinecolor\": \"#2a3f5f\", \"gridcolor\": \"white\", \"linecolor\": \"white\", \"minorgridcolor\": \"white\", \"startlinecolor\": \"#2a3f5f\"}, \"baxis\": {\"endlinecolor\": \"#2a3f5f\", \"gridcolor\": \"white\", \"linecolor\": \"white\", \"minorgridcolor\": \"white\", \"startlinecolor\": \"#2a3f5f\"}, \"type\": \"carpet\"}], \"choropleth\": [{\"colorbar\": {\"outlinewidth\": 0, \"ticks\": \"\"}, \"type\": \"choropleth\"}], \"contour\": [{\"colorbar\": {\"outlinewidth\": 0, \"ticks\": \"\"}, \"colorscale\": [[0.0, \"#0d0887\"], [0.1111111111111111, \"#46039f\"], [0.2222222222222222, \"#7201a8\"], [0.3333333333333333, \"#9c179e\"], [0.4444444444444444, \"#bd3786\"], [0.5555555555555556, \"#d8576b\"], [0.6666666666666666, \"#ed7953\"], [0.7777777777777778, \"#fb9f3a\"], [0.8888888888888888, \"#fdca26\"], [1.0, \"#f0f921\"]], \"type\": \"contour\"}], \"contourcarpet\": [{\"colorbar\": {\"outlinewidth\": 0, \"ticks\": \"\"}, \"type\": \"contourcarpet\"}], \"heatmap\": [{\"colorbar\": {\"outlinewidth\": 0, \"ticks\": \"\"}, \"colorscale\": [[0.0, \"#0d0887\"], [0.1111111111111111, \"#46039f\"], [0.2222222222222222, \"#7201a8\"], [0.3333333333333333, \"#9c179e\"], [0.4444444444444444, \"#bd3786\"], [0.5555555555555556, \"#d8576b\"], [0.6666666666666666, \"#ed7953\"], [0.7777777777777778, \"#fb9f3a\"], [0.8888888888888888, \"#fdca26\"], [1.0, \"#f0f921\"]], \"type\": \"heatmap\"}], \"heatmapgl\": [{\"colorbar\": {\"outlinewidth\": 0, \"ticks\": \"\"}, \"colorscale\": [[0.0, \"#0d0887\"], [0.1111111111111111, \"#46039f\"], [0.2222222222222222, \"#7201a8\"], [0.3333333333333333, \"#9c179e\"], [0.4444444444444444, \"#bd3786\"], [0.5555555555555556, \"#d8576b\"], [0.6666666666666666, \"#ed7953\"], [0.7777777777777778, \"#fb9f3a\"], [0.8888888888888888, \"#fdca26\"], [1.0, \"#f0f921\"]], \"type\": \"heatmapgl\"}], \"histogram\": [{\"marker\": {\"colorbar\": {\"outlinewidth\": 0, \"ticks\": \"\"}}, \"type\": \"histogram\"}], \"histogram2d\": [{\"colorbar\": {\"outlinewidth\": 0, \"ticks\": \"\"}, \"colorscale\": [[0.0, \"#0d0887\"], [0.1111111111111111, \"#46039f\"], [0.2222222222222222, \"#7201a8\"], [0.3333333333333333, \"#9c179e\"], [0.4444444444444444, \"#bd3786\"], [0.5555555555555556, \"#d8576b\"], [0.6666666666666666, \"#ed7953\"], [0.7777777777777778, \"#fb9f3a\"], [0.8888888888888888, \"#fdca26\"], [1.0, \"#f0f921\"]], \"type\": \"histogram2d\"}], \"histogram2dcontour\": [{\"colorbar\": {\"outlinewidth\": 0, \"ticks\": \"\"}, \"colorscale\": [[0.0, \"#0d0887\"], [0.1111111111111111, \"#46039f\"], [0.2222222222222222, \"#7201a8\"], [0.3333333333333333, \"#9c179e\"], [0.4444444444444444, \"#bd3786\"], [0.5555555555555556, \"#d8576b\"], [0.6666666666666666, \"#ed7953\"], [0.7777777777777778, \"#fb9f3a\"], [0.8888888888888888, \"#fdca26\"], [1.0, \"#f0f921\"]], \"type\": \"histogram2dcontour\"}], \"mesh3d\": [{\"colorbar\": {\"outlinewidth\": 0, \"ticks\": \"\"}, \"type\": \"mesh3d\"}], \"parcoords\": [{\"line\": {\"colorbar\": {\"outlinewidth\": 0, \"ticks\": \"\"}}, \"type\": \"parcoords\"}], \"scatter\": [{\"marker\": {\"colorbar\": {\"outlinewidth\": 0, \"ticks\": \"\"}}, \"type\": \"scatter\"}], \"scatter3d\": [{\"line\": {\"colorbar\": {\"outlinewidth\": 0, \"ticks\": \"\"}}, \"marker\": {\"colorbar\": {\"outlinewidth\": 0, \"ticks\": \"\"}}, \"type\": \"scatter3d\"}], \"scattercarpet\": [{\"marker\": {\"colorbar\": {\"outlinewidth\": 0, \"ticks\": \"\"}}, \"type\": \"scattercarpet\"}], \"scattergeo\": [{\"marker\": {\"colorbar\": {\"outlinewidth\": 0, \"ticks\": \"\"}}, \"type\": \"scattergeo\"}], \"scattergl\": [{\"marker\": {\"colorbar\": {\"outlinewidth\": 0, \"ticks\": \"\"}}, \"type\": \"scattergl\"}], \"scattermapbox\": [{\"marker\": {\"colorbar\": {\"outlinewidth\": 0, \"ticks\": \"\"}}, \"type\": \"scattermapbox\"}], \"scatterpolar\": [{\"marker\": {\"colorbar\": {\"outlinewidth\": 0, \"ticks\": \"\"}}, \"type\": \"scatterpolar\"}], \"scatterpolargl\": [{\"marker\": {\"colorbar\": {\"outlinewidth\": 0, \"ticks\": \"\"}}, \"type\": \"scatterpolargl\"}], \"scatterternary\": [{\"marker\": {\"colorbar\": {\"outlinewidth\": 0, \"ticks\": \"\"}}, \"type\": \"scatterternary\"}], \"surface\": [{\"colorbar\": {\"outlinewidth\": 0, \"ticks\": \"\"}, \"colorscale\": [[0.0, \"#0d0887\"], [0.1111111111111111, \"#46039f\"], [0.2222222222222222, \"#7201a8\"], [0.3333333333333333, \"#9c179e\"], [0.4444444444444444, \"#bd3786\"], [0.5555555555555556, \"#d8576b\"], [0.6666666666666666, \"#ed7953\"], [0.7777777777777778, \"#fb9f3a\"], [0.8888888888888888, \"#fdca26\"], [1.0, \"#f0f921\"]], \"type\": \"surface\"}], \"table\": [{\"cells\": {\"fill\": {\"color\": \"#EBF0F8\"}, \"line\": {\"color\": \"white\"}}, \"header\": {\"fill\": {\"color\": \"#C8D4E3\"}, \"line\": {\"color\": \"white\"}}, \"type\": \"table\"}]}, \"layout\": {\"annotationdefaults\": {\"arrowcolor\": \"#2a3f5f\", \"arrowhead\": 0, \"arrowwidth\": 1}, \"colorscale\": {\"diverging\": [[0, \"#8e0152\"], [0.1, \"#c51b7d\"], [0.2, \"#de77ae\"], [0.3, \"#f1b6da\"], [0.4, \"#fde0ef\"], [0.5, \"#f7f7f7\"], [0.6, \"#e6f5d0\"], [0.7, \"#b8e186\"], [0.8, \"#7fbc41\"], [0.9, \"#4d9221\"], [1, \"#276419\"]], \"sequential\": [[0.0, \"#0d0887\"], [0.1111111111111111, \"#46039f\"], [0.2222222222222222, \"#7201a8\"], [0.3333333333333333, \"#9c179e\"], [0.4444444444444444, \"#bd3786\"], [0.5555555555555556, \"#d8576b\"], [0.6666666666666666, \"#ed7953\"], [0.7777777777777778, \"#fb9f3a\"], [0.8888888888888888, \"#fdca26\"], [1.0, \"#f0f921\"]], \"sequentialminus\": [[0.0, \"#0d0887\"], [0.1111111111111111, \"#46039f\"], [0.2222222222222222, \"#7201a8\"], [0.3333333333333333, \"#9c179e\"], [0.4444444444444444, \"#bd3786\"], [0.5555555555555556, \"#d8576b\"], [0.6666666666666666, \"#ed7953\"], [0.7777777777777778, \"#fb9f3a\"], [0.8888888888888888, \"#fdca26\"], [1.0, \"#f0f921\"]]}, \"colorway\": [\"#636efa\", \"#EF553B\", \"#00cc96\", \"#ab63fa\", \"#FFA15A\", \"#19d3f3\", \"#FF6692\", \"#B6E880\", \"#FF97FF\", \"#FECB52\"], \"font\": {\"color\": \"#2a3f5f\"}, \"geo\": {\"bgcolor\": \"white\", \"lakecolor\": \"white\", \"landcolor\": \"#E5ECF6\", \"showlakes\": true, \"showland\": true, \"subunitcolor\": \"white\"}, \"hoverlabel\": {\"align\": \"left\"}, \"hovermode\": \"closest\", \"mapbox\": {\"style\": \"light\"}, \"paper_bgcolor\": \"white\", \"plot_bgcolor\": \"#E5ECF6\", \"polar\": {\"angularaxis\": {\"gridcolor\": \"white\", \"linecolor\": \"white\", \"ticks\": \"\"}, \"bgcolor\": \"#E5ECF6\", \"radialaxis\": {\"gridcolor\": \"white\", \"linecolor\": \"white\", \"ticks\": \"\"}}, \"scene\": {\"xaxis\": {\"backgroundcolor\": \"#E5ECF6\", \"gridcolor\": \"white\", \"gridwidth\": 2, \"linecolor\": \"white\", \"showbackground\": true, \"ticks\": \"\", \"zerolinecolor\": \"white\"}, \"yaxis\": {\"backgroundcolor\": \"#E5ECF6\", \"gridcolor\": \"white\", \"gridwidth\": 2, \"linecolor\": \"white\", \"showbackground\": true, \"ticks\": \"\", \"zerolinecolor\": \"white\"}, \"zaxis\": {\"backgroundcolor\": \"#E5ECF6\", \"gridcolor\": \"white\", \"gridwidth\": 2, \"linecolor\": \"white\", \"showbackground\": true, \"ticks\": \"\", \"zerolinecolor\": \"white\"}}, \"shapedefaults\": {\"line\": {\"color\": \"#2a3f5f\"}}, \"ternary\": {\"aaxis\": {\"gridcolor\": \"white\", \"linecolor\": \"white\", \"ticks\": \"\"}, \"baxis\": {\"gridcolor\": \"white\", \"linecolor\": \"white\", \"ticks\": \"\"}, \"bgcolor\": \"#E5ECF6\", \"caxis\": {\"gridcolor\": \"white\", \"linecolor\": \"white\", \"ticks\": \"\"}}, \"title\": {\"x\": 0.05}, \"xaxis\": {\"automargin\": true, \"gridcolor\": \"white\", \"linecolor\": \"white\", \"ticks\": \"\", \"zerolinecolor\": \"white\", \"zerolinewidth\": 2}, \"yaxis\": {\"automargin\": true, \"gridcolor\": \"white\", \"linecolor\": \"white\", \"ticks\": \"\", \"zerolinecolor\": \"white\", \"zerolinewidth\": 2}}}},\n",
       "                        {\"responsive\": true}\n",
       "                    ).then(function(){\n",
       "                            \n",
       "var gd = document.getElementById('657547f3-1cb1-46b1-8b8d-6406c84fe496');\n",
       "var x = new MutationObserver(function (mutations, observer) {{\n",
       "        var display = window.getComputedStyle(gd).display;\n",
       "        if (!display || display === 'none') {{\n",
       "            console.log([gd, 'removed!']);\n",
       "            Plotly.purge(gd);\n",
       "            observer.disconnect();\n",
       "        }}\n",
       "}});\n",
       "\n",
       "// Listen for the removal of the full notebook cells\n",
       "var notebookContainer = gd.closest('#notebook-container');\n",
       "if (notebookContainer) {{\n",
       "    x.observe(notebookContainer, {childList: true});\n",
       "}}\n",
       "\n",
       "// Listen for the clearing of the current output cell\n",
       "var outputEl = gd.closest('.output');\n",
       "if (outputEl) {{\n",
       "    x.observe(outputEl, {childList: true});\n",
       "}}\n",
       "\n",
       "                        })\n",
       "                };\n",
       "                });\n",
       "            </script>\n",
       "        </div>"
      ]
     },
     "metadata": {},
     "output_type": "display_data"
    }
   ],
   "source": [
    "fig = px.choropleth(locations=nat,\n",
    "                    color=freq, \n",
    "                    hover_name=nat, \n",
    "                    color_continuous_scale=px.colors.sequential.Plasma)\n",
    "fig.show()"
   ]
  }
 ],
 "metadata": {
  "kernelspec": {
   "display_name": "Python 3",
   "language": "python",
   "name": "python3"
  },
  "language_info": {
   "codemirror_mode": {
    "name": "ipython",
    "version": 3
   },
   "file_extension": ".py",
   "mimetype": "text/x-python",
   "name": "python",
   "nbconvert_exporter": "python",
   "pygments_lexer": "ipython3",
   "version": "3.7.4"
  }
 },
 "nbformat": 4,
 "nbformat_minor": 2
}
